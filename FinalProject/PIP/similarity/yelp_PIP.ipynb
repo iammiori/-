{
 "cells": [
  {
   "cell_type": "markdown",
   "metadata": {},
   "source": [
    "# PIP (Proximity–Impact–Popularity)"
   ]
  },
  {
   "cell_type": "code",
   "execution_count": 1,
   "metadata": {},
   "outputs": [],
   "source": [
    "from math import sqrt\n",
    "import pandas as pd\n",
    "import numpy as np\n",
    "import csv\n",
    "import collections"
   ]
  },
  {
   "cell_type": "markdown",
   "metadata": {},
   "source": [
    "### Rating (1~5) 일 때, Rmin, Rmax, Rmed "
   ]
  },
  {
   "cell_type": "code",
   "execution_count": 2,
   "metadata": {},
   "outputs": [
    {
     "name": "stdout",
     "output_type": "stream",
     "text": [
      "Rmin: 1, Rmax: 5, Rmed: 3.0\n"
     ]
    }
   ],
   "source": [
    "Rmin=1\n",
    "Rmax=5\n",
    "Rmed = (Rmin+Rmax)/2\n",
    "print(\"Rmin: {}, Rmax: {}, Rmed: {}\".format(Rmin,Rmax,Rmed))"
   ]
  },
  {
   "cell_type": "markdown",
   "metadata": {},
   "source": [
    "### 가게 store id - store name mapping"
   ]
  },
  {
   "cell_type": "code",
   "execution_count": 3,
   "metadata": {},
   "outputs": [],
   "source": [
    "business = pd.read_csv(\"business_clean.csv\")"
   ]
  },
  {
   "cell_type": "code",
   "execution_count": 4,
   "metadata": {},
   "outputs": [],
   "source": [
    "stores = {}"
   ]
  },
  {
   "cell_type": "code",
   "execution_count": 5,
   "metadata": {},
   "outputs": [],
   "source": [
    "id = 0\n",
    "with open('business_clean.csv','r',encoding=\"UTF-8\") as csvfile:\n",
    "    reader = csv.DictReader(csvfile)\n",
    "    for row in reader:\n",
    "        #print(row['name'])\n",
    "        stores[id] = row['name']\n",
    "        id+=1"
   ]
  },
  {
   "cell_type": "code",
   "execution_count": 6,
   "metadata": {},
   "outputs": [
    {
     "data": {
      "text/plain": [
       "dict"
      ]
     },
     "execution_count": 6,
     "metadata": {},
     "output_type": "execute_result"
    }
   ],
   "source": [
    "type(stores)"
   ]
  },
  {
   "cell_type": "markdown",
   "metadata": {},
   "source": [
    "### ui matrix"
   ]
  },
  {
   "cell_type": "code",
   "execution_count": 7,
   "metadata": {},
   "outputs": [],
   "source": [
    "ui_csv = pd.read_csv(\"review_top.csv\")"
   ]
  },
  {
   "cell_type": "code",
   "execution_count": 8,
   "metadata": {},
   "outputs": [
    {
     "data": {
      "text/html": [
       "<div>\n",
       "<style scoped>\n",
       "    .dataframe tbody tr th:only-of-type {\n",
       "        vertical-align: middle;\n",
       "    }\n",
       "\n",
       "    .dataframe tbody tr th {\n",
       "        vertical-align: top;\n",
       "    }\n",
       "\n",
       "    .dataframe thead th {\n",
       "        text-align: right;\n",
       "    }\n",
       "</style>\n",
       "<table border=\"1\" class=\"dataframe\">\n",
       "  <thead>\n",
       "    <tr style=\"text-align: right;\">\n",
       "      <th></th>\n",
       "      <th>user</th>\n",
       "      <th>store</th>\n",
       "      <th>stars</th>\n",
       "    </tr>\n",
       "  </thead>\n",
       "  <tbody>\n",
       "    <tr>\n",
       "      <th>0</th>\n",
       "      <td>Chad</td>\n",
       "      <td>China King Super Buffet</td>\n",
       "      <td>3.0</td>\n",
       "    </tr>\n",
       "    <tr>\n",
       "      <th>1</th>\n",
       "      <td>Chad</td>\n",
       "      <td>Panda Express</td>\n",
       "      <td>3.0</td>\n",
       "    </tr>\n",
       "    <tr>\n",
       "      <th>2</th>\n",
       "      <td>Margret</td>\n",
       "      <td>Gap</td>\n",
       "      <td>3.0</td>\n",
       "    </tr>\n",
       "    <tr>\n",
       "      <th>3</th>\n",
       "      <td>Shannon</td>\n",
       "      <td>Encore Beach Club</td>\n",
       "      <td>2.0</td>\n",
       "    </tr>\n",
       "    <tr>\n",
       "      <th>4</th>\n",
       "      <td>Jennifer</td>\n",
       "      <td>Wright Bar</td>\n",
       "      <td>4.0</td>\n",
       "    </tr>\n",
       "  </tbody>\n",
       "</table>\n",
       "</div>"
      ],
      "text/plain": [
       "       user                    store  stars\n",
       "0      Chad  China King Super Buffet    3.0\n",
       "1      Chad            Panda Express    3.0\n",
       "2   Margret                      Gap    3.0\n",
       "3   Shannon        Encore Beach Club    2.0\n",
       "4  Jennifer               Wright Bar    4.0"
      ]
     },
     "execution_count": 8,
     "metadata": {},
     "output_type": "execute_result"
    }
   ],
   "source": [
    "ui_csv.head()"
   ]
  },
  {
   "cell_type": "code",
   "execution_count": 9,
   "metadata": {},
   "outputs": [],
   "source": [
    "ui = {}\n",
    "with open(\"review_top.csv\",\"r\",encoding=\"UTF-8\") as csvfile2:\n",
    "    reader2 = csv.DictReader(csvfile2)\n",
    "    for row in reader2:\n",
    "        user = row['user']\n",
    "        store = row[\"store\"]\n",
    "        rating = row['stars']\n",
    "        ui.setdefault(user,{})\n",
    "        ui[user][store]=float(rating)"
   ]
  },
  {
   "cell_type": "code",
   "execution_count": 10,
   "metadata": {},
   "outputs": [
    {
     "data": {
      "text/plain": [
       "dict"
      ]
     },
     "execution_count": 10,
     "metadata": {},
     "output_type": "execute_result"
    }
   ],
   "source": [
    "type(ui)"
   ]
  },
  {
   "cell_type": "markdown",
   "metadata": {},
   "source": [
    "### user_list 를 뽑아 후에 indexing을 쉽게할 수 있음\n",
    "- ex) user_list[0] = 'Chad'"
   ]
  },
  {
   "cell_type": "code",
   "execution_count": 11,
   "metadata": {},
   "outputs": [],
   "source": [
    "user_list = [i for i in ui]"
   ]
  },
  {
   "cell_type": "code",
   "execution_count": 12,
   "metadata": {},
   "outputs": [
    {
     "data": {
      "text/plain": [
       "['Chad', 'Margret', 'Shannon', 'Jennifer', 'Nicole']"
      ]
     },
     "execution_count": 12,
     "metadata": {},
     "output_type": "execute_result"
    }
   ],
   "source": [
    "user_list[:5]"
   ]
  },
  {
   "cell_type": "markdown",
   "metadata": {},
   "source": [
    "### PIP 구현에 있어 필요한 요소들"
   ]
  },
  {
   "cell_type": "markdown",
   "metadata": {},
   "source": [
    "### -1. Agreement "
   ]
  },
  {
   "cell_type": "code",
   "execution_count": 13,
   "metadata": {},
   "outputs": [],
   "source": [
    "def Agreement(r1,r2):\n",
    "    if (r1>Rmed and r2<Rmed) or (r1<Rmed and r2>Rmed):\n",
    "        return False\n",
    "    else:\n",
    "        return True"
   ]
  },
  {
   "cell_type": "markdown",
   "metadata": {},
   "source": [
    "### -2. Distance "
   ]
  },
  {
   "cell_type": "code",
   "execution_count": 14,
   "metadata": {},
   "outputs": [],
   "source": [
    "def Distance(r1,r2):\n",
    "    agreement = Agreement(r1,r2)\n",
    "    if agreement == True:\n",
    "        return abs(r1-r2)\n",
    "    else:\n",
    "        return 2*abs(r1-r2)"
   ]
  },
  {
   "cell_type": "markdown",
   "metadata": {},
   "source": [
    "### -3. Proximity"
   ]
  },
  {
   "cell_type": "code",
   "execution_count": 15,
   "metadata": {},
   "outputs": [],
   "source": [
    "def Proximity(r1,r2):\n",
    "    distance = Distance(r1,r2)\n",
    "    return ((2*(Rmax - Rmin)+1) - distance)**2"
   ]
  },
  {
   "cell_type": "markdown",
   "metadata": {},
   "source": [
    "### -4. Impact"
   ]
  },
  {
   "cell_type": "code",
   "execution_count": 16,
   "metadata": {},
   "outputs": [],
   "source": [
    "def Impact(r1,r2):\n",
    "    agreement = Agreement(r1,r2)\n",
    "    if agreement == True:\n",
    "        return (abs(r1-Rmed)+1)*(abs(r2-Rmed)+1)\n",
    "    else:\n",
    "        return 1/((abs(r1-Rmed)+1)*(abs(r2-Rmed)+1))"
   ]
  },
  {
   "cell_type": "markdown",
   "metadata": {},
   "source": [
    "### -5. avg"
   ]
  },
  {
   "cell_type": "code",
   "execution_count": 17,
   "metadata": {},
   "outputs": [],
   "source": [
    "def avg(my_list):\n",
    "    total = 0.0\n",
    "    for rating in my_list:\n",
    "        total += rating\n",
    "    return total/len(my_list)"
   ]
  },
  {
   "cell_type": "markdown",
   "metadata": {},
   "source": [
    "### -6. Popularity"
   ]
  },
  {
   "cell_type": "code",
   "execution_count": 18,
   "metadata": {},
   "outputs": [],
   "source": [
    "def Popularity(r1,r2,item):\n",
    "    allRating = []\n",
    "    for i in item_all_rating[item]:\n",
    "        allRating.append(item_all_rating[item][i])\n",
    "    mean = avg(allRating)\n",
    "    if (r1>mean and r2>mean) or (r1<mean and r2<mean):\n",
    "        return 1+(((r1+r2)/2)-mean)**2\n",
    "    else:\n",
    "        return 1"
   ]
  },
  {
   "cell_type": "markdown",
   "metadata": {},
   "source": [
    "### -7. co-rated 찾아서 PIP Similarity 구현"
   ]
  },
  {
   "cell_type": "code",
   "execution_count": 19,
   "metadata": {},
   "outputs": [],
   "source": [
    "# item 별 user 평점\n",
    "result = collections.defaultdict(dict)\n",
    "for person in ui:\n",
    "    for item in ui[person]:\n",
    "        # Flip item and person\n",
    "        result[item][person] =ui[person][item]\n",
    "item_all_rating = result"
   ]
  },
  {
   "cell_type": "code",
   "execution_count": 20,
   "metadata": {},
   "outputs": [],
   "source": [
    "def PIP(user1,user2):\n",
    "    co_rating = {}\n",
    "    for item in ui[user1]:\n",
    "        if item in ui[user2]:\n",
    "            co_rating[item] = 1\n",
    "    if len(co_rating)==0: return 0\n",
    "    \n",
    "    sim = 0\n",
    "    for item in ui[user1]:\n",
    "        if item in ui[user2]:\n",
    "            r1 = ui[user1][item]\n",
    "            r2 = ui[user2][item]\n",
    "            sim += Proximity(r1,r2)*Impact(r1,r2)*Popularity(r1,r2,item)\n",
    "            return(sim)\n",
    "    #print(\"finsih\")\n",
    "    #rint(\"{} and {} sim is {}\".format(user1,user2,sim))"
   ]
  },
  {
   "cell_type": "markdown",
   "metadata": {},
   "source": [
    "### -8. PIP 단일 계산"
   ]
  },
  {
   "cell_type": "code",
   "execution_count": 21,
   "metadata": {},
   "outputs": [
    {
     "data": {
      "text/plain": [
       "171.55555555555551"
      ]
     },
     "execution_count": 21,
     "metadata": {},
     "output_type": "execute_result"
    }
   ],
   "source": [
    "PIP('Chad','Yi')"
   ]
  },
  {
   "cell_type": "markdown",
   "metadata": {},
   "source": [
    "### -9. Similarity matrix 구현"
   ]
  },
  {
   "cell_type": "code",
   "execution_count": 22,
   "metadata": {},
   "outputs": [
    {
     "data": {
      "text/plain": [
       "array([[0., 0., 0., ..., 0., 0., 0.],\n",
       "       [0., 0., 0., ..., 0., 0., 0.],\n",
       "       [0., 0., 0., ..., 0., 0., 0.],\n",
       "       ...,\n",
       "       [0., 0., 0., ..., 0., 0., 0.],\n",
       "       [0., 0., 0., ..., 0., 0., 0.],\n",
       "       [0., 0., 0., ..., 0., 0., 0.]])"
      ]
     },
     "execution_count": 22,
     "metadata": {},
     "output_type": "execute_result"
    }
   ],
   "source": [
    "NumUsers= len(ui)\n",
    "Sim_mat = np.full((NumUsers,NumUsers),0.0)\n",
    "Sim_mat"
   ]
  },
  {
   "cell_type": "code",
   "execution_count": 23,
   "metadata": {},
   "outputs": [
    {
     "name": "stdout",
     "output_type": "stream",
     "text": [
      "[[ 101.25        128.          128.         ...    1.5\n",
      "     0.            0.        ]\n",
      " [ 128.          562.04081633  180.89795918 ...    0.\n",
      "     0.            0.        ]\n",
      " [ 128.          180.89795918 1165.         ...    0.\n",
      "     0.            0.        ]\n",
      " ...\n",
      " [   1.5           0.            0.         ...   81.\n",
      "     0.            0.        ]\n",
      " [   0.            0.            0.         ...    0.\n",
      "  1327.71972656    0.        ]\n",
      " [   0.            0.            0.         ...    0.\n",
      "     0.           81.        ]]\n"
     ]
    }
   ],
   "source": [
    "for u in range(0,NumUsers):\n",
    "    for v in range(u,NumUsers):\n",
    "        a = user_list[u]\n",
    "        b = user_list[v]\n",
    "        cal = PIP(a,b)\n",
    "        Sim_mat[u,v] = cal\n",
    "        Sim_mat[v,u] = Sim_mat[u,v]\n",
    "print(Sim_mat)"
   ]
  },
  {
   "cell_type": "markdown",
   "metadata": {},
   "source": [
    "# -10. Predicted rating 구현 및 RMSE 로 Evaluation"
   ]
  },
  {
   "cell_type": "code",
   "execution_count": 24,
   "metadata": {},
   "outputs": [],
   "source": [
    "def basic_CF(mat, Sim, k):\n",
    "    predicted_rating = np.array([[0.0 for col in range(np.size(mat, 1))] for row in range(np.size(mat, 0))])\n",
    "        \n",
    "    k_neighbors = np.argsort(-Sim)\n",
    "    k_neighbors = np.delete(k_neighbors,np.s_[k:],1)\n",
    "    \n",
    "    NumUsers = np.size(mat,axis=0)\n",
    "    \n",
    "    for u in range(NumUsers):\n",
    "        list_sim = Sim[u,k_neighbors[u,]]\n",
    "        list_rating = mat[k_neighbors[u,],].astype('float64')\n",
    "        \n",
    "        predicted_rating[u,] = np.sum(list_sim.reshape(-1,1)*list_rating,axis=0)/np.sum(list_sim)\n",
    "        \n",
    "    return predicted_rating"
   ]
  },
  {
   "cell_type": "code",
   "execution_count": 30,
   "metadata": {},
   "outputs": [
    {
     "name": "stdout",
     "output_type": "stream",
     "text": [
      "[[0.         0.         0.         ... 0.         0.         1.54229857]\n",
      " [0.         0.         0.         ... 0.         0.         0.        ]\n",
      " [0.         0.         0.         ... 0.         0.         0.        ]\n",
      " ...\n",
      " [0.         0.         0.         ... 0.         0.         0.        ]\n",
      " [0.         0.         0.         ... 0.         0.         0.        ]\n",
      " [0.         0.         0.         ... 0.         0.         0.        ]]\n"
     ]
    }
   ],
   "source": [
    "ui_matrix=np.load(\"ui_matrix.npy\")\n",
    "ui_matrix[np.isnan(ui_matrix)] = 0\n",
    "pre=basic_CF(ui_matrix, Sim_mat, 3)\n",
    "print(pre)"
   ]
  },
  {
   "cell_type": "code",
   "execution_count": 31,
   "metadata": {},
   "outputs": [],
   "source": [
    "def RMSE(ui, pre):\n",
    "    a_total=0\n",
    "    for i in range(np.size(ui, 0)):\n",
    "        for j in range(np.size(ui, 1)):\n",
    "            a=(ui_matrix[i][j]-pre[i][j])**2\n",
    "            a_total+=a\n",
    "    total=a_total/(380*21601)\n",
    "    total=np.sqrt(total)\n",
    "    return total"
   ]
  },
  {
   "cell_type": "code",
   "execution_count": 32,
   "metadata": {},
   "outputs": [
    {
     "name": "stdout",
     "output_type": "stream",
     "text": [
      "0.33208159802355747\n"
     ]
    }
   ],
   "source": [
    "print(RMSE(ui_matrix, pre))"
   ]
  },
  {
   "cell_type": "markdown",
   "metadata": {},
   "source": [
    "# 다른 similarity 측정 방법과 비교"
   ]
  },
  {
   "cell_type": "code",
   "execution_count": 33,
   "metadata": {},
   "outputs": [],
   "source": [
    "cos=np.load(\"COS_similarity.npy\")\n",
    "pcc=np.load(\"PCC_similiarity.npy\")\n",
    "jac=np.load(\"JAC_similarity.npy\")"
   ]
  },
  {
   "cell_type": "code",
   "execution_count": 34,
   "metadata": {},
   "outputs": [],
   "source": [
    "cos_pre=basic_CF(ui_matrix, cos, 10)\n",
    "pcc_pre=basic_CF(ui_matrix, pcc, 10)\n",
    "jac_pre=basic_CF(ui_matrix, jac, 10)"
   ]
  },
  {
   "cell_type": "code",
   "execution_count": 35,
   "metadata": {},
   "outputs": [
    {
     "name": "stdout",
     "output_type": "stream",
     "text": [
      "0.2907707842254746\n",
      "0.15984225940824584\n",
      "0.1120672480612189\n"
     ]
    }
   ],
   "source": [
    "print(RMSE(ui_matrix, pcc_pre))\n",
    "print(RMSE(ui_matrix, cos_pre))\n",
    "print(RMSE(ui_matrix, jac_pre))"
   ]
  },
  {
   "cell_type": "markdown",
   "metadata": {},
   "source": [
    "# 결론:\n",
    "\n",
    "전통적으로 많이 사용되는 유사도 측정법과 비교했을 때, PIP는 Cosine, PCC, Jaccard보다 더 높은 수치의 RMSE 결과가 나왔다. 이는 다른 방법론들에 비해 PIP의 측정률이 다소 떨어짐을 의미하며 PIP를 통해 추천시스템을 구현하기 위해서는 좀 더 많은 실험과 개선이 필요하다."
   ]
  }
 ],
 "metadata": {
  "kernelspec": {
   "display_name": "Python 3",
   "language": "python",
   "name": "python3"
  },
  "language_info": {
   "codemirror_mode": {
    "name": "ipython",
    "version": 3
   },
   "file_extension": ".py",
   "mimetype": "text/x-python",
   "name": "python",
   "nbconvert_exporter": "python",
   "pygments_lexer": "ipython3",
   "version": "3.7.1"
  }
 },
 "nbformat": 4,
 "nbformat_minor": 4
}

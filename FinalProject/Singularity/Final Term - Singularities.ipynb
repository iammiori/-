{
 "cells": [
  {
   "cell_type": "markdown",
   "metadata": {},
   "source": [
    "# Final Term) Recommender System - Singularities"
   ]
  },
  {
   "cell_type": "markdown",
   "metadata": {},
   "source": [
    "### Measure similarity between users based on the Singularity\n",
    "\n",
    "Measuring similarity is the first and foremost task to be implemented when building a recommender system. There are many types of methodologies to measure similarity between users or items.  The ones traditionally used are 'Pearson Correlation', 'Cosine', 'Contrained Pearson's Correlation', etc.  However, the only problem (or weakness) of those methods is lack of contextual factor.  Those methods only measure similarity based on the overall preferences between users and the contextual information is inferred through the preferences.  If the contextual information were one of direct factors to calculate similarity, would it be a better way to build a more precise recommender system?  Luckly, there is a method called \"Singularity\" which does not only meausre similarity between users, but it also considers the contextual factors. This term paper will focus on how the Singularity method is implemented in real life dataset and analysing its effectiveness compared to the traditional ones.\n",
    "\n",
    "Before start, we hypothesize that the recommender system based on Singularity would be more accurate than the traditionally used ones. It is because people tend to perform as a group, especially in Korea, this phenomenon occurs very often. Contextual factor includes the group preference which makes it more critical. In order to verify the hypothesis, predicted rating will be estimated through user memory based CF, particularly user based basic algorithm and the result will be compared to the traditional ones using Root Mean Squared Error (RMSE). RMSE is a measure of how spread out the residuals are, therefore this method is suitable to measure the prediction error."
   ]
  },
  {
   "cell_type": "code",
   "execution_count": 1,
   "metadata": {},
   "outputs": [],
   "source": [
    "import numpy as np\n",
    "import pandas as pd"
   ]
  },
  {
   "cell_type": "markdown",
   "metadata": {},
   "source": [
    "# 1. Load the dataset"
   ]
  },
  {
   "cell_type": "code",
   "execution_count": 2,
   "metadata": {},
   "outputs": [
    {
     "data": {
      "text/plain": [
       "(380, 21601)"
      ]
     },
     "execution_count": 2,
     "metadata": {},
     "output_type": "execute_result"
    }
   ],
   "source": [
    "ui_matrix=np.load(\"ui_matrix.npy\")\n",
    "ui_matrix.shape"
   ]
  },
  {
   "cell_type": "code",
   "execution_count": 3,
   "metadata": {},
   "outputs": [
    {
     "name": "stdout",
     "output_type": "stream",
     "text": [
      "5.0\n",
      "1.0\n"
     ]
    }
   ],
   "source": [
    "#The maximum and minimum rating value of the matrix\n",
    "x = ui_matrix[np.logical_not(np.isnan(ui_matrix))]\n",
    "print(np.amax(x))\n",
    "print(np.amin(x))"
   ]
  },
  {
   "cell_type": "markdown",
   "metadata": {},
   "source": [
    "The imported matrix includes users and stores on its index and columns, respectively, and rating value corresponding to the index and column.  The maximum rating value is 5.0 and minimum is 1.0.  As it is clearly described in the cell above, the Max(M) value is not being high because M is equals to 5, therefore, we used a value of d as 2 (R1 = irrelevant sets, R2= relevant sets), therefore the '4.3 Extneded model' is not carried out."
   ]
  },
  {
   "cell_type": "markdown",
   "metadata": {},
   "source": [
    "### Define threshold"
   ]
  },
  {
   "cell_type": "code",
   "execution_count": 7,
   "metadata": {},
   "outputs": [
    {
     "name": "stdout",
     "output_type": "stream",
     "text": [
      "44273\n",
      "5404\n"
     ]
    },
    {
     "name": "stderr",
     "output_type": "stream",
     "text": [
      "C:\\Users\\SHKWON\\Anaconda3\\lib\\site-packages\\ipykernel_launcher.py:1: RuntimeWarning: invalid value encountered in greater_equal\n",
      "  \"\"\"Entry point for launching an IPython kernel.\n",
      "C:\\Users\\SHKWON\\Anaconda3\\lib\\site-packages\\ipykernel_launcher.py:2: RuntimeWarning: invalid value encountered in less\n",
      "  \n"
     ]
    }
   ],
   "source": [
    "print(np.count_nonzero(ui_matrix >= 3.0))\n",
    "print(np.count_nonzero(ui_matrix < 3.0))"
   ]
  },
  {
   "cell_type": "code",
   "execution_count": 8,
   "metadata": {},
   "outputs": [
    {
     "name": "stdout",
     "output_type": "stream",
     "text": [
      "29151\n",
      "20526\n"
     ]
    },
    {
     "name": "stderr",
     "output_type": "stream",
     "text": [
      "C:\\Users\\SHKWON\\Anaconda3\\lib\\site-packages\\ipykernel_launcher.py:1: RuntimeWarning: invalid value encountered in greater_equal\n",
      "  \"\"\"Entry point for launching an IPython kernel.\n",
      "C:\\Users\\SHKWON\\Anaconda3\\lib\\site-packages\\ipykernel_launcher.py:2: RuntimeWarning: invalid value encountered in less\n",
      "  \n"
     ]
    }
   ],
   "source": [
    "print(np.count_nonzero(ui_matrix >= 4.0))\n",
    "print(np.count_nonzero(ui_matrix < 4.0))"
   ]
  },
  {
   "cell_type": "markdown",
   "metadata": {},
   "source": [
    "Including the range of rating values from 1.0 to 5.0, the \"relevant\" threshold should be clearly defined. If the dataset distributor instructed what each rating stands for, for example 1.0: irrelevant at all, 5.0: very relevant, it would be explicit to define the threshold, however it is not in this dataset. Comparing the two cases above, when k = 4.0 and k = 3.0, the differences between greater and smaller is smaller when k = 4.0.  If there is a great difference, it will make the singularity factors too big or too small.  The smaller differences make it clear that k = 4.0 is a critical point therefore, we decided to define the \"relevant\" threshold is 4.0.\n",
    "\n",
    "r(u, i)>=4,  relevant\n",
    "\n",
    "r(u, i)<4,   irrelevant"
   ]
  },
  {
   "cell_type": "markdown",
   "metadata": {},
   "source": [
    "# 2. Calculating Singularity factor"
   ]
  },
  {
   "cell_type": "markdown",
   "metadata": {},
   "source": [
    "From this stage forward, every calculation will be implemented with the sample matrix, not ui_matrix, for verifying results of calculation easier."
   ]
  },
  {
   "cell_type": "code",
   "execution_count": 9,
   "metadata": {},
   "outputs": [
    {
     "name": "stdout",
     "output_type": "stream",
     "text": [
      "[[ 4. nan  5.  2.  2.]\n",
      " [ 2. nan  4.  4.  1.]\n",
      " [ 1.  5.  4. nan  2.]\n",
      " [nan  5.  5.  5.  2.]\n",
      " [ 2.  5.  4.  4.  5.]\n",
      " [ 5.  5.  2.  4.  4.]\n",
      " [ 2.  4.  5.  5.  5.]\n",
      " [ 1.  5.  4. nan  5.]]\n"
     ]
    }
   ],
   "source": [
    "#The sample matrix is from the paper at the bottom of P. 207 and some values were intentionally changed into np.nan \n",
    "#because the yelp dataset includes a lot of nan value.\n",
    "trial=np.array([[4, np.nan, 5, 2, 2], [2, np.nan, 4, 4, 1], [1, 5, 4, np.nan, 2], [np.nan, 5, 5, 5, 2], [2, 5, 4, 4, 5],\n",
    "               [5, 5, 2, 4, 4], [2, 4, 5, 5, 5], [1, 5, 4, np.nan, 5]] )\n",
    "print(trial)"
   ]
  },
  {
   "cell_type": "code",
   "execution_count": 10,
   "metadata": {},
   "outputs": [],
   "source": [
    "def singularity_factor(matrix, k):\n",
    "    #If denominator includes nan values, it will make spi and sni too smaller.\n",
    "    #Therefore the nan value is excluded in this stage.\n",
    "    spi=1-(np.count_nonzero(matrix >= k, axis=0)/np.count_nonzero(~np.isnan(matrix), axis=0))\n",
    "    sni=1-(np.count_nonzero(matrix < k, axis=0)/np.count_nonzero(~np.isnan(matrix), axis=0))\n",
    "    return list(spi), list(sni)"
   ]
  },
  {
   "cell_type": "code",
   "execution_count": 11,
   "metadata": {},
   "outputs": [
    {
     "name": "stdout",
     "output_type": "stream",
     "text": [
      "[0.7142857142857143, 0.0, 0.125, 0.16666666666666663, 0.5]\n",
      "[0.2857142857142857, 1.0, 0.875, 0.8333333333333334, 0.5]\n"
     ]
    },
    {
     "name": "stderr",
     "output_type": "stream",
     "text": [
      "C:\\Users\\SHKWON\\Anaconda3\\lib\\site-packages\\ipykernel_launcher.py:4: RuntimeWarning: invalid value encountered in greater_equal\n",
      "  after removing the cwd from sys.path.\n",
      "C:\\Users\\SHKWON\\Anaconda3\\lib\\site-packages\\ipykernel_launcher.py:5: RuntimeWarning: invalid value encountered in less\n",
      "  \"\"\"\n"
     ]
    }
   ],
   "source": [
    "spi, sni=singularity_factor(trial, 4)\n",
    "print(spi)\n",
    "print(sni)"
   ]
  },
  {
   "cell_type": "code",
   "execution_count": 12,
   "metadata": {},
   "outputs": [
    {
     "name": "stdout",
     "output_type": "stream",
     "text": [
      "[[4. 0. 5. 2. 2.]\n",
      " [2. 0. 4. 4. 1.]\n",
      " [1. 5. 4. 0. 2.]\n",
      " [0. 5. 5. 5. 2.]\n",
      " [2. 5. 4. 4. 5.]\n",
      " [5. 5. 2. 4. 4.]\n",
      " [2. 4. 5. 5. 5.]\n",
      " [1. 5. 4. 0. 5.]]\n"
     ]
    }
   ],
   "source": [
    "trial[np.isnan(trial)] = 0\n",
    "print(trial)"
   ]
  },
  {
   "cell_type": "markdown",
   "metadata": {},
   "source": [
    "# Singularity Calculation"
   ]
  },
  {
   "cell_type": "code",
   "execution_count": 13,
   "metadata": {},
   "outputs": [],
   "source": [
    "def singularity(ui, spi, sni):\n",
    "    #Create a matrix filled with 0.0 in order to store all the similarities (should be triangular matrix)\n",
    "    Num_Users=np.size(ui, 0)\n",
    "    Sim=np.full((Num_Users, Num_Users), 0.0)\n",
    "    #For normalization (rui should be between 0, 1)\n",
    "    ui=ui*(1/5)\n",
    "    \n",
    "    for i in range(Num_Users):\n",
    "        for j in range(i, Num_Users):\n",
    "            a, a_cnt, b, b_cnt, c, c_cnt=0, 0, 0, 0, 0, 0\n",
    "            \n",
    "            #if one of two values (ui[i][k] and ui[j][k] is nan, the calculation is not proceeded)\n",
    "            for k in range(np.size(ui, 1)):\n",
    "                if ui[i][k]>=0.8 and ui[j][k]>=0.8:\n",
    "                    a+=((spi[k]**2)*(1-((ui[i][k]-ui[j][k])**2)))\n",
    "                    a_cnt+=1\n",
    "                elif (ui[i][k]<0.8 and 0<ui[i][k]) and (ui[j][k]<0.8 and 0<ui[j][k]):\n",
    "                    b+=((sni[k]**2)*(1-(ui[i][k]-ui[j][k])**2))\n",
    "                    b_cnt+=1\n",
    "                elif ui[i][k]>=0.8 and (ui[j][k]>0 and ui[j][k]<0.8):\n",
    "                    c+=((spi[k]*sni[k])*(1-(ui[i][k]-ui[j][k])**2))\n",
    "                    c_cnt+=1\n",
    "                elif ui[j][k]>=0.8 and (ui[i][k]>0 and ui[i][k]<0.8):\n",
    "                    c+=((spi[k]*sni[k])*(1-(ui[i][k]-ui[j][k])**2))\n",
    "                    c_cnt+=1\n",
    "            if a_cnt==0:\n",
    "                a=0\n",
    "            elif b_cnt==0:\n",
    "                b=0\n",
    "            elif c_cnt==0:\n",
    "                c=0\n",
    "            else:\n",
    "                a=a/a_cnt\n",
    "                b=b/b_cnt\n",
    "                c=c/c_cnt\n",
    "            Sim[i][j]=(1/3)*(a+b+c)\n",
    "            Sim[j][i]=Sim[i][j]\n",
    "    return Sim"
   ]
  },
  {
   "cell_type": "code",
   "execution_count": 14,
   "metadata": {},
   "outputs": [],
   "source": [
    "def singularity_2(ui, spi, sni):\n",
    "    #Create a matrix filled with 0.0 in order to store all the similarities (should be triangular matrix)\n",
    "    Num_Users=np.size(ui, 0)\n",
    "    Sim=np.full((Num_Users, Num_Users), 0.0)\n",
    "    #For normalization (rui should be between 0, 1)\n",
    "    ui=ui*(1/5)\n",
    "    \n",
    "    for i in range(Num_Users):\n",
    "        for j in range(i, Num_Users):\n",
    "            a, a_cnt, b, b_cnt, c, c_cnt=0, 0, 0, 0, 0, 0\n",
    "            \n",
    "            #if one of two values (ui[i][k] and ui[j][k] is nan, the calculation is not proceeded)\n",
    "            for k in range(np.size(ui, 1)):\n",
    "                if ui[i][k]>=0.8 and ui[j][k]>=0.8:\n",
    "                    a+=((spi[k]**2)*(1-((ui[i][k]-ui[j][k])**2)))\n",
    "                    a_cnt+=1\n",
    "                elif (ui[i][k]<0.8 and 0<=ui[i][k]) and (ui[j][k]<0.8 and 0<=ui[j][k]):\n",
    "                    b+=((sni[k]**2)*(1-(ui[i][k]-ui[j][k])**2))\n",
    "                    b_cnt+=1\n",
    "                elif ui[i][k]>=0.8 and (ui[j][k]>=0 and ui[j][k]<0.8):\n",
    "                    c+=((spi[k]*sni[k])*(1-(ui[i][k]-ui[j][k])**2))\n",
    "                    c_cnt+=1\n",
    "                elif ui[j][k]>=0.8 and (ui[i][k]>=0 and ui[i][k]<0.8):\n",
    "                    c+=((spi[k]*sni[k])*(1-(ui[i][k]-ui[j][k])**2))\n",
    "                    c_cnt+=1\n",
    "            if a_cnt==0:\n",
    "                a=0\n",
    "            elif b_cnt==0:\n",
    "                b=0\n",
    "            elif c_cnt==0:\n",
    "                c=0\n",
    "            else:\n",
    "                a=a/a_cnt\n",
    "                b=b/b_cnt\n",
    "                c=c/c_cnt\n",
    "            Sim[i][j]=(1/3)*(a+b+c)\n",
    "            Sim[j][i]=Sim[i][j]\n",
    "    return Sim"
   ]
  },
  {
   "cell_type": "code",
   "execution_count": 15,
   "metadata": {},
   "outputs": [
    {
     "name": "stdout",
     "output_type": "stream",
     "text": [
      "          0         1         2         3         4         5         6  \\\n",
      "0  0.490091  0.133016  0.131871  0.118171  0.154365  0.295488  0.145314   \n",
      "1  0.133016  0.125012  0.111331  0.093889  0.064445  0.136755  0.064155   \n",
      "2  0.131871  0.111331  0.115753  0.088333  0.082060  0.125115  0.081956   \n",
      "3  0.118171  0.093889  0.088333  0.097801  0.067222  0.102222  0.067801   \n",
      "4  0.154365  0.064445  0.082060  0.067222  0.125012  0.163422  0.124433   \n",
      "5  0.295488  0.136755  0.125115  0.102222  0.163422  0.517869  0.155760   \n",
      "6  0.145314  0.064155  0.081956  0.067801  0.124433  0.155760  0.125012   \n",
      "7  0.101871  0.061331  0.083148  0.058333  0.114664  0.135115  0.114456   \n",
      "\n",
      "          7  \n",
      "0  0.101871  \n",
      "1  0.061331  \n",
      "2  0.083148  \n",
      "3  0.058333  \n",
      "4  0.114664  \n",
      "5  0.135115  \n",
      "6  0.114456  \n",
      "7  0.115753  \n"
     ]
    }
   ],
   "source": [
    "s=singularity(trial, spi, sni)\n",
    "dataframe=pd.DataFrame.from_records(s)\n",
    "print(dataframe)"
   ]
  },
  {
   "cell_type": "code",
   "execution_count": 16,
   "metadata": {},
   "outputs": [
    {
     "name": "stdout",
     "output_type": "stream",
     "text": [
      "          0         1         2         3         4         5         6  \\\n",
      "0  0.823425  0.259683  0.165658  0.106581  0.154365  0.295488  0.145314   \n",
      "1  0.259683  0.458345  0.066603  0.058373  0.049445  0.136755  0.049155   \n",
      "2  0.165658  0.066603  0.347234  0.057228  0.063727  0.141781  0.055289   \n",
      "3  0.106581  0.058373  0.057228  0.125012  0.080820  0.102222  0.081013   \n",
      "4  0.154365  0.049445  0.063727  0.080820  0.125012  0.163422  0.124433   \n",
      "5  0.295488  0.136755  0.141781  0.102222  0.163422  0.517869  0.155760   \n",
      "6  0.145314  0.049155  0.055289  0.081013  0.124433  0.155760  0.125012   \n",
      "7  0.231735  0.046886  0.185284  0.055289  0.072303  0.151781  0.055567   \n",
      "\n",
      "          7  \n",
      "0  0.231735  \n",
      "1  0.046886  \n",
      "2  0.185284  \n",
      "3  0.055289  \n",
      "4  0.072303  \n",
      "5  0.151781  \n",
      "6  0.055567  \n",
      "7  0.347234  \n"
     ]
    }
   ],
   "source": [
    "ss=singularity_2(trial, spi, sni)\n",
    "dataframe=pd.DataFrame.from_records(ss)\n",
    "print(dataframe)"
   ]
  },
  {
   "cell_type": "markdown",
   "metadata": {},
   "source": [
    "The obvious difference between Singularity and traditional methodologies is that the diagonal elements are not 1. It is not only about preference anymore, the singularity factor was applied."
   ]
  },
  {
   "cell_type": "code",
   "execution_count": 17,
   "metadata": {},
   "outputs": [],
   "source": [
    "# Basic CF\n",
    "def basic_CF(mat, Sim, k):\n",
    "    predicted_rating = np.array([[0.0 for col in range(np.size(mat, 1))] for row in range(np.size(mat, 0))])\n",
    "        \n",
    "    k_neighbors = np.argsort(-Sim)\n",
    "    k_neighbors = np.delete(k_neighbors,np.s_[k:],1)\n",
    "    \n",
    "    NumUsers = np.size(mat,axis=0)\n",
    "    \n",
    "    for u in range(NumUsers):\n",
    "        list_sim = Sim[u,k_neighbors[u,]]\n",
    "        list_rating = mat[k_neighbors[u,],].astype('float64')\n",
    "        \n",
    "        predicted_rating[u,] = np.sum(list_sim.reshape(-1,1)*list_rating,axis=0)/np.sum(list_sim)\n",
    "        \n",
    "    return predicted_rating"
   ]
  },
  {
   "cell_type": "code",
   "execution_count": 18,
   "metadata": {},
   "outputs": [
    {
     "name": "stdout",
     "output_type": "stream",
     "text": [
      "[[3.98591125 2.39297613 3.8926703  2.95719045 3.12141844]\n",
      " [3.71308617 1.73202892 3.64412284 3.32613118 2.37615176]\n",
      " [3.40402427 3.23105352 3.6824611  2.05023498 2.67132819]\n",
      " [3.09180853 3.14309617 4.03622872 3.56460061 2.64251419]\n",
      " [3.80442135 3.2569379  3.61048142 3.30277516 3.58509724]\n",
      " [4.19556703 3.48743788 3.24215097 3.39497515 3.562282  ]\n",
      " [3.7787675  3.00138147 3.90332151 3.61130699 3.61130699]\n",
      " [2.79224873 5.         3.26072139 2.73332325 4.63036069]]\n"
     ]
    }
   ],
   "source": [
    "pre=basic_CF(trial, s, 3)\n",
    "print(pre)"
   ]
  },
  {
   "cell_type": "code",
   "execution_count": 19,
   "metadata": {},
   "outputs": [
    {
     "name": "stdout",
     "output_type": "stream",
     "text": [
      "[[3.98591125 2.39297613 3.8926703  2.95719045 3.12141844]\n",
      " [3.71308617 1.73202892 3.64412284 3.32613118 2.37615176]\n",
      " [3.40402427 3.23105352 3.6824611  2.05023498 2.67132819]\n",
      " [3.09180853 3.14309617 4.03622872 3.56460061 2.64251419]\n",
      " [3.80442135 3.2569379  3.61048142 3.30277516 3.58509724]\n",
      " [4.19556703 3.48743788 3.24215097 3.39497515 3.562282  ]\n",
      " [3.7787675  3.00138147 3.90332151 3.61130699 3.61130699]\n",
      " [2.79224873 5.         3.26072139 2.73332325 4.63036069]]\n"
     ]
    }
   ],
   "source": [
    "pre_1=basic_CF(trial, ss, 3)\n",
    "print(pre)"
   ]
  },
  {
   "cell_type": "code",
   "execution_count": 20,
   "metadata": {},
   "outputs": [
    {
     "name": "stdout",
     "output_type": "stream",
     "text": [
      "1.4332249946804914\n"
     ]
    }
   ],
   "source": [
    "a_total=0\n",
    "for i in range(8):\n",
    "    for j in range(5):\n",
    "        a=(trial[i][j]-pre[i][j])**2\n",
    "        a_total+=a\n",
    "total=a_total/40\n",
    "total=np.sqrt(total)\n",
    "print(total)"
   ]
  },
  {
   "cell_type": "code",
   "execution_count": 21,
   "metadata": {},
   "outputs": [
    {
     "name": "stdout",
     "output_type": "stream",
     "text": [
      "1.1282283221107103\n"
     ]
    }
   ],
   "source": [
    "a_total=0\n",
    "for i in range(8):\n",
    "    for j in range(5):\n",
    "        a=(trial[i][j]-pre_1[i][j])**2\n",
    "        a_total+=a\n",
    "total=a_total/40\n",
    "total=np.sqrt(total)\n",
    "print(total)"
   ]
  },
  {
   "cell_type": "markdown",
   "metadata": {},
   "source": [
    "The paper does not clearly instructed about dealing with nan values which fills more than half of the values of ui_matrix.  Two experiments were conducted to compare the results of including nan values and exclusing nan values.  The nan values were converted into 0 and 'def singularity' calculates excluding 0 and 'def singularity_2' calculates including 0.  The predicted rating is based on basic CF algorithm and 'pre' (def singularity) and 'pre_1' (def singularity_2) was evaluated with RMSE in order to measure its accuracy.  As it is clearly shown in the cell above, the evaluation value of pre_1 is smaller, therefore 'def singularity_2' will be implemented from this stage forward."
   ]
  },
  {
   "cell_type": "markdown",
   "metadata": {},
   "source": [
    "# Singularity Calculation - yelp dataset"
   ]
  },
  {
   "cell_type": "code",
   "execution_count": 22,
   "metadata": {},
   "outputs": [
    {
     "name": "stderr",
     "output_type": "stream",
     "text": [
      "C:\\Users\\SHKWON\\Anaconda3\\lib\\site-packages\\ipykernel_launcher.py:4: RuntimeWarning: invalid value encountered in greater_equal\n",
      "  after removing the cwd from sys.path.\n",
      "C:\\Users\\SHKWON\\Anaconda3\\lib\\site-packages\\ipykernel_launcher.py:5: RuntimeWarning: invalid value encountered in less\n",
      "  \"\"\"\n"
     ]
    }
   ],
   "source": [
    "spi, sni=singularity_factor(ui_matrix, 4.0)"
   ]
  },
  {
   "cell_type": "code",
   "execution_count": 23,
   "metadata": {},
   "outputs": [
    {
     "name": "stdout",
     "output_type": "stream",
     "text": [
      "0.0\n",
      "1.0\n",
      "0.4250973946446734\n",
      "\n",
      "0.0\n",
      "1.0\n",
      "0.5749026053553248\n"
     ]
    }
   ],
   "source": [
    "print(min(spi))\n",
    "print(max(spi))\n",
    "print(sum(spi)/len(spi))\n",
    "print()\n",
    "print(min(sni))\n",
    "print(max(sni))\n",
    "print(sum(sni)/len(sni))"
   ]
  },
  {
   "cell_type": "code",
   "execution_count": 24,
   "metadata": {},
   "outputs": [
    {
     "name": "stdout",
     "output_type": "stream",
     "text": [
      "[[0. 0. 0. ... 0. 0. 0.]\n",
      " [0. 0. 0. ... 0. 0. 0.]\n",
      " [0. 0. 0. ... 0. 0. 0.]\n",
      " ...\n",
      " [0. 0. 0. ... 0. 0. 0.]\n",
      " [0. 0. 0. ... 0. 0. 0.]\n",
      " [0. 0. 0. ... 0. 0. 0.]]\n"
     ]
    }
   ],
   "source": [
    "ui_matrix[np.isnan(ui_matrix)] = 0\n",
    "print(ui_matrix)"
   ]
  },
  {
   "cell_type": "code",
   "execution_count": 25,
   "metadata": {},
   "outputs": [],
   "source": [
    "Sim=singularity_2(ui_matrix, spi, sni)"
   ]
  },
  {
   "cell_type": "code",
   "execution_count": 26,
   "metadata": {},
   "outputs": [],
   "source": [
    "np.save(\"singularity_2\", Sim)"
   ]
  },
  {
   "cell_type": "code",
   "execution_count": 27,
   "metadata": {},
   "outputs": [
    {
     "name": "stdout",
     "output_type": "stream",
     "text": [
      "[[3.80649525e+03 3.78487058e+03 2.12497331e-01 ... 1.92102008e-01\n",
      "  3.80305098e+03 3.80491255e+03]\n",
      " [3.78487058e+03 3.79615034e+03 1.92945180e-01 ... 2.03280864e-01\n",
      "  2.52001853e-01 3.79437808e+03]\n",
      " [2.12497331e-01 1.92945180e-01 3.80125542e+03 ... 1.95895293e-01\n",
      "  3.79806323e+03 3.79982147e+03]\n",
      " ...\n",
      " [1.92102008e-01 2.03280864e-01 1.95895293e-01 ... 3.74172558e+03\n",
      "  3.73481787e+03 3.73666216e+03]\n",
      " [3.80305098e+03 2.52001853e-01 3.79806323e+03 ... 3.73481787e+03\n",
      "  3.81316893e+03 3.81284013e+03]\n",
      " [3.80491255e+03 3.79437808e+03 3.79982147e+03 ... 3.73666216e+03\n",
      "  3.81284013e+03 3.81479126e+03]]\n"
     ]
    }
   ],
   "source": [
    "a=np.load(\"singularity_2.npy\")\n",
    "print(a)"
   ]
  },
  {
   "cell_type": "code",
   "execution_count": 28,
   "metadata": {},
   "outputs": [
    {
     "name": "stdout",
     "output_type": "stream",
     "text": [
      "             0            1            2            3            4    \\\n",
      "0    3806.495248  3784.870582     0.212497     0.209656     0.214731   \n",
      "1    3784.870582  3796.150339     0.192945  3780.663561     0.215027   \n",
      "2       0.212497     0.192945  3801.255423  3786.036402     0.213271   \n",
      "3       0.209656  3780.663561  3786.036402  3803.141447     0.194515   \n",
      "4       0.214731     0.215027     0.213271     0.194515  3809.450983   \n",
      "5    3803.321424     0.206492  3798.108042     0.190036     0.209266   \n",
      "6       0.225973     0.215411     0.192541     0.316078     0.216563   \n",
      "7    3802.152810  3791.591662  3797.035047     0.241817     0.199487   \n",
      "8    3802.228394  3791.768137  3797.190979  3798.268859  3805.999834   \n",
      "9       0.205240  3791.254493  3796.594533  3797.672413     0.205075   \n",
      "10   3804.905071  3794.382347  3799.798334  3800.876214  3808.630674   \n",
      "11      0.183254  3785.551106  3790.994492  3792.072372  3799.803347   \n",
      "12   3801.172665     0.188308  3796.159902  3797.237782     0.213902   \n",
      "13      0.207749  3792.757738  3798.271997     0.205389     0.221543   \n",
      "14   3802.823288  3792.388939     0.256325  3798.805785  3806.601641   \n",
      "15      0.293564  3791.603040  3797.046426  3798.204029     0.228854   \n",
      "16   3799.472554     0.206048  3794.403895     0.249274     0.207559   \n",
      "17   3803.268208  3792.812059  3798.255445  3799.333325  3807.064300   \n",
      "18      0.205121  3789.431002  3794.866498     0.204470  3803.951824   \n",
      "19      0.200522     0.222104     0.202631     0.269339     0.206275   \n",
      "20   3802.471374     0.188777  3797.458611  3798.536491  3806.267466   \n",
      "21   3787.190151     0.218003  3782.430996  3783.252629     0.193381   \n",
      "22      0.253131     0.199456     0.213934  3791.372477     0.220103   \n",
      "23   3775.792206     0.234023  3770.535607  3771.664418     0.202769   \n",
      "24      0.204957     0.247050     0.217969     0.204298     0.196116   \n",
      "25   3792.083339     0.199665     0.235927     0.189285     0.209003   \n",
      "26   3802.404055     0.191997     0.188860  3798.364172  3806.290102   \n",
      "27      0.183507     0.184536     0.185737  3793.880699  3801.611674   \n",
      "28   3795.273262  3784.817114  3790.260500  3791.389311  3799.069355   \n",
      "29      0.216395     0.194617     0.197761     0.195966     0.205938   \n",
      "..           ...          ...          ...          ...          ...   \n",
      "350     0.202010  3793.415606  3798.858992  3799.936871  3807.667847   \n",
      "351  3798.473971     0.204495     0.189968     0.362579  3802.255428   \n",
      "352     0.293733     0.210203     0.190627     0.221805  3802.928768   \n",
      "353     0.220894     0.229991     0.201050     0.251966  3744.482220   \n",
      "354     0.216837  3793.269906  3798.713291  3799.791171  3807.577210   \n",
      "355  3800.884421  3790.428273  3795.871658  3796.949538  3804.680513   \n",
      "356     0.214645     0.202681     0.213849  3798.354143     0.215554   \n",
      "357     0.207217  3790.167984  3795.481209  3796.559089  3804.354946   \n",
      "358     0.226040     0.194391  3797.013060     0.192654     0.201136   \n",
      "359     0.258497  3791.288651  3796.522707  3797.620874     0.208130   \n",
      "360     0.242647  3787.244475     0.245780  3793.765740     0.201390   \n",
      "361  3801.544348     0.211437  3796.515929     0.190532     0.209781   \n",
      "362     0.206505     0.202598  3783.971583     0.357743     0.198942   \n",
      "363     0.379780     0.191903     0.207950     0.198610     0.219199   \n",
      "364  3804.715869  3794.364720  3799.703106  3800.780986  3808.695032   \n",
      "365     0.204082  3791.959035  3797.463910  3798.505147     0.245638   \n",
      "366     0.211332     0.204803     0.199472     0.203165     0.205240   \n",
      "367     0.206844     0.211946     0.195201     0.200084     0.210783   \n",
      "368  3801.854261  3791.326134  3796.769519  3797.847399     0.217178   \n",
      "369  3793.349698     0.186796     0.194634  3789.243208     0.198957   \n",
      "370  3798.695048  3788.238900     0.188060  3794.760165  3802.491141   \n",
      "371     0.238310     0.211283  3788.179331     0.288118     0.201511   \n",
      "372     0.203260  3793.622861  3799.066246  3800.144126  3807.915615   \n",
      "373     0.213632     0.187113     0.198943     0.191792     0.214457   \n",
      "374     0.205276     0.208905     0.189482     0.202852  3806.936449   \n",
      "375  3786.391145     0.189733  3781.792392     0.185547     0.197524   \n",
      "376     0.208549     0.205122     0.190552     0.198297  3799.658339   \n",
      "377     0.192102     0.203281     0.195895  3722.877089     0.205726   \n",
      "378  3803.050982     0.252002  3798.063232  3799.116099  3806.786037   \n",
      "379  3804.912549  3794.378083  3799.821469  3800.899348  3808.630324   \n",
      "\n",
      "             5            6            7            8            9    \\\n",
      "0    3803.321424     0.225973  3802.152810  3802.228394     0.205240   \n",
      "1       0.206492     0.215411  3791.591662  3791.768137  3791.254493   \n",
      "2    3798.108042     0.192541  3797.035047  3797.190979  3796.594533   \n",
      "3       0.190036     0.316078     0.241817  3798.268859  3797.672413   \n",
      "4       0.209266     0.216563     0.199487  3805.999834     0.205075   \n",
      "5    3813.555355  3801.390680  3810.280366  3810.365151  3809.744053   \n",
      "6    3801.390680  3804.258409  3800.119312  3800.275244     0.209845   \n",
      "7    3810.280366  3800.119312  3812.536687  3809.267504  3808.671058   \n",
      "8    3810.365151  3800.275244  3809.267504  3812.220803  3808.826989   \n",
      "9    3809.744053     0.209845  3808.671058  3808.826989  3811.841289   \n",
      "10   3812.971339  3802.882599  3811.874859  3812.030791  3811.434345   \n",
      "11   3804.144012  3794.078757  3803.071017  3803.226949  3802.630502   \n",
      "12   3809.309422     0.207084     0.190252  3808.392359  3807.795913   \n",
      "13      0.224986  3801.457657  3810.170595  3810.326527  3809.730081   \n",
      "14   3810.979284  3800.812170  3809.804430  3809.985013  3809.363915   \n",
      "15   3810.298734     0.199775     0.209102  3809.278882  3808.682436   \n",
      "16      0.214930     0.250407     0.254161  3806.514553  3805.918106   \n",
      "17   3811.404965  3801.339710  3810.331970  3810.487902  3809.891455   \n",
      "18   3808.156484  3798.040562  3806.954759  3807.098954  3806.502508   \n",
      "19      0.218142     0.218738     0.228799  3786.037058     0.205916   \n",
      "20      0.217458  3800.542876  3809.535136  3809.691068  3809.094622   \n",
      "21   3795.338650     0.231531  3794.280767     0.262155  3793.752936   \n",
      "22      0.209929     0.219854     0.331419  3802.349707     0.204814   \n",
      "23      0.207573     0.208928     0.213560  3782.792715  3782.171617   \n",
      "24      0.200683     0.205125  3795.597385  3795.672482     0.203466   \n",
      "25      0.234467     0.236922     0.199771  3799.005598     0.209211   \n",
      "26   3810.561294     0.204941  3809.362818  3809.518749  3809.096776   \n",
      "27   3806.282363     0.216664  3804.979449  3805.035276  3804.438830   \n",
      "28   3803.410019  3793.344764  3802.348761  3802.492956  3801.896510   \n",
      "29   3790.327514     0.209054     0.195553  3788.856741     0.209948   \n",
      "..           ...          ...          ...          ...          ...   \n",
      "350  3812.077647  3801.943256  3810.935517  3811.091448  3810.495002   \n",
      "351  3806.633094     0.229797     0.238869  3805.598201     0.206723   \n",
      "352     0.220045     0.208931  3806.062476  3806.340807     0.218029   \n",
      "353     0.213887     0.234785     0.297009     0.191301  3747.125584   \n",
      "354  3811.952610     0.248951  3810.789816  3810.945748  3810.349302   \n",
      "355  3809.021178  3798.955923  3807.948184  3808.104115  3807.507669   \n",
      "356  3810.425783     0.220847  3809.352789  3809.508720  3809.015619   \n",
      "357  3808.761789  3798.565474  3807.557734  3807.760035  3807.117220   \n",
      "358  3810.440832     0.220868     0.224631  3809.245517  3808.649070   \n",
      "359  3809.780801     0.213229  3808.762007  3808.755164     0.208892   \n",
      "360  3806.000086     0.234959  3804.764385  3804.920317  3804.323871   \n",
      "361     0.204444     0.216642  3808.661108  3808.748386  3808.255285   \n",
      "362     0.221541     0.191772     0.213074  3796.112101     0.187030   \n",
      "363  3796.812115     0.217960     0.234870  3795.645216     0.212911   \n",
      "364  3812.957626  3802.787371  3811.779631  3811.935562  3811.339116   \n",
      "365  3810.713367     0.221264  3809.495096  3809.597293     0.193220   \n",
      "366     0.195480     0.226397  3793.398747  3793.483797     0.211445   \n",
      "367     0.199000     0.219912  3806.650788  3806.806720  3806.389556   \n",
      "368  3809.919039  3799.853784  3808.846044  3809.001976     0.217048   \n",
      "369  3801.267544     0.211917     0.210966  3800.295444  3799.652629   \n",
      "370     0.213937  3796.865941  3805.758811  3805.914742  3805.318296   \n",
      "371     0.209596     0.232730     0.294893  3800.458157  3799.929006   \n",
      "372  3812.284902     0.346333  3811.142771  3811.298703  3810.702257   \n",
      "373     0.196982     0.238192  3805.409993  3805.568426  3804.939881   \n",
      "374  3811.156837     0.216747  3810.083842  3810.239774  3809.822610   \n",
      "375  3794.442141     0.213938  3793.391582     0.194176     0.189930   \n",
      "376     0.221946     0.213838     0.244950  3802.976373     0.208045   \n",
      "377     0.195642     0.208375  3733.875735     0.188432  3733.540220   \n",
      "378  3811.126702  3801.061446  3810.053707  3810.209638  3809.613192   \n",
      "379  3812.970988  3802.905733  3811.897994  3812.053925  3811.457479   \n",
      "\n",
      "        ...               370          371          372          373  \\\n",
      "0       ...       3798.695048     0.238310     0.203260     0.213632   \n",
      "1       ...       3788.238900     0.211283  3793.622861     0.187113   \n",
      "2       ...          0.188060  3788.179331  3799.066246     0.198943   \n",
      "3       ...       3794.760165     0.288118  3800.144126     0.191792   \n",
      "4       ...       3802.491141     0.201511  3807.915615     0.214457   \n",
      "5       ...          0.213937     0.209596  3812.284902     0.196982   \n",
      "6       ...       3796.865941     0.232730     0.346333     0.238192   \n",
      "7       ...       3805.758811     0.294893  3811.142771  3805.409993   \n",
      "8       ...       3805.914742  3800.458157  3811.298703  3805.568426   \n",
      "9       ...       3805.318296  3799.929006  3810.702257  3804.939881   \n",
      "10      ...       3808.522098     0.268917  3813.906058  3808.175054   \n",
      "11      ...       3799.718255  3794.215301  3805.102216  3799.325570   \n",
      "12      ...       3804.883666     0.242335  3810.267626  3804.586375   \n",
      "13      ...          0.221535  3801.574534  3812.201794  3806.425148   \n",
      "14      ...       3806.451668  3801.139737  3811.835629     0.315051   \n",
      "15      ...       3805.869163     0.219979  3811.154150  3805.510711   \n",
      "16      ...       3803.089948     0.239312  3808.430333  3802.686778   \n",
      "17      ...       3806.979208     0.203202  3812.363169  3806.586523   \n",
      "18      ...       3803.590261     0.263065  3809.003028  3803.197575   \n",
      "19      ...          0.196326     0.252220  3787.782853     0.264188   \n",
      "20      ...       3806.182375     0.261512  3811.566335  3805.789689   \n",
      "21      ...       3790.840689     0.221395  3796.224650  3790.579063   \n",
      "22      ...          0.258776     0.214893     0.189575     0.214328   \n",
      "23      ...       3779.259370     0.195306  3784.777466  3778.978505   \n",
      "24      ...       3792.139137     0.236352  3797.523098  3791.812630   \n",
      "25      ...       3795.555017     0.208007  3800.880865  3795.166260   \n",
      "26      ...       3806.010056  3800.747509  3811.394017     0.190210   \n",
      "27      ...       3801.526583  3796.188545  3806.910543     0.185328   \n",
      "28      ...       3798.984263  3793.529607  3804.368224  3798.591577   \n",
      "29      ...       3785.458109     0.224091  3790.825175     0.263747   \n",
      "..      ...               ...          ...          ...          ...   \n",
      "350     ...       3807.582755     0.200944     0.210343  3807.190069   \n",
      "351     ...       3802.089508     0.240720  3807.473468  3801.769866   \n",
      "352     ...       3802.709714     0.241135  3808.093675  3802.317028   \n",
      "353     ...       3744.213337     0.252031  3749.597298     0.316217   \n",
      "354     ...       3807.437055     0.249168  3812.821015  3807.095910   \n",
      "355     ...       3804.595422  3799.092467  3809.979383  3804.202736   \n",
      "356     ...       3806.000027     0.237077  3811.383987     0.214603   \n",
      "357     ...          0.210400     0.307736  3809.588933     0.310864   \n",
      "358     ...       3805.736823     0.228356  3811.120784     0.261061   \n",
      "359     ...          0.261779     0.258597  3810.630431  3804.853784   \n",
      "360     ...       3801.411623     0.204986     0.209717  3801.018938   \n",
      "361     ...       3805.239692     0.221939  3810.623653     0.194000   \n",
      "362     ...          0.235551     0.230271  3797.987368  3792.275603   \n",
      "363     ...          0.226293     0.235750  3797.474115     0.261787   \n",
      "364     ...       3808.426869  3803.090898  3813.810830  3808.034183   \n",
      "365     ...       3806.042230     0.255316     0.210871     0.264698   \n",
      "366     ...       3789.958669     0.192493  3795.495229     0.201849   \n",
      "367     ...       3803.298026     0.231578     0.213984     0.194540   \n",
      "368     ...       3805.593401  3800.222140  3810.877243  3805.100597   \n",
      "369     ...       3796.740382     0.252997  3802.180534     0.311283   \n",
      "370     ...       3809.276844  3797.002485  3807.790010  3802.013363   \n",
      "371     ...       3797.002485  3806.513498     0.213267     0.313697   \n",
      "372     ...       3807.790010     0.213267  3814.235865  3807.397324   \n",
      "373     ...       3802.013363     0.313697  3807.397324  3809.654059   \n",
      "374     ...       3806.731080     0.224466     0.227232  3806.338395   \n",
      "375     ...       3789.951504     0.192768  3795.335464     0.251655   \n",
      "376     ...       3799.467680     0.216453  3804.851641     0.194087   \n",
      "377     ...          0.205244     0.232400  3735.906934     0.188089   \n",
      "378     ...       3806.700945  3801.197991  3812.084906  3806.308259   \n",
      "379     ...       3808.545232     0.268917  3813.929193  3808.152546   \n",
      "\n",
      "             374          375          376          377          378  \\\n",
      "0       0.205276  3786.391145     0.208549     0.192102  3803.050982   \n",
      "1       0.208905     0.189733     0.205122     0.203281     0.252002   \n",
      "2       0.189482  3781.792392     0.190552     0.195895  3798.063232   \n",
      "3       0.202852     0.185547     0.198297  3722.877089  3799.116099   \n",
      "4    3806.936449     0.197524  3799.658339     0.205726  3806.786037   \n",
      "5    3811.156837  3794.442141     0.221946     0.195642  3811.126702   \n",
      "6       0.216747     0.213938     0.213838     0.208375  3801.061446   \n",
      "7    3810.083842  3793.391582     0.244950  3733.875735  3810.053707   \n",
      "8    3810.239774     0.194176  3802.976373     0.188432  3810.209638   \n",
      "9    3809.822610     0.189930     0.208045  3733.540220  3809.613192   \n",
      "10   3812.847129  3796.113195  3805.583728  3736.669634  3812.816994   \n",
      "11   3804.043287  3787.263710  3796.779886     0.187272  3804.013151   \n",
      "12   3809.208697     0.241612     0.239198  3733.000590  3809.178562   \n",
      "13      0.213102     0.220598     0.219543  3735.022680     0.233545   \n",
      "14   3810.776699     0.312889  3803.564538  3734.568592  3810.746564   \n",
      "15   3810.095220     0.197997     0.202842  3733.981985  3810.065085   \n",
      "16   3807.448261     0.199763     0.202450     0.196822  3807.300755   \n",
      "17   3811.304240  3794.524663     0.261155  3735.096132  3811.274104   \n",
      "18      0.205635     0.198224     0.211184  3731.707185  3807.928933   \n",
      "19   3786.938236     0.195926     0.221377     0.211091     0.287944   \n",
      "20   3810.507406  3793.727829     0.218908  3734.299299  3810.477271   \n",
      "21   3795.165720     0.202308  3787.902320     0.202126  3795.135585   \n",
      "22   3803.166045     0.223753     0.207323     0.213762  3803.135910   \n",
      "23   3783.584401  3767.180887     0.212408  3707.471166     0.263679   \n",
      "24      0.205590     0.197930     0.215849     0.195920     0.253277   \n",
      "25   3800.029401     0.236368     0.215662  3723.722628     0.207520   \n",
      "26   3810.335087  3793.555511     0.211369  3734.358548  3810.304952   \n",
      "27   3805.911102     0.203072     0.197257  3729.643507  3805.821479   \n",
      "28   3803.309294  3786.529718  3796.045894  3727.101187  3803.279159   \n",
      "29      0.190484     0.200437     0.204136  3714.259169  3789.946825   \n",
      "..           ...          ...          ...          ...          ...   \n",
      "350  3811.907786  3795.128210  3804.644386  3735.699679  3811.877651   \n",
      "351  3806.414539     0.227339     0.227771  3730.206432  3806.384404   \n",
      "352     0.215197     0.220552     0.231331  3730.941312  3807.004610   \n",
      "353  3748.630575     0.217117     0.222397     0.195731     0.217007   \n",
      "354  3811.762086  3795.066598  3804.634388  3735.553979  3811.731951   \n",
      "355  3808.920453  3792.140877     0.301285  3732.749146  3808.890318   \n",
      "356     0.210979  3793.650482     0.203363  3734.116951  3810.294923   \n",
      "357  3808.530004     0.313118  3801.266604  3732.321897  3808.499869   \n",
      "358  3810.173098     0.257245     0.251162  3733.853747  3810.075495   \n",
      "359  3809.571502     0.198997     0.207359  3733.363394  3809.541366   \n",
      "360     0.260106     0.220553  3798.561177  3729.616470     0.206319   \n",
      "361     0.210728     0.211217     0.192803  3733.356616  3809.534588   \n",
      "362  3797.039682     0.200651     0.215377  3720.720332  3796.898304   \n",
      "363  3796.518531     0.211091     0.218213     0.186938  3796.385050   \n",
      "364  3812.751900  3795.972324  3805.488500  3736.543793  3812.721765   \n",
      "365  3810.367262     0.225339  3803.103861  3734.159154  3810.337126   \n",
      "366     0.195337     0.198234     0.202970     0.195856  3794.253565   \n",
      "367     0.217602     0.191240     0.204902  3731.507049  3807.592922   \n",
      "368  3809.818314  3793.156833  3802.625096     0.182929  3809.788178   \n",
      "369  3801.065413     0.194737  3793.912140     0.200875  3801.121328   \n",
      "370  3806.731080  3789.951504  3799.467680     0.205244  3806.700945   \n",
      "371     0.224466     0.192768     0.216453     0.232400  3801.197991   \n",
      "372     0.227232  3795.335464  3804.851641  3735.906934  3812.084906   \n",
      "373  3806.338395     0.251655     0.194087     0.188089  3806.308259   \n",
      "374  3813.110282  3794.276535     0.212117  3734.848004  3811.025976   \n",
      "375  3794.276535  3799.679169     0.210738     0.183010     0.209735   \n",
      "376     0.212117     0.210738  3806.603888  3727.769094  3803.862132   \n",
      "377  3734.848004     0.183010  3727.769094  3741.725581  3734.817869   \n",
      "378  3811.025976     0.209735  3803.862132  3734.817869  3813.168932   \n",
      "379  3812.870263  3796.090687  3805.606863  3736.662156  3812.840128   \n",
      "\n",
      "             379  \n",
      "0    3804.912549  \n",
      "1    3794.378083  \n",
      "2    3799.821469  \n",
      "3    3800.899348  \n",
      "4    3808.630324  \n",
      "5    3812.970988  \n",
      "6    3802.905733  \n",
      "7    3811.897994  \n",
      "8    3812.053925  \n",
      "9    3811.457479  \n",
      "10   3814.768122  \n",
      "11   3805.857438  \n",
      "12   3811.022849  \n",
      "13   3812.957016  \n",
      "14   3812.590851  \n",
      "15   3811.909372  \n",
      "16      0.281983  \n",
      "17   3813.118391  \n",
      "18   3809.729444  \n",
      "19      0.276629  \n",
      "20   3812.321558  \n",
      "21   3796.979872  \n",
      "22   3804.980197  \n",
      "23   3785.398553  \n",
      "24   3798.278320  \n",
      "25   3801.636087  \n",
      "26   3812.149239  \n",
      "27   3807.665766  \n",
      "28   3805.123446  \n",
      "29   3791.519180  \n",
      "..           ...  \n",
      "350  3813.721938  \n",
      "351  3808.228691  \n",
      "352  3808.848897  \n",
      "353  3750.352520  \n",
      "354  3813.576238  \n",
      "355  3810.734605  \n",
      "356     0.276101  \n",
      "357  3810.344156  \n",
      "358  3811.876006  \n",
      "359  3811.385653  \n",
      "360  3807.550806  \n",
      "361  3811.378875  \n",
      "362  3798.742591  \n",
      "363  3798.229337  \n",
      "364  3814.566052  \n",
      "365  3812.181413  \n",
      "366  3796.150424  \n",
      "367  3809.437209  \n",
      "368  3811.632465  \n",
      "369  3802.879565  \n",
      "370  3808.545232  \n",
      "371     0.268917  \n",
      "372  3813.929193  \n",
      "373  3808.152546  \n",
      "374  3812.870263  \n",
      "375  3796.090687  \n",
      "376  3805.606863  \n",
      "377  3736.662156  \n",
      "378  3812.840128  \n",
      "379  3814.791256  \n",
      "\n",
      "[380 rows x 380 columns]\n"
     ]
    }
   ],
   "source": [
    "df=pd.DataFrame.from_records(a)\n",
    "print(df)"
   ]
  },
  {
   "cell_type": "code",
   "execution_count": 29,
   "metadata": {},
   "outputs": [
    {
     "data": {
      "text/plain": [
       "(380, 380)"
      ]
     },
     "execution_count": 29,
     "metadata": {},
     "output_type": "execute_result"
    }
   ],
   "source": [
    "#To make sure the form of singularity matrix\n",
    "df.shape"
   ]
  },
  {
   "cell_type": "code",
   "execution_count": 30,
   "metadata": {},
   "outputs": [
    {
     "name": "stdout",
     "output_type": "stream",
     "text": [
      "[[0. 0. 0. ... 0. 0. 0.]\n",
      " [0. 0. 0. ... 0. 0. 0.]\n",
      " [0. 0. 0. ... 0. 0. 0.]\n",
      " ...\n",
      " [0. 0. 0. ... 0. 0. 0.]\n",
      " [0. 0. 0. ... 0. 0. 0.]\n",
      " [0. 0. 0. ... 0. 0. 0.]]\n"
     ]
    }
   ],
   "source": [
    "predicted=basic_CF(ui_matrix, a, 10)\n",
    "print(predicted)"
   ]
  },
  {
   "cell_type": "code",
   "execution_count": 31,
   "metadata": {},
   "outputs": [],
   "source": [
    "ui_matrix[np.isnan(ui_matrix)] = 0"
   ]
  },
  {
   "cell_type": "code",
   "execution_count": 32,
   "metadata": {},
   "outputs": [
    {
     "name": "stdout",
     "output_type": "stream",
     "text": [
      "     0      1      2      3      4      5         6      7      8      9      \\\n",
      "0      0.0    0.0    0.0    0.0    0.0    0.0  0.000000    0.0    0.0    0.0   \n",
      "1      0.0    0.0    0.0    0.0    0.0    0.0  0.000000    0.0    0.0    0.0   \n",
      "2      0.0    0.0    0.0    0.0    0.0    0.0  0.000000    0.0    0.0    0.0   \n",
      "3      0.0    0.0    0.0    0.0    0.0    0.0  0.000000    0.0    0.0    0.0   \n",
      "4      0.0    0.0    0.0    0.0    0.0    0.0  0.000000    0.0    0.0    0.0   \n",
      "5      0.0    0.0    0.0    0.0    0.0    0.0  0.000000    0.0    0.0    0.0   \n",
      "6      0.0    0.0    0.0    0.0    0.0    0.0  0.000000    0.0    0.0    0.0   \n",
      "7      0.0    0.0    0.0    0.0    0.0    0.0  0.000000    0.0    0.0    0.0   \n",
      "8      0.0    0.0    0.0    0.0    0.0    0.0  0.000000    0.0    0.0    0.0   \n",
      "9      0.0    0.0    0.0    0.0    0.0    0.0  0.000000    0.0    0.0    0.0   \n",
      "10     0.0    0.0    0.0    0.0    0.0    0.0  0.000000    0.0    0.0    0.0   \n",
      "11     0.0    0.0    0.0    0.0    0.0    0.0  0.000000    0.0    0.0    0.0   \n",
      "12     0.0    0.0    0.0    0.0    0.0    0.0  0.000000    0.0    0.0    0.0   \n",
      "13     0.0    0.0    0.0    0.0    0.0    0.0  0.000000    0.0    0.0    0.0   \n",
      "14     0.0    0.0    0.0    0.0    0.0    0.0  0.000000    0.0    0.0    0.0   \n",
      "15     0.0    0.0    0.0    0.0    0.0    0.0  0.000000    0.0    0.0    0.0   \n",
      "16     0.0    0.0    0.0    0.0    0.0    0.0  0.000000    0.0    0.0    0.0   \n",
      "17     0.0    0.0    0.0    0.0    0.0    0.0  0.000000    0.0    0.0    0.0   \n",
      "18     0.0    0.0    0.0    0.0    0.0    0.0  0.000000    0.0    0.0    0.0   \n",
      "19     0.0    0.0    0.0    0.0    0.0    0.0  0.200322    0.0    0.0    0.0   \n",
      "20     0.0    0.0    0.0    0.0    0.0    0.0  0.000000    0.0    0.0    0.0   \n",
      "21     0.0    0.0    0.0    0.0    0.0    0.0  0.000000    0.0    0.0    0.0   \n",
      "22     0.0    0.0    0.0    0.0    0.0    0.0  0.000000    0.0    0.0    0.0   \n",
      "23     0.0    0.0    0.0    0.0    0.0    0.0  0.000000    0.0    0.0    0.0   \n",
      "24     0.0    0.0    0.0    0.0    0.0    0.0  0.000000    0.0    0.0    0.0   \n",
      "25     0.0    0.0    0.0    0.0    0.0    0.0  0.000000    0.0    0.0    0.0   \n",
      "26     0.0    0.0    0.0    0.0    0.0    0.0  0.000000    0.0    0.0    0.0   \n",
      "27     0.0    0.0    0.0    0.0    0.0    0.0  0.000000    0.0    0.0    0.0   \n",
      "28     0.0    0.0    0.0    0.0    0.0    0.0  0.000000    0.0    0.0    0.0   \n",
      "29     0.0    0.0    0.0    0.0    0.0    0.0  0.000000    0.0    0.0    0.0   \n",
      "..     ...    ...    ...    ...    ...    ...       ...    ...    ...    ...   \n",
      "350    0.0    0.0    0.0    0.0    0.0    0.0  0.000000    0.0    0.0    0.0   \n",
      "351    0.0    0.0    0.0    0.0    0.0    0.0  0.000000    0.0    0.0    0.0   \n",
      "352    0.0    0.0    0.0    0.0    0.0    0.0  0.000000    0.0    0.0    0.0   \n",
      "353    0.0    0.0    0.0    0.0    0.0    0.0  0.000000    0.0    0.0    0.0   \n",
      "354    0.0    0.0    0.0    0.0    0.0    0.0  0.000000    0.0    0.0    0.0   \n",
      "355    0.0    0.0    0.0    0.0    0.0    0.0  0.000000    0.0    0.0    0.0   \n",
      "356    0.0    0.0    0.0    0.0    0.0    0.0  0.000000    0.0    0.0    0.0   \n",
      "357    0.0    0.0    0.0    0.0    0.0    0.0  0.000000    0.0    0.0    0.0   \n",
      "358    0.0    0.0    0.0    0.0    0.0    0.0  0.000000    0.0    0.0    0.0   \n",
      "359    0.0    0.0    0.0    0.0    0.0    0.0  0.000000    0.0    0.0    0.0   \n",
      "360    0.0    0.0    0.0    0.0    0.0    0.0  0.000000    0.0    0.0    0.0   \n",
      "361    0.0    0.0    0.0    0.0    0.0    0.0  0.000000    0.0    0.0    0.0   \n",
      "362    0.0    0.0    0.0    0.0    0.0    0.0  0.000000    0.0    0.0    0.0   \n",
      "363    0.0    0.0    0.0    0.0    0.0    0.0  0.000000    0.0    0.0    0.0   \n",
      "364    0.0    0.0    0.0    0.0    0.0    0.0  0.000000    0.0    0.0    0.0   \n",
      "365    0.0    0.0    0.0    0.0    0.0    0.0  0.000000    0.0    0.0    0.0   \n",
      "366    0.0    0.0    0.0    0.0    0.0    0.0  0.000000    0.0    0.0    0.0   \n",
      "367    0.0    0.0    0.0    0.0    0.0    0.0  0.000000    0.0    0.0    0.0   \n",
      "368    0.0    0.0    0.0    0.0    0.0    0.0  0.000000    0.0    0.0    0.0   \n",
      "369    0.0    0.0    0.0    0.0    0.0    0.0  0.000000    0.0    0.0    0.0   \n",
      "370    0.0    0.0    0.0    0.0    0.0    0.0  0.000000    0.0    0.0    0.0   \n",
      "371    0.0    0.0    0.0    0.0    0.0    0.0  0.000000    0.0    0.0    0.0   \n",
      "372    0.0    0.0    0.0    0.0    0.0    0.0  0.000000    0.0    0.0    0.0   \n",
      "373    0.0    0.0    0.0    0.0    0.0    0.0  0.000000    0.0    0.0    0.0   \n",
      "374    0.0    0.0    0.0    0.0    0.0    0.0  0.000000    0.0    0.0    0.0   \n",
      "375    0.0    0.0    0.0    0.0    0.0    0.0  0.000000    0.0    0.0    0.0   \n",
      "376    0.0    0.0    0.0    0.0    0.0    0.0  0.000000    0.0    0.0    0.0   \n",
      "377    0.0    0.0    0.0    0.0    0.0    0.0  0.000000    0.0    0.0    0.0   \n",
      "378    0.0    0.0    0.0    0.0    0.0    0.0  0.000000    0.0    0.0    0.0   \n",
      "379    0.0    0.0    0.0    0.0    0.0    0.0  0.000000    0.0    0.0    0.0   \n",
      "\n",
      "       ...     21591     21592  21593     21594  21595  21596  21597  21598  \\\n",
      "0      ...       0.0  0.000000    0.0  0.000000    0.0    0.0    0.0    0.0   \n",
      "1      ...       0.0  0.000000    0.0  0.000000    0.0    0.0    0.0    0.0   \n",
      "2      ...       0.0  0.000000    0.0  0.000000    0.0    0.0    0.0    0.0   \n",
      "3      ...       0.0  0.000000    0.0  0.000000    0.0    0.0    0.0    0.0   \n",
      "4      ...       0.0  0.000000    0.0  0.000000    0.0    0.0    0.0    0.0   \n",
      "5      ...       0.0  0.000000    0.0  0.000000    0.0    0.0    0.0    0.0   \n",
      "6      ...       0.0  0.000000    0.0  0.000000    0.0    0.0    0.0    0.0   \n",
      "7      ...       0.0  0.000000    0.0  0.000000    0.0    0.0    0.0    0.0   \n",
      "8      ...       0.0  0.000000    0.0  0.000000    0.0    0.0    0.0    0.0   \n",
      "9      ...       0.0  0.000000    0.0  0.000000    0.0    0.0    0.0    0.0   \n",
      "10     ...       0.0  0.000000    0.0  0.000000    0.0    0.0    0.0    0.0   \n",
      "11     ...       0.0  0.000000    0.0  0.000000    0.0    0.0    0.0    0.0   \n",
      "12     ...       0.0  0.000000    0.0  0.000000    0.0    0.0    0.0    0.0   \n",
      "13     ...       0.0  0.000000    0.0  0.000000    0.0    0.0    0.0    0.0   \n",
      "14     ...       0.0  0.000000    0.0  0.000000    0.0    0.0    0.0    0.0   \n",
      "15     ...       0.0  0.000000    0.0  0.000000    0.0    0.0    0.0    0.0   \n",
      "16     ...       0.0  0.000000    0.0  0.000000    0.0    0.0    0.0    0.0   \n",
      "17     ...       0.0  0.000000    0.0  0.000000    0.0    0.0    0.0    0.0   \n",
      "18     ...       0.0  0.000000    0.0  0.000000    0.0    0.0    0.0    0.0   \n",
      "19     ...       0.0  0.000000    0.0  0.000000    0.0    0.0    0.0    0.0   \n",
      "20     ...       0.0  0.000000    0.0  0.000000    0.0    0.0    0.0    0.0   \n",
      "21     ...       0.0  0.000000    0.0  0.000000    0.0    0.0    0.0    0.0   \n",
      "22     ...       0.0  0.000000    0.0  0.000000    0.0    0.0    0.0    0.0   \n",
      "23     ...       0.0  0.000000    0.0  0.000000    0.0    0.0    0.0    0.0   \n",
      "24     ...       0.0  0.000000    0.0  0.000000    0.0    0.0    0.0    0.0   \n",
      "25     ...       0.0  0.000000    0.0  0.000000    0.0    0.0    0.0    0.0   \n",
      "26     ...       0.0  0.000000    0.0  0.000000    0.0    0.0    0.0    0.0   \n",
      "27     ...       0.0  0.000000    0.0  0.000000    0.0    0.0    0.0    0.0   \n",
      "28     ...       0.0  0.000000    0.0  0.000000    0.0    0.0    0.0    0.0   \n",
      "29     ...       0.0  0.000000    0.0  0.000000    0.0    0.0    0.0    0.0   \n",
      "..     ...       ...       ...    ...       ...    ...    ...    ...    ...   \n",
      "350    ...       0.0  0.000000    0.0  0.000000    0.0    0.0    0.0    0.0   \n",
      "351    ...       0.0  0.000000    0.0  0.000000    0.0    0.0    0.0    0.0   \n",
      "352    ...       0.0  0.000000    0.0  0.000000    0.0    0.0    0.0    0.0   \n",
      "353    ...       0.0  0.000000    0.0  0.000000    0.0    0.0    0.0    0.0   \n",
      "354    ...       0.0  0.000000    0.0  0.000000    0.0    0.0    0.0    0.0   \n",
      "355    ...       0.0  0.000000    0.0  0.000000    0.0    0.0    0.0    0.0   \n",
      "356    ...       0.0  0.000000    0.0  0.000000    0.0    0.0    0.0    0.0   \n",
      "357    ...       0.0  0.000000    0.0  0.000000    0.0    0.0    0.0    0.0   \n",
      "358    ...       0.0  0.000000    0.0  0.000000    0.0    0.0    0.0    0.0   \n",
      "359    ...       0.0  0.000000    0.0  0.000000    0.0    0.0    0.0    0.0   \n",
      "360    ...       0.0  0.000000    0.0  0.000000    0.0    0.0    0.0    0.0   \n",
      "361    ...       0.0  0.000000    0.0  0.000000    0.0    0.0    0.0    0.0   \n",
      "362    ...       0.0  0.000000    0.0  0.000000    0.0    0.0    0.0    0.0   \n",
      "363    ...       0.0  0.000000    0.0  0.000000    0.0    0.0    0.0    0.0   \n",
      "364    ...       0.0  0.000000    0.0  0.000000    0.0    0.0    0.0    0.0   \n",
      "365    ...       0.0  0.000000    0.0  0.000000    0.0    0.0    0.0    0.0   \n",
      "366    ...       0.0  0.000000    0.0  0.000000    0.0    0.0    0.0    0.0   \n",
      "367    ...       0.0  0.000000    0.0  0.000000    0.0    0.0    0.0    0.0   \n",
      "368    ...       0.0  0.000000    0.0  0.400086    0.0    0.0    0.0    0.0   \n",
      "369    ...       0.0  0.000000    0.0  0.000000    0.0    0.0    0.0    0.0   \n",
      "370    ...       0.0  0.000000    0.0  0.000000    0.0    0.0    0.0    0.0   \n",
      "371    ...       0.0  0.000000    0.0  0.000000    0.0    0.0    0.0    0.0   \n",
      "372    ...       0.0  0.000000    0.0  0.000000    0.0    0.0    0.0    0.0   \n",
      "373    ...       0.0  0.000000    0.0  0.000000    0.0    0.0    0.0    0.0   \n",
      "374    ...       0.0  0.000000    0.0  0.000000    0.0    0.0    0.0    0.0   \n",
      "375    ...       0.0  0.000000    0.0  0.000000    0.0    0.0    0.0    0.0   \n",
      "376    ...       0.0  0.000000    0.0  0.000000    0.0    0.0    0.0    0.0   \n",
      "377    ...       0.0  0.500608    0.0  0.400487    0.0    0.0    0.0    0.0   \n",
      "378    ...       0.0  0.000000    0.0  0.000000    0.0    0.0    0.0    0.0   \n",
      "379    ...       0.0  0.000000    0.0  0.000000    0.0    0.0    0.0    0.0   \n",
      "\n",
      "     21599     21600  \n",
      "0      0.0  0.000000  \n",
      "1      0.0  0.000000  \n",
      "2      0.0  0.000000  \n",
      "3      0.0  0.000000  \n",
      "4      0.0  0.000000  \n",
      "5      0.0  0.000000  \n",
      "6      0.0  0.000000  \n",
      "7      0.0  0.000000  \n",
      "8      0.0  0.000000  \n",
      "9      0.0  0.000000  \n",
      "10     0.0  0.000000  \n",
      "11     0.0  0.000000  \n",
      "12     0.0  0.000000  \n",
      "13     0.0  0.000000  \n",
      "14     0.0  0.000000  \n",
      "15     0.0  0.000000  \n",
      "16     0.0  0.000000  \n",
      "17     0.0  0.000000  \n",
      "18     0.0  0.000000  \n",
      "19     0.0  0.000000  \n",
      "20     0.0  0.000000  \n",
      "21     0.0  0.000000  \n",
      "22     0.0  0.000000  \n",
      "23     0.0  0.000000  \n",
      "24     0.0  0.000000  \n",
      "25     0.0  0.000000  \n",
      "26     0.0  0.000000  \n",
      "27     0.0  0.500066  \n",
      "28     0.0  0.000000  \n",
      "29     0.0  0.500627  \n",
      "..     ...       ...  \n",
      "350    0.0  0.000000  \n",
      "351    0.0  0.000000  \n",
      "352    0.0  0.000000  \n",
      "353    0.0  0.000000  \n",
      "354    0.0  0.000000  \n",
      "355    0.0  0.000000  \n",
      "356    0.0  0.000000  \n",
      "357    0.0  0.000000  \n",
      "358    0.0  0.000000  \n",
      "359    0.0  0.000000  \n",
      "360    0.0  0.000000  \n",
      "361    0.0  0.000000  \n",
      "362    0.0  0.000000  \n",
      "363    0.0  0.000000  \n",
      "364    0.0  0.000000  \n",
      "365    0.0  0.000000  \n",
      "366    0.0  0.000000  \n",
      "367    0.0  0.000000  \n",
      "368    0.0  0.000000  \n",
      "369    0.0  0.000000  \n",
      "370    0.0  0.000000  \n",
      "371    0.0  0.000000  \n",
      "372    0.0  0.000000  \n",
      "373    0.0  0.000000  \n",
      "374    0.0  0.000000  \n",
      "375    0.0  0.500424  \n",
      "376    0.0  0.000000  \n",
      "377    0.0  0.000000  \n",
      "378    0.0  0.000000  \n",
      "379    0.0  0.000000  \n",
      "\n",
      "[380 rows x 21601 columns]\n"
     ]
    }
   ],
   "source": [
    "df_2=pd.DataFrame.from_records(predicted)\n",
    "print(df_2)"
   ]
  },
  {
   "cell_type": "code",
   "execution_count": 33,
   "metadata": {},
   "outputs": [
    {
     "name": "stdout",
     "output_type": "stream",
     "text": [
      "2.050559632082257\n",
      "0.0\n"
     ]
    }
   ],
   "source": [
    "print(np.amax(predicted))\n",
    "print(np.amin(predicted))"
   ]
  },
  {
   "cell_type": "code",
   "execution_count": 34,
   "metadata": {},
   "outputs": [
    {
     "name": "stdout",
     "output_type": "stream",
     "text": [
      "0.26400356577204825\n"
     ]
    }
   ],
   "source": [
    "a_total=0\n",
    "for i in range(380):\n",
    "    for j in range(21601):\n",
    "        a=(ui_matrix[i][j]-predicted[i][j])**2\n",
    "        a_total+=a\n",
    "total=a_total/(380*21601)\n",
    "total=np.sqrt(total)\n",
    "print(total)"
   ]
  },
  {
   "cell_type": "markdown",
   "metadata": {},
   "source": [
    "Evaluation RMSE was carried out."
   ]
  },
  {
   "cell_type": "markdown",
   "metadata": {},
   "source": [
    "# Comparing with the traditional similarity measure"
   ]
  },
  {
   "cell_type": "markdown",
   "metadata": {},
   "source": [
    "The traditional similarities were from the former assignments"
   ]
  },
  {
   "cell_type": "code",
   "execution_count": 99,
   "metadata": {},
   "outputs": [],
   "source": [
    "cos=np.load(\"COS_similarity.npy\")\n",
    "pcc=np.load(\"PCC_similiarity.npy\")\n",
    "jac=np.load(\"JAC_similarity.npy\")"
   ]
  },
  {
   "cell_type": "code",
   "execution_count": 119,
   "metadata": {},
   "outputs": [
    {
     "name": "stdout",
     "output_type": "stream",
     "text": [
      "[[0.         0.         0.         ... 0.         0.         0.        ]\n",
      " [0.         0.         0.         ... 0.         0.         0.31436986]\n",
      " [0.         0.         0.         ... 0.         0.         1.07110232]\n",
      " ...\n",
      " [0.         0.         0.         ... 0.27355056 0.04521172 0.        ]\n",
      " [0.         0.         0.         ... 0.         0.         0.        ]\n",
      " [0.         0.         0.         ... 0.         0.         0.        ]]\n"
     ]
    }
   ],
   "source": [
    "cos_pre=basic_CF(ui_matrix, cos, 10)\n",
    "print(cos_pre)"
   ]
  },
  {
   "cell_type": "code",
   "execution_count": 120,
   "metadata": {},
   "outputs": [
    {
     "name": "stdout",
     "output_type": "stream",
     "text": [
      "[[0.  0.  0.  ... 0.  0.  0. ]\n",
      " [0.  0.  0.  ... 0.  0.  0. ]\n",
      " [0.  0.  0.5 ... 0.  0.  0.5]\n",
      " ...\n",
      " [0.  0.  0.  ... 0.  0.  0. ]\n",
      " [0.  0.  0.  ... 0.  0.  0.4]\n",
      " [0.  0.  0.  ... 0.  0.  0. ]]\n"
     ]
    }
   ],
   "source": [
    "pcc_pre=basic_CF(ui_matrix, pcc, 10)\n",
    "print(pcc_pre)"
   ]
  },
  {
   "cell_type": "code",
   "execution_count": 121,
   "metadata": {},
   "outputs": [
    {
     "name": "stdout",
     "output_type": "stream",
     "text": [
      "[[0.         0.         0.         ... 0.         0.         0.        ]\n",
      " [0.         0.         0.         ... 0.         0.         0.        ]\n",
      " [0.         0.         0.         ... 0.         0.         0.39611398]\n",
      " ...\n",
      " [0.         0.         0.         ... 0.         0.0286196  0.        ]\n",
      " [0.         0.         0.         ... 0.         0.         0.        ]\n",
      " [0.         0.         0.         ... 0.         0.         0.        ]]\n"
     ]
    }
   ],
   "source": [
    "jac_pre=basic_CF(ui_matrix, jac, 10)\n",
    "print(jac_pre)"
   ]
  },
  {
   "cell_type": "code",
   "execution_count": 123,
   "metadata": {},
   "outputs": [],
   "source": [
    "def RMSE(ui, pre):\n",
    "    a_total=0\n",
    "    for i in range(np.size(ui, 0)):\n",
    "        for j in range(np.size(ui, 1)):\n",
    "            a=(ui_matrix[i][j]-pre[i][j])**2\n",
    "            a_total+=a\n",
    "    total=a_total/(380*21601)\n",
    "    total=np.sqrt(total)\n",
    "    return total"
   ]
  },
  {
   "cell_type": "code",
   "execution_count": 124,
   "metadata": {},
   "outputs": [
    {
     "name": "stdout",
     "output_type": "stream",
     "text": [
      "0.2907707842254746\n",
      "0.15984225940824584\n",
      "0.1120672480612189\n"
     ]
    }
   ],
   "source": [
    "print(RMSE(ui_matrix, pcc_pre))\n",
    "print(RMSE(ui_matrix, cos_pre))\n",
    "print(RMSE(ui_matrix, jac_pre))"
   ]
  },
  {
   "cell_type": "markdown",
   "metadata": {},
   "source": [
    "# Conclusion:\n",
    "\n",
    "RMSE results of traditional similarities are similar or slightly greater than singularity. It was hypothesized that singularity would be more accurate than the traditional ones, however it can not be said that the hypothesis is correct as some are more accutate than singularity. With all these results, we conclude that singularity is not supreme method but good enough to be used for measuring similarity."
   ]
  }
 ],
 "metadata": {
  "kernelspec": {
   "display_name": "Python 3",
   "language": "python",
   "name": "python3"
  },
  "language_info": {
   "codemirror_mode": {
    "name": "ipython",
    "version": 3
   },
   "file_extension": ".py",
   "mimetype": "text/x-python",
   "name": "python",
   "nbconvert_exporter": "python",
   "pygments_lexer": "ipython3",
   "version": "3.7.1"
  }
 },
 "nbformat": 4,
 "nbformat_minor": 2
}

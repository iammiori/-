{
  "nbformat": 4,
  "nbformat_minor": 0,
  "metadata": {
    "colab": {
      "name": "business2csv.ipynb",
      "provenance": [],
      "collapsed_sections": [],
      "include_colab_link": true
    },
    "kernelspec": {
      "name": "python3",
      "display_name": "Python 3"
    }
  },
  "cells": [
    {
      "cell_type": "markdown",
      "metadata": {
        "id": "view-in-github",
        "colab_type": "text"
      },
      "source": [
        "<a href=\"https://colab.research.google.com/github/iammiori/DataAnalysisAndPractice/blob/master/business2csv.ipynb\" target=\"_parent\"><img src=\"https://colab.research.google.com/assets/colab-badge.svg\" alt=\"Open In Colab\"/></a>"
      ]
    },
    {
      "cell_type": "code",
      "metadata": {
        "id": "srBcn_mTKOk3",
        "colab_type": "code",
        "colab": {
          "base_uri": "https://localhost:8080/",
          "height": 127
        },
        "outputId": "31bde749-0391-4228-f7bf-5609552d4772"
      },
      "source": [
        "from google.colab import drive\n",
        "\n",
        "drive.mount('/content/gdrive')"
      ],
      "execution_count": 1,
      "outputs": [
        {
          "output_type": "stream",
          "text": [
            "Go to this URL in a browser: https://accounts.google.com/o/oauth2/auth?client_id=947318989803-6bn6qk8qdgf4n4g3pfee6491hc0brc4i.apps.googleusercontent.com&redirect_uri=urn%3Aietf%3Awg%3Aoauth%3A2.0%3Aoob&scope=email%20https%3A%2F%2Fwww.googleapis.com%2Fauth%2Fdocs.test%20https%3A%2F%2Fwww.googleapis.com%2Fauth%2Fdrive%20https%3A%2F%2Fwww.googleapis.com%2Fauth%2Fdrive.photos.readonly%20https%3A%2F%2Fwww.googleapis.com%2Fauth%2Fpeopleapi.readonly&response_type=code\n",
            "\n",
            "Enter your authorization code:\n",
            "··········\n",
            "Mounted at /content/gdrive\n"
          ],
          "name": "stdout"
        }
      ]
    },
    {
      "cell_type": "code",
      "metadata": {
        "id": "_wwqhFbvKSIb",
        "colab_type": "code",
        "colab": {
          "base_uri": "https://localhost:8080/",
          "height": 35
        },
        "outputId": "c3c94b3e-8ae4-49d6-c3c4-2e9689b79461"
      },
      "source": [
        "import time\n",
        "import datetime\n",
        "import json,csv\n",
        "\n",
        "headers = True\n",
        "filein = \"/content/gdrive/My Drive/business.json\"\n",
        "fileout = \"/content/gdrive/My Drive/business.csv\"\n",
        "with open(filein,encoding=\"UTF-8\") as jsonf, open(fileout,\"w\") as csvf:\n",
        "    for line in jsonf:\n",
        "        data = json.loads(line)\n",
        "        #print(data)\n",
        "        data.pop(\"address\")\n",
        "        data.pop(\"city\")\n",
        "        data.pop(\"state\")\n",
        "        data.pop(\"postal_code\")\n",
        "        data.pop(\"review_count\")\n",
        "        data.pop(\"latitude\")\n",
        "        data.pop(\"longitude\")\n",
        "        data.pop(\"stars\")\n",
        "        data.pop(\"is_open\")\n",
        "        data.pop(\"attributes\")\n",
        "        data.pop(\"categories\")\n",
        "        data.pop(\"hours\")\n",
        "        \n",
        "        \n",
        "        if headers:\n",
        "            keys = []\n",
        "            # k : key 값 v : value 값\n",
        "            for k,v in data.items():\n",
        "                #print(\"{} {} \".format(k,v))\n",
        "                keys.append(k)\n",
        "            writer = csv.DictWriter(csvf,fieldnames=keys)\n",
        "            # column 을 key값으로\n",
        "            writer.writeheader()\n",
        "            headers = False\n",
        "        writer.writerow(data)\n",
        "        \n",
        "print(\"No error\")\n",
        "        \n",
        "        "
      ],
      "execution_count": 11,
      "outputs": [
        {
          "output_type": "stream",
          "text": [
            "No error\n"
          ],
          "name": "stdout"
        }
      ]
    },
    {
      "cell_type": "code",
      "metadata": {
        "id": "87N15mvjLBvR",
        "colab_type": "code",
        "colab": {
          "base_uri": "https://localhost:8080/",
          "height": 204
        },
        "outputId": "735cb747-e236-4063-cfea-77f458e3d582"
      },
      "source": [
        "import pandas as pd\n",
        "user = pd.read_csv(\"/content/gdrive/My Drive/business.csv\")\n",
        "user.head()"
      ],
      "execution_count": 7,
      "outputs": [
        {
          "output_type": "execute_result",
          "data": {
            "text/html": [
              "<div>\n",
              "<style scoped>\n",
              "    .dataframe tbody tr th:only-of-type {\n",
              "        vertical-align: middle;\n",
              "    }\n",
              "\n",
              "    .dataframe tbody tr th {\n",
              "        vertical-align: top;\n",
              "    }\n",
              "\n",
              "    .dataframe thead th {\n",
              "        text-align: right;\n",
              "    }\n",
              "</style>\n",
              "<table border=\"1\" class=\"dataframe\">\n",
              "  <thead>\n",
              "    <tr style=\"text-align: right;\">\n",
              "      <th></th>\n",
              "      <th>business_id</th>\n",
              "      <th>name</th>\n",
              "    </tr>\n",
              "  </thead>\n",
              "  <tbody>\n",
              "    <tr>\n",
              "      <th>0</th>\n",
              "      <td>1SWheh84yJXfytovILXOAQ</td>\n",
              "      <td>Arizona Biltmore Golf Club</td>\n",
              "    </tr>\n",
              "    <tr>\n",
              "      <th>1</th>\n",
              "      <td>QXAEGFB4oINsVuTFxEYKFQ</td>\n",
              "      <td>Emerald Chinese Restaurant</td>\n",
              "    </tr>\n",
              "    <tr>\n",
              "      <th>2</th>\n",
              "      <td>gnKjwL_1w79qoiV3IC_xQQ</td>\n",
              "      <td>Musashi Japanese Restaurant</td>\n",
              "    </tr>\n",
              "    <tr>\n",
              "      <th>3</th>\n",
              "      <td>xvX2CttrVhyG2z1dFg_0xw</td>\n",
              "      <td>Farmers Insurance - Paul Lorenz</td>\n",
              "    </tr>\n",
              "    <tr>\n",
              "      <th>4</th>\n",
              "      <td>HhyxOkGAM07SRYtlQ4wMFQ</td>\n",
              "      <td>Queen City Plumbing</td>\n",
              "    </tr>\n",
              "  </tbody>\n",
              "</table>\n",
              "</div>"
            ],
            "text/plain": [
              "              business_id                             name\n",
              "0  1SWheh84yJXfytovILXOAQ       Arizona Biltmore Golf Club\n",
              "1  QXAEGFB4oINsVuTFxEYKFQ       Emerald Chinese Restaurant\n",
              "2  gnKjwL_1w79qoiV3IC_xQQ      Musashi Japanese Restaurant\n",
              "3  xvX2CttrVhyG2z1dFg_0xw  Farmers Insurance - Paul Lorenz\n",
              "4  HhyxOkGAM07SRYtlQ4wMFQ              Queen City Plumbing"
            ]
          },
          "metadata": {
            "tags": []
          },
          "execution_count": 7
        }
      ]
    },
    {
      "cell_type": "code",
      "metadata": {
        "id": "Uv5mFGkJLMxA",
        "colab_type": "code",
        "colab": {}
      },
      "source": [
        ""
      ],
      "execution_count": 0,
      "outputs": []
    }
  ]
}
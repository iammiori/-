{
  "nbformat": 4,
  "nbformat_minor": 0,
  "metadata": {
    "colab": {
      "name": "clean_yelp.ipynb",
      "provenance": [],
      "collapsed_sections": [],
      "include_colab_link": true
    },
    "kernelspec": {
      "name": "python3",
      "display_name": "Python 3"
    },
    "accelerator": "GPU"
  },
  "cells": [
    {
      "cell_type": "markdown",
      "metadata": {
        "id": "view-in-github",
        "colab_type": "text"
      },
      "source": [
        "<a href=\"https://colab.research.google.com/github/iammiori/DataAnalysisAndPractice/blob/master/clean_yelp.ipynb\" target=\"_parent\"><img src=\"https://colab.research.google.com/assets/colab-badge.svg\" alt=\"Open In Colab\"/></a>"
      ]
    },
    {
      "cell_type": "code",
      "metadata": {
        "id": "5TOnLWqnHLjR",
        "colab_type": "code",
        "outputId": "93f7be7f-f07b-4f2f-9836-0bfa9cc7a50a",
        "colab": {
          "base_uri": "https://localhost:8080/",
          "height": 127
        }
      },
      "source": [
        "from google.colab import drive\n",
        "\n",
        "drive.mount('/content/gdrive')"
      ],
      "execution_count": 1,
      "outputs": [
        {
          "output_type": "stream",
          "text": [
            "Go to this URL in a browser: https://accounts.google.com/o/oauth2/auth?client_id=947318989803-6bn6qk8qdgf4n4g3pfee6491hc0brc4i.apps.googleusercontent.com&redirect_uri=urn%3Aietf%3Awg%3Aoauth%3A2.0%3Aoob&scope=email%20https%3A%2F%2Fwww.googleapis.com%2Fauth%2Fdocs.test%20https%3A%2F%2Fwww.googleapis.com%2Fauth%2Fdrive%20https%3A%2F%2Fwww.googleapis.com%2Fauth%2Fdrive.photos.readonly%20https%3A%2F%2Fwww.googleapis.com%2Fauth%2Fpeopleapi.readonly&response_type=code\n",
            "\n",
            "Enter your authorization code:\n",
            "··········\n",
            "Mounted at /content/gdrive\n"
          ],
          "name": "stdout"
        }
      ]
    },
    {
      "cell_type": "code",
      "metadata": {
        "id": "-_m8TgrJHWaK",
        "colab_type": "code",
        "outputId": "045608fc-f5c9-42f3-f053-dcf7a85febef",
        "colab": {
          "base_uri": "https://localhost:8080/",
          "height": 127
        }
      },
      "source": [
        "!pip install ijson"
      ],
      "execution_count": 0,
      "outputs": [
        {
          "output_type": "stream",
          "text": [
            "Collecting ijson\n",
            "\u001b[?25l  Downloading https://files.pythonhosted.org/packages/e6/b5/5c17ebf57e959aca79072a07a758c6d700f9e528daf3c7aea410b5daed2b/ijson-2.5-cp36-cp36m-manylinux1_x86_64.whl (60kB)\n",
            "\r\u001b[K     |█████▍                          | 10kB 16.8MB/s eta 0:00:01\r\u001b[K     |██████████▉                     | 20kB 22.0MB/s eta 0:00:01\r\u001b[K     |████████████████▎               | 30kB 28.2MB/s eta 0:00:01\r\u001b[K     |█████████████████████▋          | 40kB 33.7MB/s eta 0:00:01\r\u001b[K     |███████████████████████████     | 51kB 38.6MB/s eta 0:00:01\r\u001b[K     |████████████████████████████████| 61kB 26.4MB/s \n",
            "\u001b[?25hInstalling collected packages: ijson\n",
            "Successfully installed ijson-2.5\n"
          ],
          "name": "stdout"
        }
      ]
    },
    {
      "cell_type": "code",
      "metadata": {
        "id": "9BX3ONMyHc-v",
        "colab_type": "code",
        "colab": {}
      },
      "source": [
        "with open(\"/content/gdrive/My Drive/review.json\",encoding=\"UTF-8\") as json_file:"
      ],
      "execution_count": 0,
      "outputs": []
    },
    {
      "cell_type": "code",
      "metadata": {
        "id": "9hkvB-oUHgnw",
        "colab_type": "code",
        "colab": {}
      },
      "source": [
        "import time\n",
        "import datetime\n",
        "import json,csv\n",
        "\n",
        "headers = True\n",
        "filein = \"/content/gdrive/My Drive/user.json\"\n",
        "fileout = \"/content/gdrive/My Drive/user3.csv\"\n",
        "\n",
        "with open(filein,encoding=\"UTF-8\") as jsonf, open(fileout,\"w\") as csvf:\n",
        "    for line in jsonf:\n",
        "        data = json.loads(line)\n",
        "        #data.pop(\"review_count\")\n",
        "        data.pop(\"yelping_since\")\n",
        "        data.pop(\"friends\")\n",
        "        data.pop(\"useful\")\n",
        "        data.pop(\"funny\")\n",
        "        data.pop(\"cool\")\n",
        "        data.pop(\"fans\")\n",
        "        data.pop(\"elite\")\n",
        "        data.pop(\"average_stars\")\n",
        "        data.pop(\"compliment_hot\")\n",
        "        data.pop(\"compliment_more\")\n",
        "        data.pop(\"compliment_profile\")\n",
        "        data.pop(\"compliment_cute\")\n",
        "        data.pop(\"compliment_list\")\n",
        "        data.pop(\"compliment_note\")\n",
        "        data.pop(\"compliment_plain\")\n",
        "        data.pop(\"compliment_cool\")\n",
        "        data.pop(\"compliment_funny\")\n",
        "        data.pop(\"compliment_writer\")\n",
        "        data.pop(\"compliment_photos\")\n",
        "        \n",
        "        if headers:\n",
        "            keys = []\n",
        "            for k,v in data.items():\n",
        "                keys.append(k)\n",
        "            writer = csv.DictWriter(csvf,fieldnames=keys)\n",
        "            writer.writeheader()\n",
        "            headers = False\n",
        "        if data['review_count']>=1457:\n",
        "            # user top 500보기 위해 1457 에서 컷\n",
        "            writer.writerow(data)\n",
        "        \n",
        "        "
      ],
      "execution_count": 0,
      "outputs": []
    },
    {
      "cell_type": "code",
      "metadata": {
        "id": "HH6t4EWHJhWg",
        "colab_type": "code",
        "outputId": "fc8ec255-947f-443c-b102-621cb7062417",
        "colab": {
          "base_uri": "https://localhost:8080/",
          "height": 204
        }
      },
      "source": [
        "import pandas as pd\n",
        "user = pd.read_csv(\"/content/gdrive/My Drive/user3.csv\")\n",
        "user.head()"
      ],
      "execution_count": 70,
      "outputs": [
        {
          "output_type": "execute_result",
          "data": {
            "text/html": [
              "<div>\n",
              "<style scoped>\n",
              "    .dataframe tbody tr th:only-of-type {\n",
              "        vertical-align: middle;\n",
              "    }\n",
              "\n",
              "    .dataframe tbody tr th {\n",
              "        vertical-align: top;\n",
              "    }\n",
              "\n",
              "    .dataframe thead th {\n",
              "        text-align: right;\n",
              "    }\n",
              "</style>\n",
              "<table border=\"1\" class=\"dataframe\">\n",
              "  <thead>\n",
              "    <tr style=\"text-align: right;\">\n",
              "      <th></th>\n",
              "      <th>user_id</th>\n",
              "      <th>name</th>\n",
              "      <th>review_count</th>\n",
              "    </tr>\n",
              "  </thead>\n",
              "  <tbody>\n",
              "    <tr>\n",
              "      <th>0</th>\n",
              "      <td>zzpgpo54-_P-4rzzBtOuLQ</td>\n",
              "      <td>Aurélie</td>\n",
              "      <td>1563</td>\n",
              "    </tr>\n",
              "    <tr>\n",
              "      <th>1</th>\n",
              "      <td>eSlOI3GhroEtcbaD_nFXJQ</td>\n",
              "      <td>Jason</td>\n",
              "      <td>2518</td>\n",
              "    </tr>\n",
              "    <tr>\n",
              "      <th>2</th>\n",
              "      <td>U4INQZOPSUaj8hMjLlZ3KA</td>\n",
              "      <td>Michael</td>\n",
              "      <td>4308</td>\n",
              "    </tr>\n",
              "    <tr>\n",
              "      <th>3</th>\n",
              "      <td>XkLK2iBsgqF6mWwDfRgqqQ</td>\n",
              "      <td>Seong</td>\n",
              "      <td>1525</td>\n",
              "    </tr>\n",
              "    <tr>\n",
              "      <th>4</th>\n",
              "      <td>lConjPFTZqz4zWELK_EJtw</td>\n",
              "      <td>Keila</td>\n",
              "      <td>2097</td>\n",
              "    </tr>\n",
              "  </tbody>\n",
              "</table>\n",
              "</div>"
            ],
            "text/plain": [
              "                  user_id     name  review_count\n",
              "0  zzpgpo54-_P-4rzzBtOuLQ  Aurélie          1563\n",
              "1  eSlOI3GhroEtcbaD_nFXJQ    Jason          2518\n",
              "2  U4INQZOPSUaj8hMjLlZ3KA  Michael          4308\n",
              "3  XkLK2iBsgqF6mWwDfRgqqQ    Seong          1525\n",
              "4  lConjPFTZqz4zWELK_EJtw    Keila          2097"
            ]
          },
          "metadata": {
            "tags": []
          },
          "execution_count": 70
        }
      ]
    },
    {
      "cell_type": "code",
      "metadata": {
        "id": "0aNYpisQKFoG",
        "colab_type": "code",
        "colab": {}
      },
      "source": [
        "user = user.sort_values([\"review_count\"],ascending=[False]).reset_index(drop=True)"
      ],
      "execution_count": 0,
      "outputs": []
    },
    {
      "cell_type": "code",
      "metadata": {
        "id": "fuChgw-MT4r4",
        "colab_type": "code",
        "colab": {
          "base_uri": "https://localhost:8080/",
          "height": 204
        },
        "outputId": "9da44c38-f28f-4249-b3a1-79996140400a"
      },
      "source": [
        "user.head()"
      ],
      "execution_count": 72,
      "outputs": [
        {
          "output_type": "execute_result",
          "data": {
            "text/html": [
              "<div>\n",
              "<style scoped>\n",
              "    .dataframe tbody tr th:only-of-type {\n",
              "        vertical-align: middle;\n",
              "    }\n",
              "\n",
              "    .dataframe tbody tr th {\n",
              "        vertical-align: top;\n",
              "    }\n",
              "\n",
              "    .dataframe thead th {\n",
              "        text-align: right;\n",
              "    }\n",
              "</style>\n",
              "<table border=\"1\" class=\"dataframe\">\n",
              "  <thead>\n",
              "    <tr style=\"text-align: right;\">\n",
              "      <th></th>\n",
              "      <th>user_id</th>\n",
              "      <th>name</th>\n",
              "      <th>review_count</th>\n",
              "    </tr>\n",
              "  </thead>\n",
              "  <tbody>\n",
              "    <tr>\n",
              "      <th>0</th>\n",
              "      <td>8k3aO-mPeyhbR5HUucA5aA</td>\n",
              "      <td>Victor</td>\n",
              "      <td>13278</td>\n",
              "    </tr>\n",
              "    <tr>\n",
              "      <th>1</th>\n",
              "      <td>RtGqdDBvvBCjcu5dUqwfzA</td>\n",
              "      <td>Shila</td>\n",
              "      <td>12390</td>\n",
              "    </tr>\n",
              "    <tr>\n",
              "      <th>2</th>\n",
              "      <td>hWDybu_KvYLSdEFzGrniTw</td>\n",
              "      <td>Bruce</td>\n",
              "      <td>10022</td>\n",
              "    </tr>\n",
              "    <tr>\n",
              "      <th>3</th>\n",
              "      <td>P5bUL3Engv-2z6kKohB6qQ</td>\n",
              "      <td>Kim</td>\n",
              "      <td>9821</td>\n",
              "    </tr>\n",
              "    <tr>\n",
              "      <th>4</th>\n",
              "      <td>8RcEwGrFIgkt9WQ35E6SnQ</td>\n",
              "      <td>George</td>\n",
              "      <td>7750</td>\n",
              "    </tr>\n",
              "  </tbody>\n",
              "</table>\n",
              "</div>"
            ],
            "text/plain": [
              "                  user_id    name  review_count\n",
              "0  8k3aO-mPeyhbR5HUucA5aA  Victor         13278\n",
              "1  RtGqdDBvvBCjcu5dUqwfzA   Shila         12390\n",
              "2  hWDybu_KvYLSdEFzGrniTw   Bruce         10022\n",
              "3  P5bUL3Engv-2z6kKohB6qQ     Kim          9821\n",
              "4  8RcEwGrFIgkt9WQ35E6SnQ  George          7750"
            ]
          },
          "metadata": {
            "tags": []
          },
          "execution_count": 72
        }
      ]
    },
    {
      "cell_type": "code",
      "metadata": {
        "id": "bTQwE1z9T6Wo",
        "colab_type": "code",
        "colab": {}
      },
      "source": [
        "user.to_csv(\"/content/gdrive/My Drive/user3.csv\",index=False)"
      ],
      "execution_count": 0,
      "outputs": []
    },
    {
      "cell_type": "code",
      "metadata": {
        "id": "QiTuHK2ThN6M",
        "colab_type": "code",
        "colab": {
          "base_uri": "https://localhost:8080/",
          "height": 35
        },
        "outputId": "fba92b3f-d574-4ce7-e775-8f1379fd6fa6"
      },
      "source": [
        "user_df = pd.read_csv(\"/content/gdrive/My Drive/user3.csv\")\n",
        "user_df.shape"
      ],
      "execution_count": 74,
      "outputs": [
        {
          "output_type": "execute_result",
          "data": {
            "text/plain": [
              "(500, 3)"
            ]
          },
          "metadata": {
            "tags": []
          },
          "execution_count": 74
        }
      ]
    },
    {
      "cell_type": "code",
      "metadata": {
        "id": "KLK9BnqyhUcp",
        "colab_type": "code",
        "colab": {
          "base_uri": "https://localhost:8080/",
          "height": 204
        },
        "outputId": "cde1e408-e4b4-4368-a3f0-7dc86dfb0ab2"
      },
      "source": [
        "user_df.head()"
      ],
      "execution_count": 75,
      "outputs": [
        {
          "output_type": "execute_result",
          "data": {
            "text/html": [
              "<div>\n",
              "<style scoped>\n",
              "    .dataframe tbody tr th:only-of-type {\n",
              "        vertical-align: middle;\n",
              "    }\n",
              "\n",
              "    .dataframe tbody tr th {\n",
              "        vertical-align: top;\n",
              "    }\n",
              "\n",
              "    .dataframe thead th {\n",
              "        text-align: right;\n",
              "    }\n",
              "</style>\n",
              "<table border=\"1\" class=\"dataframe\">\n",
              "  <thead>\n",
              "    <tr style=\"text-align: right;\">\n",
              "      <th></th>\n",
              "      <th>user_id</th>\n",
              "      <th>name</th>\n",
              "      <th>review_count</th>\n",
              "    </tr>\n",
              "  </thead>\n",
              "  <tbody>\n",
              "    <tr>\n",
              "      <th>0</th>\n",
              "      <td>8k3aO-mPeyhbR5HUucA5aA</td>\n",
              "      <td>Victor</td>\n",
              "      <td>13278</td>\n",
              "    </tr>\n",
              "    <tr>\n",
              "      <th>1</th>\n",
              "      <td>RtGqdDBvvBCjcu5dUqwfzA</td>\n",
              "      <td>Shila</td>\n",
              "      <td>12390</td>\n",
              "    </tr>\n",
              "    <tr>\n",
              "      <th>2</th>\n",
              "      <td>hWDybu_KvYLSdEFzGrniTw</td>\n",
              "      <td>Bruce</td>\n",
              "      <td>10022</td>\n",
              "    </tr>\n",
              "    <tr>\n",
              "      <th>3</th>\n",
              "      <td>P5bUL3Engv-2z6kKohB6qQ</td>\n",
              "      <td>Kim</td>\n",
              "      <td>9821</td>\n",
              "    </tr>\n",
              "    <tr>\n",
              "      <th>4</th>\n",
              "      <td>8RcEwGrFIgkt9WQ35E6SnQ</td>\n",
              "      <td>George</td>\n",
              "      <td>7750</td>\n",
              "    </tr>\n",
              "  </tbody>\n",
              "</table>\n",
              "</div>"
            ],
            "text/plain": [
              "                  user_id    name  review_count\n",
              "0  8k3aO-mPeyhbR5HUucA5aA  Victor         13278\n",
              "1  RtGqdDBvvBCjcu5dUqwfzA   Shila         12390\n",
              "2  hWDybu_KvYLSdEFzGrniTw   Bruce         10022\n",
              "3  P5bUL3Engv-2z6kKohB6qQ     Kim          9821\n",
              "4  8RcEwGrFIgkt9WQ35E6SnQ  George          7750"
            ]
          },
          "metadata": {
            "tags": []
          },
          "execution_count": 75
        }
      ]
    },
    {
      "cell_type": "code",
      "metadata": {
        "id": "F6Tyy175h0AD",
        "colab_type": "code",
        "colab": {
          "base_uri": "https://localhost:8080/",
          "height": 35
        },
        "outputId": "3f592b33-a2ae-4c5c-830b-0825da379697"
      },
      "source": [
        "user_id_list = []\n",
        "for i in range(len(user_df)):\n",
        "    tmp = user_df[\"user_id\"].iloc[i]\n",
        "    user_id_list.append(tmp)\n",
        "len(user_id_list)"
      ],
      "execution_count": 76,
      "outputs": [
        {
          "output_type": "execute_result",
          "data": {
            "text/plain": [
              "500"
            ]
          },
          "metadata": {
            "tags": []
          },
          "execution_count": 76
        }
      ]
    },
    {
      "cell_type": "code",
      "metadata": {
        "id": "I7ZQblJOk1i6",
        "colab_type": "code",
        "colab": {
          "base_uri": "https://localhost:8080/",
          "height": 35
        },
        "outputId": "881198e6-7a52-4c86-db95-642e67ff0127"
      },
      "source": [
        "user_name_list = []\n",
        "for i in range(len(user_df)):\n",
        "    tmp = user_df[\"name\"].iloc[i]\n",
        "    user_name_list.append(tmp)\n",
        "len(user_name_list)"
      ],
      "execution_count": 77,
      "outputs": [
        {
          "output_type": "execute_result",
          "data": {
            "text/plain": [
              "500"
            ]
          },
          "metadata": {
            "tags": []
          },
          "execution_count": 77
        }
      ]
    },
    {
      "cell_type": "markdown",
      "metadata": {
        "id": "JhlnwAhWhltv",
        "colab_type": "text"
      },
      "source": [
        "## review 클렌징"
      ]
    },
    {
      "cell_type": "code",
      "metadata": {
        "id": "E9e7PJyQhWID",
        "colab_type": "code",
        "colab": {
          "base_uri": "https://localhost:8080/",
          "height": 35
        },
        "outputId": "38f7072e-6135-47c0-ec88-b107946bfa82"
      },
      "source": [
        "import time\n",
        "import datetime\n",
        "import json,csv\n",
        "\n",
        "headers = True\n",
        "filein = \"/content/gdrive/My Drive/review.json\"\n",
        "fileout = \"/content/gdrive/My Drive/review_top.csv\"\n",
        "\n",
        "with open(filein,encoding=\"UTF-8\") as jsonf, open(fileout,\"w\") as csvf:\n",
        "    for line in jsonf:\n",
        "        data = json.loads(line)\n",
        "        # 필요없는 key값삭제하면서 나중에 읽어올때, 시간 절약\n",
        "        data.pop(\"review_id\")\n",
        "        data.pop(\"date\")\n",
        "        data.pop(\"text\")\n",
        "        data.pop(\"useful\")\n",
        "        data.pop(\"funny\")\n",
        "        data.pop(\"cool\")\n",
        "        \n",
        "        \n",
        "        if headers:\n",
        "            keys = []\n",
        "            for k,v in data.items():\n",
        "                # key 값은 column 으로 value 는 값으로 저장\n",
        "                keys.append(k)\n",
        "            writer = csv.DictWriter(csvf,fieldnames=keys)\n",
        "            writer.writeheader()\n",
        "            headers = False\n",
        "            \n",
        "        if data[\"user_id\"] in user_id_list:\n",
        "            index_num = user_id_list.index(data[\"user_id\"])\n",
        "            data[\"user_id\"] = user_name_list[index_num]\n",
        "            writer.writerow(data)\n",
        "\n",
        "print(\"success\")"
      ],
      "execution_count": 79,
      "outputs": [
        {
          "output_type": "stream",
          "text": [
            "success\n"
          ],
          "name": "stdout"
        }
      ]
    },
    {
      "cell_type": "code",
      "metadata": {
        "id": "JsMPxSl7iTBD",
        "colab_type": "code",
        "colab": {
          "base_uri": "https://localhost:8080/",
          "height": 35
        },
        "outputId": "94758826-1215-44aa-ea53-54e0d294b2c3"
      },
      "source": [
        "review_df = pd.read_csv( \"/content/gdrive/My Drive/review_top.csv\")\n",
        "review_df.shape"
      ],
      "execution_count": 80,
      "outputs": [
        {
          "output_type": "execute_result",
          "data": {
            "text/plain": [
              "(58015, 3)"
            ]
          },
          "metadata": {
            "tags": []
          },
          "execution_count": 80
        }
      ]
    },
    {
      "cell_type": "code",
      "metadata": {
        "id": "4Fh8WazEjQwS",
        "colab_type": "code",
        "colab": {
          "base_uri": "https://localhost:8080/",
          "height": 204
        },
        "outputId": "b37d3c4d-29c5-4a72-d332-04fd07f7791f"
      },
      "source": [
        "review_df.head()"
      ],
      "execution_count": 84,
      "outputs": [
        {
          "output_type": "execute_result",
          "data": {
            "text/html": [
              "<div>\n",
              "<style scoped>\n",
              "    .dataframe tbody tr th:only-of-type {\n",
              "        vertical-align: middle;\n",
              "    }\n",
              "\n",
              "    .dataframe tbody tr th {\n",
              "        vertical-align: top;\n",
              "    }\n",
              "\n",
              "    .dataframe thead th {\n",
              "        text-align: right;\n",
              "    }\n",
              "</style>\n",
              "<table border=\"1\" class=\"dataframe\">\n",
              "  <thead>\n",
              "    <tr style=\"text-align: right;\">\n",
              "      <th></th>\n",
              "      <th>user_id</th>\n",
              "      <th>business_id</th>\n",
              "      <th>stars</th>\n",
              "    </tr>\n",
              "  </thead>\n",
              "  <tbody>\n",
              "    <tr>\n",
              "      <th>0</th>\n",
              "      <td>Chad</td>\n",
              "      <td>N2PlDjUJVfOJzsPzY0Au1w</td>\n",
              "      <td>3.0</td>\n",
              "    </tr>\n",
              "    <tr>\n",
              "      <th>1</th>\n",
              "      <td>Chad</td>\n",
              "      <td>WMj5Uj04pAqFxLMnJQcQqw</td>\n",
              "      <td>3.0</td>\n",
              "    </tr>\n",
              "    <tr>\n",
              "      <th>2</th>\n",
              "      <td>Margret</td>\n",
              "      <td>h6t-dQ1udLHs0ogBFAAPGw</td>\n",
              "      <td>3.0</td>\n",
              "    </tr>\n",
              "    <tr>\n",
              "      <th>3</th>\n",
              "      <td>Shannon</td>\n",
              "      <td>YF4QJ_j-PM7cMZja6K1MwQ</td>\n",
              "      <td>2.0</td>\n",
              "    </tr>\n",
              "    <tr>\n",
              "      <th>4</th>\n",
              "      <td>Jennifer</td>\n",
              "      <td>wuBGY61_1-udSHUrOkM82w</td>\n",
              "      <td>4.0</td>\n",
              "    </tr>\n",
              "  </tbody>\n",
              "</table>\n",
              "</div>"
            ],
            "text/plain": [
              "    user_id             business_id  stars\n",
              "0      Chad  N2PlDjUJVfOJzsPzY0Au1w    3.0\n",
              "1      Chad  WMj5Uj04pAqFxLMnJQcQqw    3.0\n",
              "2   Margret  h6t-dQ1udLHs0ogBFAAPGw    3.0\n",
              "3   Shannon  YF4QJ_j-PM7cMZja6K1MwQ    2.0\n",
              "4  Jennifer  wuBGY61_1-udSHUrOkM82w    4.0"
            ]
          },
          "metadata": {
            "tags": []
          },
          "execution_count": 84
        }
      ]
    },
    {
      "cell_type": "code",
      "metadata": {
        "id": "DgJf9Wmhq3uH",
        "colab_type": "code",
        "colab": {
          "base_uri": "https://localhost:8080/",
          "height": 35
        },
        "outputId": "8d491218-1d9a-4e0f-b84e-4b4b1418464d"
      },
      "source": [
        "store_id_list = []\n",
        "for i in range(len(review_df)):\n",
        "    tmp = review_df[\"business_id\"].iloc[i]\n",
        "    store_id_list.append(tmp)\n",
        "len(store_id_list)"
      ],
      "execution_count": 97,
      "outputs": [
        {
          "output_type": "execute_result",
          "data": {
            "text/plain": [
              "58015"
            ]
          },
          "metadata": {
            "tags": []
          },
          "execution_count": 97
        }
      ]
    },
    {
      "cell_type": "code",
      "metadata": {
        "id": "01OwH98ZrNeY",
        "colab_type": "code",
        "colab": {
          "base_uri": "https://localhost:8080/",
          "height": 107
        },
        "outputId": "0552059a-3d1d-4492-f4c9-bbb45cb1d5d6"
      },
      "source": [
        "store_id_list[:5]"
      ],
      "execution_count": 98,
      "outputs": [
        {
          "output_type": "execute_result",
          "data": {
            "text/plain": [
              "['N2PlDjUJVfOJzsPzY0Au1w',\n",
              " 'WMj5Uj04pAqFxLMnJQcQqw',\n",
              " 'h6t-dQ1udLHs0ogBFAAPGw',\n",
              " 'YF4QJ_j-PM7cMZja6K1MwQ',\n",
              " 'wuBGY61_1-udSHUrOkM82w']"
            ]
          },
          "metadata": {
            "tags": []
          },
          "execution_count": 98
        }
      ]
    },
    {
      "cell_type": "markdown",
      "metadata": {
        "id": "3NiZgB7brqAz",
        "colab_type": "text"
      },
      "source": [
        "빠른 검색을 위한 중복제거"
      ]
    },
    {
      "cell_type": "code",
      "metadata": {
        "id": "8jONhowIrSl2",
        "colab_type": "code",
        "colab": {
          "base_uri": "https://localhost:8080/",
          "height": 35
        },
        "outputId": "1227e951-3eed-49c1-f313-f9b1a1744f83"
      },
      "source": [
        "store_id_list_clean = list(set(store_id_list))\n",
        "len(store_id_list_clean)"
      ],
      "execution_count": 99,
      "outputs": [
        {
          "output_type": "execute_result",
          "data": {
            "text/plain": [
              "28299"
            ]
          },
          "metadata": {
            "tags": []
          },
          "execution_count": 99
        }
      ]
    },
    {
      "cell_type": "code",
      "metadata": {
        "id": "L7ZWy70LmMp1",
        "colab_type": "code",
        "colab": {
          "base_uri": "https://localhost:8080/",
          "height": 35
        },
        "outputId": "f1b56a4d-d2d2-4b0f-99fb-569d36514c9c"
      },
      "source": [
        "import json,csv\n",
        "\n",
        "headers = True\n",
        "filein = \"/content/gdrive/My Drive/business.json\"\n",
        "fileout = \"/content/gdrive/My Drive/business_clean.csv\"\n",
        "with open(filein,encoding=\"UTF-8\") as jsonf, open(fileout,\"w\") as csvf:\n",
        "    for line in jsonf:\n",
        "        data = json.loads(line)\n",
        "        #print(data)\n",
        "        data.pop(\"address\")\n",
        "        data.pop(\"city\")\n",
        "        data.pop(\"state\")\n",
        "        data.pop(\"postal_code\")\n",
        "        #data.pop(\"review_count\")\n",
        "        data.pop(\"latitude\")\n",
        "        data.pop(\"longitude\")\n",
        "        data.pop(\"stars\")\n",
        "        data.pop(\"is_open\")\n",
        "        data.pop(\"attributes\")\n",
        "        data.pop(\"categories\")\n",
        "        data.pop(\"hours\")\n",
        "        \n",
        "        \n",
        "        if headers:\n",
        "            keys = []\n",
        "            # k : key 값 v : value 값\n",
        "            for k,v in data.items():\n",
        "                #print(\"{} {} \".format(k,v))\n",
        "                keys.append(k)\n",
        "            writer = csv.DictWriter(csvf,fieldnames=keys)\n",
        "            # column 을 key값으로\n",
        "            writer.writeheader()\n",
        "            headers = False\n",
        "            \n",
        "        if data[\"business_id\"] in store_id_list_clean:\n",
        "            writer.writerow(data)\n",
        "        \n",
        "print(\"No error\")"
      ],
      "execution_count": 100,
      "outputs": [
        {
          "output_type": "stream",
          "text": [
            "No error\n"
          ],
          "name": "stdout"
        }
      ]
    },
    {
      "cell_type": "code",
      "metadata": {
        "id": "KIle3TpJnzvF",
        "colab_type": "code",
        "colab": {
          "base_uri": "https://localhost:8080/",
          "height": 35
        },
        "outputId": "7d050c0b-9c48-44ce-fac0-cc53403bcb93"
      },
      "source": [
        "business_df = pd.read_csv( \"/content/gdrive/My Drive/business_clean.csv\")\n",
        "business_df.shape"
      ],
      "execution_count": 101,
      "outputs": [
        {
          "output_type": "execute_result",
          "data": {
            "text/plain": [
              "(28299, 3)"
            ]
          },
          "metadata": {
            "tags": []
          },
          "execution_count": 101
        }
      ]
    },
    {
      "cell_type": "code",
      "metadata": {
        "id": "gDWEcir3oa7D",
        "colab_type": "code",
        "colab": {
          "base_uri": "https://localhost:8080/",
          "height": 204
        },
        "outputId": "0c613faf-95de-4bad-df93-01658b4f0b9a"
      },
      "source": [
        "business_df.head()"
      ],
      "execution_count": 102,
      "outputs": [
        {
          "output_type": "execute_result",
          "data": {
            "text/html": [
              "<div>\n",
              "<style scoped>\n",
              "    .dataframe tbody tr th:only-of-type {\n",
              "        vertical-align: middle;\n",
              "    }\n",
              "\n",
              "    .dataframe tbody tr th {\n",
              "        vertical-align: top;\n",
              "    }\n",
              "\n",
              "    .dataframe thead th {\n",
              "        text-align: right;\n",
              "    }\n",
              "</style>\n",
              "<table border=\"1\" class=\"dataframe\">\n",
              "  <thead>\n",
              "    <tr style=\"text-align: right;\">\n",
              "      <th></th>\n",
              "      <th>business_id</th>\n",
              "      <th>name</th>\n",
              "      <th>review_count</th>\n",
              "    </tr>\n",
              "  </thead>\n",
              "  <tbody>\n",
              "    <tr>\n",
              "      <th>0</th>\n",
              "      <td>A98xW4qb7vOTguggHFs7Ng</td>\n",
              "      <td>Hot Yoga Wellness</td>\n",
              "      <td>4</td>\n",
              "    </tr>\n",
              "    <tr>\n",
              "      <th>1</th>\n",
              "      <td>PZ-LZzSlhSe9utkQYU8pFg</td>\n",
              "      <td>Carluccio's Tivoli Gardens</td>\n",
              "      <td>40</td>\n",
              "    </tr>\n",
              "    <tr>\n",
              "      <th>2</th>\n",
              "      <td>dFMxzHygTy6F873843dHAA</td>\n",
              "      <td>Fremont Arcade</td>\n",
              "      <td>38</td>\n",
              "    </tr>\n",
              "    <tr>\n",
              "      <th>3</th>\n",
              "      <td>1RHY4K3BD22FK7Cfftn8Mg</td>\n",
              "      <td>Marathon Diner</td>\n",
              "      <td>35</td>\n",
              "    </tr>\n",
              "    <tr>\n",
              "      <th>4</th>\n",
              "      <td>tstimHoMcYbkSC4eBA1wEg</td>\n",
              "      <td>Maria's Mexican Restaurant &amp; Bakery</td>\n",
              "      <td>184</td>\n",
              "    </tr>\n",
              "  </tbody>\n",
              "</table>\n",
              "</div>"
            ],
            "text/plain": [
              "              business_id                                 name  review_count\n",
              "0  A98xW4qb7vOTguggHFs7Ng                    Hot Yoga Wellness             4\n",
              "1  PZ-LZzSlhSe9utkQYU8pFg           Carluccio's Tivoli Gardens            40\n",
              "2  dFMxzHygTy6F873843dHAA                       Fremont Arcade            38\n",
              "3  1RHY4K3BD22FK7Cfftn8Mg                       Marathon Diner            35\n",
              "4  tstimHoMcYbkSC4eBA1wEg  Maria's Mexican Restaurant & Bakery           184"
            ]
          },
          "metadata": {
            "tags": []
          },
          "execution_count": 102
        }
      ]
    },
    {
      "cell_type": "code",
      "metadata": {
        "id": "o4b0ZuqXoevP",
        "colab_type": "code",
        "colab": {
          "base_uri": "https://localhost:8080/",
          "height": 35
        },
        "outputId": "f27fbc69-c9b7-4f0a-a778-1520acb3f6be"
      },
      "source": [
        "store_name_list = []\n",
        "for i in range(len(business_df)):\n",
        "    tmp = business_df[\"name\"].iloc[i]\n",
        "    store_name_list.append(tmp)\n",
        "len(store_name_list)"
      ],
      "execution_count": 103,
      "outputs": [
        {
          "output_type": "execute_result",
          "data": {
            "text/plain": [
              "28299"
            ]
          },
          "metadata": {
            "tags": []
          },
          "execution_count": 103
        }
      ]
    },
    {
      "cell_type": "code",
      "metadata": {
        "id": "jYZ98rz0sbdu",
        "colab_type": "code",
        "colab": {
          "base_uri": "https://localhost:8080/",
          "height": 35
        },
        "outputId": "aaa99378-7a7a-4ad5-9936-f917f3f4c176"
      },
      "source": [
        "store_id_list2 = []\n",
        "for i in range(len(business_df)):\n",
        "    tmp = business_df[\"business_id\"].iloc[i]\n",
        "    store_id_list2.append(tmp)\n",
        "len(store_id_list2)"
      ],
      "execution_count": 104,
      "outputs": [
        {
          "output_type": "execute_result",
          "data": {
            "text/plain": [
              "28299"
            ]
          },
          "metadata": {
            "tags": []
          },
          "execution_count": 104
        }
      ]
    },
    {
      "cell_type": "markdown",
      "metadata": {
        "id": "8lhOL9LwpaJj",
        "colab_type": "text"
      },
      "source": [
        "## business_id 를 name 으로 바꾸기"
      ]
    },
    {
      "cell_type": "code",
      "metadata": {
        "id": "Wg2iOG5ypYrf",
        "colab_type": "code",
        "colab": {
          "base_uri": "https://localhost:8080/",
          "height": 204
        },
        "outputId": "3a5606ba-9447-402d-f904-9d5766c3537e"
      },
      "source": [
        "review_df.head()"
      ],
      "execution_count": 92,
      "outputs": [
        {
          "output_type": "execute_result",
          "data": {
            "text/html": [
              "<div>\n",
              "<style scoped>\n",
              "    .dataframe tbody tr th:only-of-type {\n",
              "        vertical-align: middle;\n",
              "    }\n",
              "\n",
              "    .dataframe tbody tr th {\n",
              "        vertical-align: top;\n",
              "    }\n",
              "\n",
              "    .dataframe thead th {\n",
              "        text-align: right;\n",
              "    }\n",
              "</style>\n",
              "<table border=\"1\" class=\"dataframe\">\n",
              "  <thead>\n",
              "    <tr style=\"text-align: right;\">\n",
              "      <th></th>\n",
              "      <th>user_id</th>\n",
              "      <th>business_id</th>\n",
              "      <th>stars</th>\n",
              "    </tr>\n",
              "  </thead>\n",
              "  <tbody>\n",
              "    <tr>\n",
              "      <th>0</th>\n",
              "      <td>Chad</td>\n",
              "      <td>N2PlDjUJVfOJzsPzY0Au1w</td>\n",
              "      <td>3.0</td>\n",
              "    </tr>\n",
              "    <tr>\n",
              "      <th>1</th>\n",
              "      <td>Chad</td>\n",
              "      <td>WMj5Uj04pAqFxLMnJQcQqw</td>\n",
              "      <td>3.0</td>\n",
              "    </tr>\n",
              "    <tr>\n",
              "      <th>2</th>\n",
              "      <td>Margret</td>\n",
              "      <td>h6t-dQ1udLHs0ogBFAAPGw</td>\n",
              "      <td>3.0</td>\n",
              "    </tr>\n",
              "    <tr>\n",
              "      <th>3</th>\n",
              "      <td>Shannon</td>\n",
              "      <td>YF4QJ_j-PM7cMZja6K1MwQ</td>\n",
              "      <td>2.0</td>\n",
              "    </tr>\n",
              "    <tr>\n",
              "      <th>4</th>\n",
              "      <td>Jennifer</td>\n",
              "      <td>wuBGY61_1-udSHUrOkM82w</td>\n",
              "      <td>4.0</td>\n",
              "    </tr>\n",
              "  </tbody>\n",
              "</table>\n",
              "</div>"
            ],
            "text/plain": [
              "    user_id             business_id  stars\n",
              "0      Chad  N2PlDjUJVfOJzsPzY0Au1w    3.0\n",
              "1      Chad  WMj5Uj04pAqFxLMnJQcQqw    3.0\n",
              "2   Margret  h6t-dQ1udLHs0ogBFAAPGw    3.0\n",
              "3   Shannon  YF4QJ_j-PM7cMZja6K1MwQ    2.0\n",
              "4  Jennifer  wuBGY61_1-udSHUrOkM82w    4.0"
            ]
          },
          "metadata": {
            "tags": []
          },
          "execution_count": 92
        }
      ]
    },
    {
      "cell_type": "code",
      "metadata": {
        "id": "Qio9_tJep_l_",
        "colab_type": "code",
        "colab": {
          "base_uri": "https://localhost:8080/",
          "height": 35
        },
        "outputId": "7af54d54-13ba-4b4d-eb0d-03ea5d591062"
      },
      "source": [
        "import time\n",
        "import datetime\n",
        "import json,csv\n",
        "\n",
        "headers = True\n",
        "filein = \"/content/gdrive/My Drive/review.json\"\n",
        "fileout = \"/content/gdrive/My Drive/review_top.csv\"\n",
        "\n",
        "with open(filein,encoding=\"UTF-8\") as jsonf, open(fileout,\"w\") as csvf:\n",
        "    for line in jsonf:\n",
        "        data = json.loads(line)\n",
        "        # 필요없는 key값삭제하면서 나중에 읽어올때, 시간 절약\n",
        "        data.pop(\"review_id\")\n",
        "        data.pop(\"date\")\n",
        "        data.pop(\"text\")\n",
        "        data.pop(\"useful\")\n",
        "        data.pop(\"funny\")\n",
        "        data.pop(\"cool\")\n",
        "        \n",
        "        \n",
        "        if headers:\n",
        "            keys = []\n",
        "            for k,v in data.items():\n",
        "                # key 값은 column 으로 value 는 값으로 저장\n",
        "                keys.append(k)\n",
        "            writer = csv.DictWriter(csvf,fieldnames=keys)\n",
        "            writer.writeheader()\n",
        "            headers = False\n",
        "        \n",
        "        # 많은 user 중 많이 rating 한 user 만 갖고오고    \n",
        "        if data[\"user_id\"] in user_id_list:\n",
        "            \n",
        "            # user_id 는 이름으로 바꿔라 (바이트수 절약위해)\n",
        "            index_num = user_id_list.index(data[\"user_id\"])\n",
        "            data[\"user_id\"] = user_name_list[index_num]\n",
        "            \n",
        "            # 마찬가지로 business_id 도 상점이름으로 바꿔라\n",
        "            index_num2 = store_id_list2.index(data[\"business_id\"])\n",
        "            data[\"business_id\"] = store_name_list[index_num2]\n",
        "            writer.writerow(data)\n",
        "\n",
        "print(\"success\")"
      ],
      "execution_count": 108,
      "outputs": [
        {
          "output_type": "stream",
          "text": [
            "success\n"
          ],
          "name": "stdout"
        }
      ]
    },
    {
      "cell_type": "code",
      "metadata": {
        "id": "fZRbqbMWtzM5",
        "colab_type": "code",
        "colab": {
          "base_uri": "https://localhost:8080/",
          "height": 35
        },
        "outputId": "370a0ffc-da2c-4a7a-de12-b4d29961a149"
      },
      "source": [
        "review_df = pd.read_csv( \"/content/gdrive/My Drive/review_top.csv\")\n",
        "review_df.shape"
      ],
      "execution_count": 109,
      "outputs": [
        {
          "output_type": "execute_result",
          "data": {
            "text/plain": [
              "(58015, 3)"
            ]
          },
          "metadata": {
            "tags": []
          },
          "execution_count": 109
        }
      ]
    },
    {
      "cell_type": "code",
      "metadata": {
        "id": "FaiQiz2Kuqre",
        "colab_type": "code",
        "colab": {
          "base_uri": "https://localhost:8080/",
          "height": 204
        },
        "outputId": "a6bc0f12-2707-4374-8c03-4b1381b975c5"
      },
      "source": [
        "review_df.head()"
      ],
      "execution_count": 110,
      "outputs": [
        {
          "output_type": "execute_result",
          "data": {
            "text/html": [
              "<div>\n",
              "<style scoped>\n",
              "    .dataframe tbody tr th:only-of-type {\n",
              "        vertical-align: middle;\n",
              "    }\n",
              "\n",
              "    .dataframe tbody tr th {\n",
              "        vertical-align: top;\n",
              "    }\n",
              "\n",
              "    .dataframe thead th {\n",
              "        text-align: right;\n",
              "    }\n",
              "</style>\n",
              "<table border=\"1\" class=\"dataframe\">\n",
              "  <thead>\n",
              "    <tr style=\"text-align: right;\">\n",
              "      <th></th>\n",
              "      <th>user_id</th>\n",
              "      <th>business_id</th>\n",
              "      <th>stars</th>\n",
              "    </tr>\n",
              "  </thead>\n",
              "  <tbody>\n",
              "    <tr>\n",
              "      <th>0</th>\n",
              "      <td>Chad</td>\n",
              "      <td>China King Super Buffet</td>\n",
              "      <td>3.0</td>\n",
              "    </tr>\n",
              "    <tr>\n",
              "      <th>1</th>\n",
              "      <td>Chad</td>\n",
              "      <td>Panda Express</td>\n",
              "      <td>3.0</td>\n",
              "    </tr>\n",
              "    <tr>\n",
              "      <th>2</th>\n",
              "      <td>Margret</td>\n",
              "      <td>Gap</td>\n",
              "      <td>3.0</td>\n",
              "    </tr>\n",
              "    <tr>\n",
              "      <th>3</th>\n",
              "      <td>Shannon</td>\n",
              "      <td>Encore Beach Club</td>\n",
              "      <td>2.0</td>\n",
              "    </tr>\n",
              "    <tr>\n",
              "      <th>4</th>\n",
              "      <td>Jennifer</td>\n",
              "      <td>Wright Bar</td>\n",
              "      <td>4.0</td>\n",
              "    </tr>\n",
              "  </tbody>\n",
              "</table>\n",
              "</div>"
            ],
            "text/plain": [
              "    user_id              business_id  stars\n",
              "0      Chad  China King Super Buffet    3.0\n",
              "1      Chad            Panda Express    3.0\n",
              "2   Margret                      Gap    3.0\n",
              "3   Shannon        Encore Beach Club    2.0\n",
              "4  Jennifer               Wright Bar    4.0"
            ]
          },
          "metadata": {
            "tags": []
          },
          "execution_count": 110
        }
      ]
    },
    {
      "cell_type": "markdown",
      "metadata": {
        "id": "vGB2dlnUvGjl",
        "colab_type": "text"
      },
      "source": [
        "잘 바뀐 것을 확인할 수 있다."
      ]
    },
    {
      "cell_type": "code",
      "metadata": {
        "id": "hacf6CJFus9d",
        "colab_type": "code",
        "colab": {
          "base_uri": "https://localhost:8080/",
          "height": 35
        },
        "outputId": "5d556e5d-ea2a-4a60-cc12-d7154ffa774a"
      },
      "source": [
        "test_num = store_id_list2.index(\"N2PlDjUJVfOJzsPzY0Au1w\")\n",
        "store_name_list[test_num]"
      ],
      "execution_count": 111,
      "outputs": [
        {
          "output_type": "execute_result",
          "data": {
            "text/plain": [
              "'China King Super Buffet'"
            ]
          },
          "metadata": {
            "tags": []
          },
          "execution_count": 111
        }
      ]
    },
    {
      "cell_type": "code",
      "metadata": {
        "id": "cxQzkd2yv4mO",
        "colab_type": "code",
        "colab": {
          "base_uri": "https://localhost:8080/",
          "height": 204
        },
        "outputId": "485bc7ae-32c2-4282-d882-017bfa96d65b"
      },
      "source": [
        "review_df = review_df.rename(columns={'user_id':'user','business_id':'store'})\n",
        "review_df.head()"
      ],
      "execution_count": 113,
      "outputs": [
        {
          "output_type": "execute_result",
          "data": {
            "text/html": [
              "<div>\n",
              "<style scoped>\n",
              "    .dataframe tbody tr th:only-of-type {\n",
              "        vertical-align: middle;\n",
              "    }\n",
              "\n",
              "    .dataframe tbody tr th {\n",
              "        vertical-align: top;\n",
              "    }\n",
              "\n",
              "    .dataframe thead th {\n",
              "        text-align: right;\n",
              "    }\n",
              "</style>\n",
              "<table border=\"1\" class=\"dataframe\">\n",
              "  <thead>\n",
              "    <tr style=\"text-align: right;\">\n",
              "      <th></th>\n",
              "      <th>user</th>\n",
              "      <th>store</th>\n",
              "      <th>stars</th>\n",
              "    </tr>\n",
              "  </thead>\n",
              "  <tbody>\n",
              "    <tr>\n",
              "      <th>0</th>\n",
              "      <td>Chad</td>\n",
              "      <td>China King Super Buffet</td>\n",
              "      <td>3.0</td>\n",
              "    </tr>\n",
              "    <tr>\n",
              "      <th>1</th>\n",
              "      <td>Chad</td>\n",
              "      <td>Panda Express</td>\n",
              "      <td>3.0</td>\n",
              "    </tr>\n",
              "    <tr>\n",
              "      <th>2</th>\n",
              "      <td>Margret</td>\n",
              "      <td>Gap</td>\n",
              "      <td>3.0</td>\n",
              "    </tr>\n",
              "    <tr>\n",
              "      <th>3</th>\n",
              "      <td>Shannon</td>\n",
              "      <td>Encore Beach Club</td>\n",
              "      <td>2.0</td>\n",
              "    </tr>\n",
              "    <tr>\n",
              "      <th>4</th>\n",
              "      <td>Jennifer</td>\n",
              "      <td>Wright Bar</td>\n",
              "      <td>4.0</td>\n",
              "    </tr>\n",
              "  </tbody>\n",
              "</table>\n",
              "</div>"
            ],
            "text/plain": [
              "       user                    store  stars\n",
              "0      Chad  China King Super Buffet    3.0\n",
              "1      Chad            Panda Express    3.0\n",
              "2   Margret                      Gap    3.0\n",
              "3   Shannon        Encore Beach Club    2.0\n",
              "4  Jennifer               Wright Bar    4.0"
            ]
          },
          "metadata": {
            "tags": []
          },
          "execution_count": 113
        }
      ]
    },
    {
      "cell_type": "code",
      "metadata": {
        "id": "KmVr2cqsvFMt",
        "colab_type": "code",
        "colab": {}
      },
      "source": [
        "ui_matrix = review_df.set_index([\"user\", \"store\"],append=True).unstack()\n",
        "ui_matrix.shape"
      ],
      "execution_count": 0,
      "outputs": []
    },
    {
      "cell_type": "code",
      "metadata": {
        "id": "peKl25qmwX1C",
        "colab_type": "code",
        "colab": {}
      },
      "source": [
        ""
      ],
      "execution_count": 0,
      "outputs": []
    }
  ]
}
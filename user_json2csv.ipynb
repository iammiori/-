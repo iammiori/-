{
  "nbformat": 4,
  "nbformat_minor": 0,
  "metadata": {
    "colab": {
      "name": "user_json2csv.ipynb",
      "provenance": [],
      "collapsed_sections": [],
      "include_colab_link": true
    },
    "kernelspec": {
      "name": "python3",
      "display_name": "Python 3"
    },
    "accelerator": "GPU"
  },
  "cells": [
    {
      "cell_type": "markdown",
      "metadata": {
        "id": "view-in-github",
        "colab_type": "text"
      },
      "source": [
        "<a href=\"https://colab.research.google.com/github/iammiori/DataAnalysisAndPractice/blob/master/user_json2csv.ipynb\" target=\"_parent\"><img src=\"https://colab.research.google.com/assets/colab-badge.svg\" alt=\"Open In Colab\"/></a>"
      ]
    },
    {
      "cell_type": "code",
      "metadata": {
        "id": "5TOnLWqnHLjR",
        "colab_type": "code",
        "outputId": "216fc05d-3198-4d5f-d92b-0e5b9397c8be",
        "colab": {
          "base_uri": "https://localhost:8080/",
          "height": 127
        }
      },
      "source": [
        "from google.colab import drive\n",
        "\n",
        "drive.mount('/content/gdrive')"
      ],
      "execution_count": 0,
      "outputs": [
        {
          "output_type": "stream",
          "text": [
            "Go to this URL in a browser: https://accounts.google.com/o/oauth2/auth?client_id=947318989803-6bn6qk8qdgf4n4g3pfee6491hc0brc4i.apps.googleusercontent.com&redirect_uri=urn%3Aietf%3Awg%3Aoauth%3A2.0%3Aoob&scope=email%20https%3A%2F%2Fwww.googleapis.com%2Fauth%2Fdocs.test%20https%3A%2F%2Fwww.googleapis.com%2Fauth%2Fdrive%20https%3A%2F%2Fwww.googleapis.com%2Fauth%2Fdrive.photos.readonly%20https%3A%2F%2Fwww.googleapis.com%2Fauth%2Fpeopleapi.readonly&response_type=code\n",
            "\n",
            "Enter your authorization code:\n",
            "··········\n",
            "Mounted at /content/gdrive\n"
          ],
          "name": "stdout"
        }
      ]
    },
    {
      "cell_type": "code",
      "metadata": {
        "id": "-_m8TgrJHWaK",
        "colab_type": "code",
        "outputId": "045608fc-f5c9-42f3-f053-dcf7a85febef",
        "colab": {
          "base_uri": "https://localhost:8080/",
          "height": 127
        }
      },
      "source": [
        "!pip install ijson"
      ],
      "execution_count": 0,
      "outputs": [
        {
          "output_type": "stream",
          "text": [
            "Collecting ijson\n",
            "\u001b[?25l  Downloading https://files.pythonhosted.org/packages/e6/b5/5c17ebf57e959aca79072a07a758c6d700f9e528daf3c7aea410b5daed2b/ijson-2.5-cp36-cp36m-manylinux1_x86_64.whl (60kB)\n",
            "\r\u001b[K     |█████▍                          | 10kB 16.8MB/s eta 0:00:01\r\u001b[K     |██████████▉                     | 20kB 22.0MB/s eta 0:00:01\r\u001b[K     |████████████████▎               | 30kB 28.2MB/s eta 0:00:01\r\u001b[K     |█████████████████████▋          | 40kB 33.7MB/s eta 0:00:01\r\u001b[K     |███████████████████████████     | 51kB 38.6MB/s eta 0:00:01\r\u001b[K     |████████████████████████████████| 61kB 26.4MB/s \n",
            "\u001b[?25hInstalling collected packages: ijson\n",
            "Successfully installed ijson-2.5\n"
          ],
          "name": "stdout"
        }
      ]
    },
    {
      "cell_type": "code",
      "metadata": {
        "id": "9hkvB-oUHgnw",
        "colab_type": "code",
        "colab": {}
      },
      "source": [
        "import time\n",
        "import datetime\n",
        "import json,csv\n",
        "\n",
        "headers = True\n",
        "filein = \"/content/gdrive/My Drive/user.json\"\n",
        "fileout = \"/content/gdrive/My Drive/user.csv\"\n",
        "with open(filein,encoding=\"UTF-8\") as jsonf, open(fileout,\"w\") as csvf:\n",
        "    for line in jsonf:\n",
        "        data = json.loads(line)\n",
        "        data.pop(\"review_count\")\n",
        "        data.pop(\"yelping_since\")\n",
        "        data.pop(\"friends\")\n",
        "        data.pop(\"useful\")\n",
        "        data.pop(\"funny\")\n",
        "        data.pop(\"cool\")\n",
        "        data.pop(\"fans\")\n",
        "        data.pop(\"elite\")\n",
        "        data.pop(\"average_stars\")\n",
        "        data.pop(\"compliment_hot\")\n",
        "        data.pop(\"compliment_more\")\n",
        "        data.pop(\"compliment_profile\")\n",
        "        data.pop(\"compliment_cute\")\n",
        "        data.pop(\"compliment_list\")\n",
        "        data.pop(\"compliment_note\")\n",
        "        data.pop(\"compliment_plain\")\n",
        "        data.pop(\"compliment_cool\")\n",
        "        data.pop(\"compliment_funny\")\n",
        "        data.pop(\"compliment_writer\")\n",
        "        data.pop(\"compliment_photos\")\n",
        "        \n",
        "        if headers:\n",
        "            keys = []\n",
        "            for k,v in data.items():\n",
        "                keys.append(k)\n",
        "            writer = csv.DictWriter(csvf,fieldnames=keys)\n",
        "            writer.writeheader()\n",
        "            headers = False\n",
        "        writer.writerow(data)\n",
        "        \n",
        "        "
      ],
      "execution_count": 0,
      "outputs": []
    },
    {
      "cell_type": "code",
      "metadata": {
        "id": "HH6t4EWHJhWg",
        "colab_type": "code",
        "outputId": "a2310451-9f32-43da-aa65-91be1cccff9e",
        "colab": {
          "base_uri": "https://localhost:8080/",
          "height": 204
        }
      },
      "source": [
        "import pandas as pd\n",
        "user = pd.read_csv(\"/content/gdrive/My Drive/user.csv\")\n",
        "user.head()"
      ],
      "execution_count": 0,
      "outputs": [
        {
          "output_type": "execute_result",
          "data": {
            "text/html": [
              "<div>\n",
              "<style scoped>\n",
              "    .dataframe tbody tr th:only-of-type {\n",
              "        vertical-align: middle;\n",
              "    }\n",
              "\n",
              "    .dataframe tbody tr th {\n",
              "        vertical-align: top;\n",
              "    }\n",
              "\n",
              "    .dataframe thead th {\n",
              "        text-align: right;\n",
              "    }\n",
              "</style>\n",
              "<table border=\"1\" class=\"dataframe\">\n",
              "  <thead>\n",
              "    <tr style=\"text-align: right;\">\n",
              "      <th></th>\n",
              "      <th>user_id</th>\n",
              "      <th>name</th>\n",
              "    </tr>\n",
              "  </thead>\n",
              "  <tbody>\n",
              "    <tr>\n",
              "      <th>0</th>\n",
              "      <td>l6BmjZMeQD3rDxWUbiAiow</td>\n",
              "      <td>Rashmi</td>\n",
              "    </tr>\n",
              "    <tr>\n",
              "      <th>1</th>\n",
              "      <td>4XChL029mKr5hydo79Ljxg</td>\n",
              "      <td>Jenna</td>\n",
              "    </tr>\n",
              "    <tr>\n",
              "      <th>2</th>\n",
              "      <td>bc8C_eETBWL0olvFSJJd0w</td>\n",
              "      <td>David</td>\n",
              "    </tr>\n",
              "    <tr>\n",
              "      <th>3</th>\n",
              "      <td>dD0gZpBctWGdWo9WlGuhlA</td>\n",
              "      <td>Angela</td>\n",
              "    </tr>\n",
              "    <tr>\n",
              "      <th>4</th>\n",
              "      <td>MM4RJAeH6yuaN8oZDSt0RA</td>\n",
              "      <td>Nancy</td>\n",
              "    </tr>\n",
              "  </tbody>\n",
              "</table>\n",
              "</div>"
            ],
            "text/plain": [
              "                  user_id    name\n",
              "0  l6BmjZMeQD3rDxWUbiAiow  Rashmi\n",
              "1  4XChL029mKr5hydo79Ljxg   Jenna\n",
              "2  bc8C_eETBWL0olvFSJJd0w   David\n",
              "3  dD0gZpBctWGdWo9WlGuhlA  Angela\n",
              "4  MM4RJAeH6yuaN8oZDSt0RA   Nancy"
            ]
          },
          "metadata": {
            "tags": []
          },
          "execution_count": 7
        }
      ]
    },
    {
      "cell_type": "code",
      "metadata": {
        "id": "0aNYpisQKFoG",
        "colab_type": "code",
        "colab": {}
      },
      "source": [
        ""
      ],
      "execution_count": 0,
      "outputs": []
    }
  ]
}
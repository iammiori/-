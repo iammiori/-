{
  "nbformat": 4,
  "nbformat_minor": 0,
  "metadata": {
    "kernelspec": {
      "name": "python3",
      "display_name": "Python 3"
    },
    "language_info": {
      "codemirror_mode": {
        "name": "ipython",
        "version": 3
      },
      "file_extension": ".py",
      "mimetype": "text/x-python",
      "name": "python",
      "nbconvert_exporter": "python",
      "pygments_lexer": "ipython3",
      "version": "3.7.3"
    },
    "colab": {
      "name": "yelp.ipynb",
      "version": "0.3.2",
      "provenance": [],
      "collapsed_sections": [],
      "machine_shape": "hm",
      "include_colab_link": true
    },
    "accelerator": "GPU"
  },
  "cells": [
    {
      "cell_type": "markdown",
      "metadata": {
        "id": "view-in-github",
        "colab_type": "text"
      },
      "source": [
        "<a href=\"https://colab.research.google.com/github/iammiori/DataAnalysisAndPractice/blob/master/yelp.ipynb\" target=\"_parent\"><img src=\"https://colab.research.google.com/assets/colab-badge.svg\" alt=\"Open In Colab\"/></a>"
      ]
    },
    {
      "cell_type": "code",
      "metadata": {
        "id": "EzeKxJX53JSJ",
        "colab_type": "code",
        "outputId": "98cfd391-e7ce-4204-887d-f84c8426775f",
        "colab": {
          "base_uri": "https://localhost:8080/",
          "height": 127
        }
      },
      "source": [
        "!pip install ijson"
      ],
      "execution_count": 1,
      "outputs": [
        {
          "output_type": "stream",
          "text": [
            "Collecting ijson\n",
            "\u001b[?25l  Downloading https://files.pythonhosted.org/packages/4f/dc/9fa0f204490229f9d4e40169ede79e1d6a29c432ff9061055aab3b517873/ijson-2.4-cp36-cp36m-manylinux1_x86_64.whl (59kB)\n",
            "\r\u001b[K     |█████▌                          | 10kB 20.5MB/s eta 0:00:01\r\u001b[K     |███████████                     | 20kB 1.6MB/s eta 0:00:01\r\u001b[K     |████████████████▍               | 30kB 2.4MB/s eta 0:00:01\r\u001b[K     |██████████████████████          | 40kB 1.6MB/s eta 0:00:01\r\u001b[K     |███████████████████████████▍    | 51kB 2.0MB/s eta 0:00:01\r\u001b[K     |████████████████████████████████| 61kB 2.3MB/s \n",
            "\u001b[?25hInstalling collected packages: ijson\n",
            "Successfully installed ijson-2.4\n"
          ],
          "name": "stdout"
        }
      ]
    },
    {
      "cell_type": "markdown",
      "metadata": {
        "id": "KCnGL2r_DVbq",
        "colab_type": "text"
      },
      "source": [
        "## 1. ijson 설치이유\n",
        "- json 모듈을 이용해, yelp의 review data를 불러오면, 메모리에러가 뜸.\n",
        "- 메모리에러는 노트북상 램 문제인듯 싶었으나, 램이 16기가인 데스크탑도 마찬가지 였음.\n",
        "- 구글링 결과,  json의 한계점이며, ijson 모듈을 찾음."
      ]
    },
    {
      "cell_type": "code",
      "metadata": {
        "id": "oQKjYgjF3hY4",
        "colab_type": "code",
        "outputId": "a675cc99-360e-4fa2-f5a0-8dddbb4dc3d4",
        "colab": {
          "base_uri": "https://localhost:8080/",
          "height": 127
        }
      },
      "source": [
        "from google.colab import drive\n",
        "\n",
        "drive.mount('/content/gdrive')"
      ],
      "execution_count": 1,
      "outputs": [
        {
          "output_type": "stream",
          "text": [
            "Go to this URL in a browser: https://accounts.google.com/o/oauth2/auth?client_id=947318989803-6bn6qk8qdgf4n4g3pfee6491hc0brc4i.apps.googleusercontent.com&redirect_uri=urn%3Aietf%3Awg%3Aoauth%3A2.0%3Aoob&scope=email%20https%3A%2F%2Fwww.googleapis.com%2Fauth%2Fdocs.test%20https%3A%2F%2Fwww.googleapis.com%2Fauth%2Fdrive%20https%3A%2F%2Fwww.googleapis.com%2Fauth%2Fdrive.photos.readonly%20https%3A%2F%2Fwww.googleapis.com%2Fauth%2Fpeopleapi.readonly&response_type=code\n",
            "\n",
            "Enter your authorization code:\n",
            "··········\n",
            "Mounted at /content/gdrive\n"
          ],
          "name": "stdout"
        }
      ]
    },
    {
      "cell_type": "markdown",
      "metadata": {
        "id": "DVz3ZtOcD0xW",
        "colab_type": "text"
      },
      "source": [
        "## 2. Colab 사용과 마운트\n",
        "- 노트북이나, 데스크탑의 jupyter로 돌릴경우, cpu를 활용하기 때문에 대용량 파일을 읽고 쓰기에는 속도와 시간 메모리 문제가 많이 생김.\n",
        "- colab 의 경우, GPU를 끌어다 쓸 수 있기 때문에 코드를 빨리 돌릴수 있을거라 생각해 colab환경에서 데이터를 불러옴\n",
        "- colab에서 데이터를 불러오기위해, 구글드라이브에 접근을 하여야 하므로 마운트는 꼭 해줘야함.(위에 코드가 마운트를 해주는 코드)"
      ]
    },
    {
      "cell_type": "code",
      "metadata": {
        "id": "Lf1tRK4k3fPh",
        "colab_type": "code",
        "outputId": "99563597-e4e8-474d-bb6f-6eb7227c44b4",
        "colab": {
          "base_uri": "https://localhost:8080/",
          "height": 34
        }
      },
      "source": [
        "import io\n",
        "import ijson\n",
        "\n",
        "user = []\n",
        "store =[]\n",
        "rating =[]\n",
        "\n",
        "with open(\"/content/gdrive/My Drive/review.json\",encoding=\"UTF-8\") as json_file:\n",
        "    cursor=0\n",
        "    for line_number,line in enumerate(json_file):\n",
        "        cnt=0\n",
        "        #print(\"{},{}\".format(line_number+1,cursor))\n",
        "        line_as_file = io.StringIO(line)\n",
        "        \n",
        "        json_parser = ijson.parse(line_as_file)\n",
        "        for prefix,type,value in json_parser:\n",
        "            cnt+=1\n",
        "            if cnt in [5,7,9]:\n",
        "                if cnt==5:\n",
        "                    user.append(value)\n",
        "                elif cnt==7:\n",
        "                    store.append(value)\n",
        "                else:\n",
        "                    rating.append(float(value))\n",
        "                \n",
        "        cursor += len(line)\n",
        "print(\"finish\")"
      ],
      "execution_count": 0,
      "outputs": [
        {
          "output_type": "stream",
          "text": [
            "finish\n"
          ],
          "name": "stdout"
        }
      ]
    },
    {
      "cell_type": "markdown",
      "metadata": {
        "id": "dNjo_XWkEczO",
        "colab_type": "text"
      },
      "source": [
        "## 3. json 을 parsing 해서 읽어오면서 필요한 정보  list에 저장\n",
        "```\n",
        "{\"review_id\":\"Q1sbwvVQXV2734tPgoKj4Q\",\"user_id\":\"hG7b0MtEbXx5QzbzE6C_VA\",\"business_id\":\"ujmEBvifdJM6h6RLv4wQIg\",\"stars\":1.0,\"useful\":6,\"funny\":1,\"cool\":0,\"text\":\"Total bill for this horrible service? Over $8Gs. These crooks actually had the nerve to charge us $69 for 3 pills. I checked online the pills can be had for 19 cents EACH! Avoid Hospital ERs at all costs.\",\"date\":\"2013-05-07 04:34:36\"}\n",
        "```\n",
        "\n",
        "- review.json의 형태는 이런 식인데, 위의 코드는 한 줄씩 읽어오는 코드고, 또  cursor 변수가 '{' 를  null \"review_id\" 는 2 review_id의 값은 3 , \"user_id\" 는 4, user_id값은 5 이런식으로 하나씩 늘려가면서 받아온다\n",
        "\n",
        "- 따라서 우리가 필요한 정보는 user,business,stars 값이기 때문에 cursor가 5,7,9 에 있을 때의  json 값을 갖고오면 된다.\n",
        "\n",
        "- 가져온 값은  list에 저장한다.\n"
      ]
    },
    {
      "cell_type": "code",
      "metadata": {
        "id": "wp2mabsI3HyJ",
        "colab_type": "code",
        "outputId": "6b590002-88c7-4b3b-817c-9db7554b25ad",
        "colab": {
          "base_uri": "https://localhost:8080/",
          "height": 34
        }
      },
      "source": [
        "len(user)"
      ],
      "execution_count": 0,
      "outputs": [
        {
          "output_type": "execute_result",
          "data": {
            "text/plain": [
              "6685900"
            ]
          },
          "metadata": {
            "tags": []
          },
          "execution_count": 5
        }
      ]
    },
    {
      "cell_type": "code",
      "metadata": {
        "id": "DCd0JvEJ3HyN",
        "colab_type": "code",
        "outputId": "473d3d06-80aa-456e-b98b-1eb37f453194",
        "colab": {
          "base_uri": "https://localhost:8080/",
          "height": 34
        }
      },
      "source": [
        "len(store)"
      ],
      "execution_count": 0,
      "outputs": [
        {
          "output_type": "execute_result",
          "data": {
            "text/plain": [
              "6685900"
            ]
          },
          "metadata": {
            "tags": []
          },
          "execution_count": 6
        }
      ]
    },
    {
      "cell_type": "code",
      "metadata": {
        "id": "HjhMcKo83HyP",
        "colab_type": "code",
        "outputId": "ee054896-f1c3-4bdd-a860-7bb2073b3e0c",
        "colab": {
          "base_uri": "https://localhost:8080/",
          "height": 34
        }
      },
      "source": [
        "len(rating)"
      ],
      "execution_count": 0,
      "outputs": [
        {
          "output_type": "execute_result",
          "data": {
            "text/plain": [
              "6685900"
            ]
          },
          "metadata": {
            "tags": []
          },
          "execution_count": 7
        }
      ]
    },
    {
      "cell_type": "markdown",
      "metadata": {
        "id": "FLSu2znCF1BA",
        "colab_type": "text"
      },
      "source": [
        "가져온 결과, 6685900 약 6백만개의 data를 가져왔다"
      ]
    },
    {
      "cell_type": "code",
      "metadata": {
        "id": "lJQtxdm93HyR",
        "colab_type": "code",
        "colab": {}
      },
      "source": [
        "import pandas as pd\n",
        "df = pd.DataFrame(columns=[[\"user\",\"store\",\"rating\"]])"
      ],
      "execution_count": 0,
      "outputs": []
    },
    {
      "cell_type": "markdown",
      "metadata": {
        "id": "vlZ42F99F-I7",
        "colab_type": "text"
      },
      "source": [
        "## 4. DataFrame 생성\n",
        "- user, store, rating column 으로 dataframe 을 만들어준다."
      ]
    },
    {
      "cell_type": "code",
      "metadata": {
        "id": "QL_xwGIC3HyT",
        "colab_type": "code",
        "outputId": "23f0f0d2-c55d-45dd-d150-277f4e7eb829",
        "colab": {
          "base_uri": "https://localhost:8080/",
          "height": 49
        }
      },
      "source": [
        "df"
      ],
      "execution_count": 0,
      "outputs": [
        {
          "output_type": "execute_result",
          "data": {
            "text/html": [
              "<div>\n",
              "<style scoped>\n",
              "    .dataframe tbody tr th:only-of-type {\n",
              "        vertical-align: middle;\n",
              "    }\n",
              "\n",
              "    .dataframe tbody tr th {\n",
              "        vertical-align: top;\n",
              "    }\n",
              "\n",
              "    .dataframe thead tr th {\n",
              "        text-align: left;\n",
              "    }\n",
              "</style>\n",
              "<table border=\"1\" class=\"dataframe\">\n",
              "  <thead>\n",
              "    <tr>\n",
              "      <th></th>\n",
              "      <th>user</th>\n",
              "      <th>store</th>\n",
              "      <th>rating</th>\n",
              "    </tr>\n",
              "  </thead>\n",
              "  <tbody>\n",
              "  </tbody>\n",
              "</table>\n",
              "</div>"
            ],
            "text/plain": [
              "Empty DataFrame\n",
              "Columns: [(user,), (store,), (rating,)]\n",
              "Index: []"
            ]
          },
          "metadata": {
            "tags": []
          },
          "execution_count": 9
        }
      ]
    },
    {
      "cell_type": "code",
      "metadata": {
        "id": "qZIVGn2e3HyV",
        "colab_type": "code",
        "colab": {}
      },
      "source": [
        "df[\"user\"]=user"
      ],
      "execution_count": 0,
      "outputs": []
    },
    {
      "cell_type": "code",
      "metadata": {
        "id": "0qXjoWEV3HyX",
        "colab_type": "code",
        "colab": {}
      },
      "source": [
        "df[\"store\"]=store"
      ],
      "execution_count": 0,
      "outputs": []
    },
    {
      "cell_type": "code",
      "metadata": {
        "id": "IVBn7rH93HyZ",
        "colab_type": "code",
        "colab": {}
      },
      "source": [
        "df[\"rating\"]=rating"
      ],
      "execution_count": 0,
      "outputs": []
    },
    {
      "cell_type": "code",
      "metadata": {
        "id": "KdAUoeyr3Hyb",
        "colab_type": "code",
        "outputId": "62075996-c9e9-4517-ac40-a125b8218f2c",
        "colab": {
          "base_uri": "https://localhost:8080/",
          "height": 204
        }
      },
      "source": [
        "df.head()"
      ],
      "execution_count": 0,
      "outputs": [
        {
          "output_type": "execute_result",
          "data": {
            "text/html": [
              "<div>\n",
              "<style scoped>\n",
              "    .dataframe tbody tr th:only-of-type {\n",
              "        vertical-align: middle;\n",
              "    }\n",
              "\n",
              "    .dataframe tbody tr th {\n",
              "        vertical-align: top;\n",
              "    }\n",
              "\n",
              "    .dataframe thead tr th {\n",
              "        text-align: left;\n",
              "    }\n",
              "</style>\n",
              "<table border=\"1\" class=\"dataframe\">\n",
              "  <thead>\n",
              "    <tr>\n",
              "      <th></th>\n",
              "      <th>user</th>\n",
              "      <th>store</th>\n",
              "      <th>rating</th>\n",
              "    </tr>\n",
              "  </thead>\n",
              "  <tbody>\n",
              "    <tr>\n",
              "      <th>0</th>\n",
              "      <td>hG7b0MtEbXx5QzbzE6C_VA</td>\n",
              "      <td>ujmEBvifdJM6h6RLv4wQIg</td>\n",
              "      <td>1.0</td>\n",
              "    </tr>\n",
              "    <tr>\n",
              "      <th>1</th>\n",
              "      <td>yXQM5uF2jS6es16SJzNHfg</td>\n",
              "      <td>NZnhc2sEQy3RmzKTZnqtwQ</td>\n",
              "      <td>5.0</td>\n",
              "    </tr>\n",
              "    <tr>\n",
              "      <th>2</th>\n",
              "      <td>n6-Gk65cPZL6Uz8qRm3NYw</td>\n",
              "      <td>WTqjgwHlXbSFevF32_DJVw</td>\n",
              "      <td>5.0</td>\n",
              "    </tr>\n",
              "    <tr>\n",
              "      <th>3</th>\n",
              "      <td>dacAIZ6fTM6mqwW5uxkskg</td>\n",
              "      <td>ikCg8xy5JIg_NGPx-MSIDA</td>\n",
              "      <td>5.0</td>\n",
              "    </tr>\n",
              "    <tr>\n",
              "      <th>4</th>\n",
              "      <td>ssoyf2_x0EQMed6fgHeMyQ</td>\n",
              "      <td>b1b1eb3uo-w561D0ZfCEiQ</td>\n",
              "      <td>1.0</td>\n",
              "    </tr>\n",
              "  </tbody>\n",
              "</table>\n",
              "</div>"
            ],
            "text/plain": [
              "                     user                   store rating\n",
              "0  hG7b0MtEbXx5QzbzE6C_VA  ujmEBvifdJM6h6RLv4wQIg    1.0\n",
              "1  yXQM5uF2jS6es16SJzNHfg  NZnhc2sEQy3RmzKTZnqtwQ    5.0\n",
              "2  n6-Gk65cPZL6Uz8qRm3NYw  WTqjgwHlXbSFevF32_DJVw    5.0\n",
              "3  dacAIZ6fTM6mqwW5uxkskg  ikCg8xy5JIg_NGPx-MSIDA    5.0\n",
              "4  ssoyf2_x0EQMed6fgHeMyQ  b1b1eb3uo-w561D0ZfCEiQ    1.0"
            ]
          },
          "metadata": {
            "tags": []
          },
          "execution_count": 13
        }
      ]
    },
    {
      "cell_type": "code",
      "metadata": {
        "id": "XfCf8PpD3Hyd",
        "colab_type": "code",
        "colab": {}
      },
      "source": [
        "df.to_csv(\"/content/gdrive/My Drive/review.csv\",index=False)"
      ],
      "execution_count": 0,
      "outputs": []
    },
    {
      "cell_type": "code",
      "metadata": {
        "id": "MLuFpF-7WY2d",
        "colab_type": "code",
        "colab": {}
      },
      "source": [
        "import pandas as pd\n",
        "df1 = pd.read_csv(\"/content/gdrive/My Drive/review.csv\")"
      ],
      "execution_count": 0,
      "outputs": []
    },
    {
      "cell_type": "code",
      "metadata": {
        "id": "IB09Tfe3WiBJ",
        "colab_type": "code",
        "outputId": "60c88cbb-63f4-4052-b917-5155fe4510d8",
        "colab": {
          "base_uri": "https://localhost:8080/",
          "height": 35
        }
      },
      "source": [
        "df1.shape"
      ],
      "execution_count": 3,
      "outputs": [
        {
          "output_type": "execute_result",
          "data": {
            "text/plain": [
              "(6685900, 3)"
            ]
          },
          "metadata": {
            "tags": []
          },
          "execution_count": 3
        }
      ]
    },
    {
      "cell_type": "markdown",
      "metadata": {
        "id": "2oaRSZ5xGYeX",
        "colab_type": "text"
      },
      "source": [
        "그 결과, 모든 결과가 csv에 들어갔으나, 큰 용량 때문에, 엑셀에서 로드가 되지 않는다. \n",
        "또한 6백만개의 데이터는 많기 때문에 sampling을 하기로 하였다."
      ]
    },
    {
      "cell_type": "code",
      "metadata": {
        "id": "fqCU2B5EWtb0",
        "colab_type": "code",
        "colab": {
          "base_uri": "https://localhost:8080/",
          "height": 204
        },
        "outputId": "fd256913-7779-4246-b105-38bf260a8d6b"
      },
      "source": [
        "df1.head()"
      ],
      "execution_count": 4,
      "outputs": [
        {
          "output_type": "execute_result",
          "data": {
            "text/html": [
              "<div>\n",
              "<style scoped>\n",
              "    .dataframe tbody tr th:only-of-type {\n",
              "        vertical-align: middle;\n",
              "    }\n",
              "\n",
              "    .dataframe tbody tr th {\n",
              "        vertical-align: top;\n",
              "    }\n",
              "\n",
              "    .dataframe thead th {\n",
              "        text-align: right;\n",
              "    }\n",
              "</style>\n",
              "<table border=\"1\" class=\"dataframe\">\n",
              "  <thead>\n",
              "    <tr style=\"text-align: right;\">\n",
              "      <th></th>\n",
              "      <th>user</th>\n",
              "      <th>store</th>\n",
              "      <th>rating</th>\n",
              "    </tr>\n",
              "  </thead>\n",
              "  <tbody>\n",
              "    <tr>\n",
              "      <th>0</th>\n",
              "      <td>hG7b0MtEbXx5QzbzE6C_VA</td>\n",
              "      <td>ujmEBvifdJM6h6RLv4wQIg</td>\n",
              "      <td>1.0</td>\n",
              "    </tr>\n",
              "    <tr>\n",
              "      <th>1</th>\n",
              "      <td>yXQM5uF2jS6es16SJzNHfg</td>\n",
              "      <td>NZnhc2sEQy3RmzKTZnqtwQ</td>\n",
              "      <td>5.0</td>\n",
              "    </tr>\n",
              "    <tr>\n",
              "      <th>2</th>\n",
              "      <td>n6-Gk65cPZL6Uz8qRm3NYw</td>\n",
              "      <td>WTqjgwHlXbSFevF32_DJVw</td>\n",
              "      <td>5.0</td>\n",
              "    </tr>\n",
              "    <tr>\n",
              "      <th>3</th>\n",
              "      <td>dacAIZ6fTM6mqwW5uxkskg</td>\n",
              "      <td>ikCg8xy5JIg_NGPx-MSIDA</td>\n",
              "      <td>5.0</td>\n",
              "    </tr>\n",
              "    <tr>\n",
              "      <th>4</th>\n",
              "      <td>ssoyf2_x0EQMed6fgHeMyQ</td>\n",
              "      <td>b1b1eb3uo-w561D0ZfCEiQ</td>\n",
              "      <td>1.0</td>\n",
              "    </tr>\n",
              "  </tbody>\n",
              "</table>\n",
              "</div>"
            ],
            "text/plain": [
              "                     user                   store  rating\n",
              "0  hG7b0MtEbXx5QzbzE6C_VA  ujmEBvifdJM6h6RLv4wQIg     1.0\n",
              "1  yXQM5uF2jS6es16SJzNHfg  NZnhc2sEQy3RmzKTZnqtwQ     5.0\n",
              "2  n6-Gk65cPZL6Uz8qRm3NYw  WTqjgwHlXbSFevF32_DJVw     5.0\n",
              "3  dacAIZ6fTM6mqwW5uxkskg  ikCg8xy5JIg_NGPx-MSIDA     5.0\n",
              "4  ssoyf2_x0EQMed6fgHeMyQ  b1b1eb3uo-w561D0ZfCEiQ     1.0"
            ]
          },
          "metadata": {
            "tags": []
          },
          "execution_count": 4
        }
      ]
    },
    {
      "cell_type": "markdown",
      "metadata": {
        "id": "4Kn9tC4xHXcr",
        "colab_type": "text"
      },
      "source": [
        "## 5. Data Sampling\n"
      ]
    },
    {
      "cell_type": "code",
      "metadata": {
        "id": "AHHX_Y4i9A0A",
        "colab_type": "code",
        "colab": {
          "base_uri": "https://localhost:8080/",
          "height": 204
        },
        "outputId": "6f48a880-055a-45e3-841a-ac53c1cd2cd2"
      },
      "source": [
        "#전체 약 6백7만개 정도 되니 데이터 축소를 위해 10%로 샘플링\n",
        "df_sample = df1.sample(frac=0.016,random_state=777).reset_index()\n",
        "df_sample.head()"
      ],
      "execution_count": 22,
      "outputs": [
        {
          "output_type": "execute_result",
          "data": {
            "text/html": [
              "<div>\n",
              "<style scoped>\n",
              "    .dataframe tbody tr th:only-of-type {\n",
              "        vertical-align: middle;\n",
              "    }\n",
              "\n",
              "    .dataframe tbody tr th {\n",
              "        vertical-align: top;\n",
              "    }\n",
              "\n",
              "    .dataframe thead th {\n",
              "        text-align: right;\n",
              "    }\n",
              "</style>\n",
              "<table border=\"1\" class=\"dataframe\">\n",
              "  <thead>\n",
              "    <tr style=\"text-align: right;\">\n",
              "      <th></th>\n",
              "      <th>index</th>\n",
              "      <th>user</th>\n",
              "      <th>store</th>\n",
              "      <th>rating</th>\n",
              "    </tr>\n",
              "  </thead>\n",
              "  <tbody>\n",
              "    <tr>\n",
              "      <th>0</th>\n",
              "      <td>4574077</td>\n",
              "      <td>RAqriks-b0qAyNjbhX-Vfw</td>\n",
              "      <td>cKmhPywftFx1iPaBjvvr7Q</td>\n",
              "      <td>5.0</td>\n",
              "    </tr>\n",
              "    <tr>\n",
              "      <th>1</th>\n",
              "      <td>4929990</td>\n",
              "      <td>79XVZ6YyBuytf6GkkaDPLA</td>\n",
              "      <td>Jur1iiejUFw_YCkfDfy1gQ</td>\n",
              "      <td>4.0</td>\n",
              "    </tr>\n",
              "    <tr>\n",
              "      <th>2</th>\n",
              "      <td>1732551</td>\n",
              "      <td>2SLzz7CHvmVMhKuISyqKtQ</td>\n",
              "      <td>LNGBEEelQx4zbfWnlc66cw</td>\n",
              "      <td>4.0</td>\n",
              "    </tr>\n",
              "    <tr>\n",
              "      <th>3</th>\n",
              "      <td>2310044</td>\n",
              "      <td>jzC4DBdaXCiRtFUvv2bKLQ</td>\n",
              "      <td>f4x1YBxkLrZg652xt2KR5g</td>\n",
              "      <td>1.0</td>\n",
              "    </tr>\n",
              "    <tr>\n",
              "      <th>4</th>\n",
              "      <td>1323756</td>\n",
              "      <td>8KHlpXRfn_CSnQRy_ghOJQ</td>\n",
              "      <td>qHA-e0jhtXj5BC5XawUSJw</td>\n",
              "      <td>5.0</td>\n",
              "    </tr>\n",
              "  </tbody>\n",
              "</table>\n",
              "</div>"
            ],
            "text/plain": [
              "     index                    user                   store  rating\n",
              "0  4574077  RAqriks-b0qAyNjbhX-Vfw  cKmhPywftFx1iPaBjvvr7Q     5.0\n",
              "1  4929990  79XVZ6YyBuytf6GkkaDPLA  Jur1iiejUFw_YCkfDfy1gQ     4.0\n",
              "2  1732551  2SLzz7CHvmVMhKuISyqKtQ  LNGBEEelQx4zbfWnlc66cw     4.0\n",
              "3  2310044  jzC4DBdaXCiRtFUvv2bKLQ  f4x1YBxkLrZg652xt2KR5g     1.0\n",
              "4  1323756  8KHlpXRfn_CSnQRy_ghOJQ  qHA-e0jhtXj5BC5XawUSJw     5.0"
            ]
          },
          "metadata": {
            "tags": []
          },
          "execution_count": 22
        }
      ]
    },
    {
      "cell_type": "code",
      "metadata": {
        "id": "9ZxiyS9a9gUy",
        "colab_type": "code",
        "colab": {
          "base_uri": "https://localhost:8080/",
          "height": 204
        },
        "outputId": "50cc57b7-5fe9-43ba-a3d1-5882204b7e77"
      },
      "source": [
        "df_sample = df_sample.drop([\"index\"],axis=1)\n",
        "df_sample.head()"
      ],
      "execution_count": 23,
      "outputs": [
        {
          "output_type": "execute_result",
          "data": {
            "text/html": [
              "<div>\n",
              "<style scoped>\n",
              "    .dataframe tbody tr th:only-of-type {\n",
              "        vertical-align: middle;\n",
              "    }\n",
              "\n",
              "    .dataframe tbody tr th {\n",
              "        vertical-align: top;\n",
              "    }\n",
              "\n",
              "    .dataframe thead th {\n",
              "        text-align: right;\n",
              "    }\n",
              "</style>\n",
              "<table border=\"1\" class=\"dataframe\">\n",
              "  <thead>\n",
              "    <tr style=\"text-align: right;\">\n",
              "      <th></th>\n",
              "      <th>user</th>\n",
              "      <th>store</th>\n",
              "      <th>rating</th>\n",
              "    </tr>\n",
              "  </thead>\n",
              "  <tbody>\n",
              "    <tr>\n",
              "      <th>0</th>\n",
              "      <td>RAqriks-b0qAyNjbhX-Vfw</td>\n",
              "      <td>cKmhPywftFx1iPaBjvvr7Q</td>\n",
              "      <td>5.0</td>\n",
              "    </tr>\n",
              "    <tr>\n",
              "      <th>1</th>\n",
              "      <td>79XVZ6YyBuytf6GkkaDPLA</td>\n",
              "      <td>Jur1iiejUFw_YCkfDfy1gQ</td>\n",
              "      <td>4.0</td>\n",
              "    </tr>\n",
              "    <tr>\n",
              "      <th>2</th>\n",
              "      <td>2SLzz7CHvmVMhKuISyqKtQ</td>\n",
              "      <td>LNGBEEelQx4zbfWnlc66cw</td>\n",
              "      <td>4.0</td>\n",
              "    </tr>\n",
              "    <tr>\n",
              "      <th>3</th>\n",
              "      <td>jzC4DBdaXCiRtFUvv2bKLQ</td>\n",
              "      <td>f4x1YBxkLrZg652xt2KR5g</td>\n",
              "      <td>1.0</td>\n",
              "    </tr>\n",
              "    <tr>\n",
              "      <th>4</th>\n",
              "      <td>8KHlpXRfn_CSnQRy_ghOJQ</td>\n",
              "      <td>qHA-e0jhtXj5BC5XawUSJw</td>\n",
              "      <td>5.0</td>\n",
              "    </tr>\n",
              "  </tbody>\n",
              "</table>\n",
              "</div>"
            ],
            "text/plain": [
              "                     user                   store  rating\n",
              "0  RAqriks-b0qAyNjbhX-Vfw  cKmhPywftFx1iPaBjvvr7Q     5.0\n",
              "1  79XVZ6YyBuytf6GkkaDPLA  Jur1iiejUFw_YCkfDfy1gQ     4.0\n",
              "2  2SLzz7CHvmVMhKuISyqKtQ  LNGBEEelQx4zbfWnlc66cw     4.0\n",
              "3  jzC4DBdaXCiRtFUvv2bKLQ  f4x1YBxkLrZg652xt2KR5g     1.0\n",
              "4  8KHlpXRfn_CSnQRy_ghOJQ  qHA-e0jhtXj5BC5XawUSJw     5.0"
            ]
          },
          "metadata": {
            "tags": []
          },
          "execution_count": 23
        }
      ]
    },
    {
      "cell_type": "code",
      "metadata": {
        "id": "95JthPriJ7G_",
        "colab_type": "code",
        "colab": {
          "base_uri": "https://localhost:8080/",
          "height": 35
        },
        "outputId": "81550cf7-d6df-45d7-e4d2-74c94228d27a"
      },
      "source": [
        "df_sample.shape"
      ],
      "execution_count": 24,
      "outputs": [
        {
          "output_type": "execute_result",
          "data": {
            "text/plain": [
              "(106974, 3)"
            ]
          },
          "metadata": {
            "tags": []
          },
          "execution_count": 24
        }
      ]
    },
    {
      "cell_type": "code",
      "metadata": {
        "id": "eSddx1xF-PFM",
        "colab_type": "code",
        "colab": {}
      },
      "source": [
        "df_sample.to_csv(\"/content/gdrive/My Drive/review_sample.csv\",index=False)"
      ],
      "execution_count": 0,
      "outputs": []
    },
    {
      "cell_type": "markdown",
      "metadata": {
        "id": "NFR3w7skGoBi",
        "colab_type": "text"
      },
      "source": [
        "sampling 한 결과 최종 파일 저장 완료\n",
        "\n",
        "- sampling frac 을 0.1로 했을 때, unstack 을 하는 과정에서 램용량 오류발생."
      ]
    },
    {
      "cell_type": "markdown",
      "metadata": {
        "id": "U-hYwl1SHLYf",
        "colab_type": "text"
      },
      "source": [
        "## 6. User-Item matrix 생성\n"
      ]
    },
    {
      "cell_type": "code",
      "metadata": {
        "id": "FI2rINCuHVTA",
        "colab_type": "code",
        "colab": {}
      },
      "source": [
        "df_sampling = pd.read_csv(\"/content/gdrive/My Drive/review_sample.csv\")"
      ],
      "execution_count": 0,
      "outputs": []
    },
    {
      "cell_type": "code",
      "metadata": {
        "id": "kGnLyVeWHqsb",
        "colab_type": "code",
        "colab": {
          "base_uri": "https://localhost:8080/",
          "height": 204
        },
        "outputId": "fd1e78c2-f4ba-4123-b592-d79b2c429f24"
      },
      "source": [
        "df_sampling.head()"
      ],
      "execution_count": 27,
      "outputs": [
        {
          "output_type": "execute_result",
          "data": {
            "text/html": [
              "<div>\n",
              "<style scoped>\n",
              "    .dataframe tbody tr th:only-of-type {\n",
              "        vertical-align: middle;\n",
              "    }\n",
              "\n",
              "    .dataframe tbody tr th {\n",
              "        vertical-align: top;\n",
              "    }\n",
              "\n",
              "    .dataframe thead th {\n",
              "        text-align: right;\n",
              "    }\n",
              "</style>\n",
              "<table border=\"1\" class=\"dataframe\">\n",
              "  <thead>\n",
              "    <tr style=\"text-align: right;\">\n",
              "      <th></th>\n",
              "      <th>user</th>\n",
              "      <th>store</th>\n",
              "      <th>rating</th>\n",
              "    </tr>\n",
              "  </thead>\n",
              "  <tbody>\n",
              "    <tr>\n",
              "      <th>0</th>\n",
              "      <td>RAqriks-b0qAyNjbhX-Vfw</td>\n",
              "      <td>cKmhPywftFx1iPaBjvvr7Q</td>\n",
              "      <td>5.0</td>\n",
              "    </tr>\n",
              "    <tr>\n",
              "      <th>1</th>\n",
              "      <td>79XVZ6YyBuytf6GkkaDPLA</td>\n",
              "      <td>Jur1iiejUFw_YCkfDfy1gQ</td>\n",
              "      <td>4.0</td>\n",
              "    </tr>\n",
              "    <tr>\n",
              "      <th>2</th>\n",
              "      <td>2SLzz7CHvmVMhKuISyqKtQ</td>\n",
              "      <td>LNGBEEelQx4zbfWnlc66cw</td>\n",
              "      <td>4.0</td>\n",
              "    </tr>\n",
              "    <tr>\n",
              "      <th>3</th>\n",
              "      <td>jzC4DBdaXCiRtFUvv2bKLQ</td>\n",
              "      <td>f4x1YBxkLrZg652xt2KR5g</td>\n",
              "      <td>1.0</td>\n",
              "    </tr>\n",
              "    <tr>\n",
              "      <th>4</th>\n",
              "      <td>8KHlpXRfn_CSnQRy_ghOJQ</td>\n",
              "      <td>qHA-e0jhtXj5BC5XawUSJw</td>\n",
              "      <td>5.0</td>\n",
              "    </tr>\n",
              "  </tbody>\n",
              "</table>\n",
              "</div>"
            ],
            "text/plain": [
              "                     user                   store  rating\n",
              "0  RAqriks-b0qAyNjbhX-Vfw  cKmhPywftFx1iPaBjvvr7Q     5.0\n",
              "1  79XVZ6YyBuytf6GkkaDPLA  Jur1iiejUFw_YCkfDfy1gQ     4.0\n",
              "2  2SLzz7CHvmVMhKuISyqKtQ  LNGBEEelQx4zbfWnlc66cw     4.0\n",
              "3  jzC4DBdaXCiRtFUvv2bKLQ  f4x1YBxkLrZg652xt2KR5g     1.0\n",
              "4  8KHlpXRfn_CSnQRy_ghOJQ  qHA-e0jhtXj5BC5XawUSJw     5.0"
            ]
          },
          "metadata": {
            "tags": []
          },
          "execution_count": 27
        }
      ]
    },
    {
      "cell_type": "code",
      "metadata": {
        "id": "Er3C6LTQHtlU",
        "colab_type": "code",
        "colab": {}
      },
      "source": [
        "ui_matrix = df_sampling.set_index([\"user\",\"store\"],append=True).unstack()\n",
        "ui_matrix.head()"
      ],
      "execution_count": 0,
      "outputs": []
    },
    {
      "cell_type": "code",
      "metadata": {
        "id": "C1YFSIUeLblU",
        "colab_type": "code",
        "colab": {}
      },
      "source": [
        ""
      ],
      "execution_count": 0,
      "outputs": []
    }
  ]
}
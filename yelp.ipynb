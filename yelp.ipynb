{
  "nbformat": 4,
  "nbformat_minor": 0,
  "metadata": {
    "kernelspec": {
      "name": "python3",
      "display_name": "Python 3"
    },
    "language_info": {
      "codemirror_mode": {
        "name": "ipython",
        "version": 3
      },
      "file_extension": ".py",
      "mimetype": "text/x-python",
      "name": "python",
      "nbconvert_exporter": "python",
      "pygments_lexer": "ipython3",
      "version": "3.7.3"
    },
    "colab": {
      "name": "yelp.ipynb",
      "version": "0.3.2",
      "provenance": [],
      "include_colab_link": true
    },
    "accelerator": "GPU"
  },
  "cells": [
    {
      "cell_type": "markdown",
      "metadata": {
        "id": "view-in-github",
        "colab_type": "text"
      },
      "source": [
        "<a href=\"https://colab.research.google.com/github/iammiori/DataAnalysisAndPractice/blob/master/yelp.ipynb\" target=\"_parent\"><img src=\"https://colab.research.google.com/assets/colab-badge.svg\" alt=\"Open In Colab\"/></a>"
      ]
    },
    {
      "cell_type": "markdown",
      "metadata": {
        "id": "H1Z0FNZt3HyI",
        "colab_type": "text"
      },
      "source": [
        "import io\n",
        "import ijson\n",
        "\n",
        "user = []\n",
        "store =[]\n",
        "rating =[]\n",
        "total = []\n",
        " \n",
        "with open(\"dataset/review.json\",encoding=\"UTF-8\") as json_file:\n",
        "    cursor=0\n",
        "    for line_number,line in enumerate(json_file):\n",
        "        cnt=0\n",
        "        print(\"{},{}\".format(line_number+1,cursor))\n",
        "        line_as_file = io.StringIO(line)\n",
        "        \n",
        "        json_parser = ijson.parse(line_as_file)\n",
        "        for prefix,type,value in json_parser:\n",
        "            cnt+=1\n",
        "            if cnt in [5,7,9]:\n",
        "                if cnt==5:\n",
        "                    user.append(value)\n",
        "                elif cnt==7:\n",
        "                    store.append(value)\n",
        "                else:\n",
        "                    rating.append(float(value))\n",
        "                \n",
        "        cursor += len(line)"
      ]
    },
    {
      "cell_type": "code",
      "metadata": {
        "id": "EzeKxJX53JSJ",
        "colab_type": "code",
        "colab": {
          "base_uri": "https://localhost:8080/",
          "height": 102
        },
        "outputId": "9494f927-e51c-4661-ddaa-a0437087eb15"
      },
      "source": [
        "!pip install ijson"
      ],
      "execution_count": 3,
      "outputs": [
        {
          "output_type": "stream",
          "text": [
            "Collecting ijson\n",
            "\u001b[?25l  Downloading https://files.pythonhosted.org/packages/4f/dc/9fa0f204490229f9d4e40169ede79e1d6a29c432ff9061055aab3b517873/ijson-2.4-cp36-cp36m-manylinux1_x86_64.whl (59kB)\n",
            "\u001b[K     |████████████████████████████████| 61kB 5.2MB/s \n",
            "\u001b[?25hInstalling collected packages: ijson\n",
            "Successfully installed ijson-2.4\n"
          ],
          "name": "stdout"
        }
      ]
    },
    {
      "cell_type": "code",
      "metadata": {
        "id": "oQKjYgjF3hY4",
        "colab_type": "code",
        "outputId": "2638106f-1b10-4f4c-ba69-c34c02b1d7ec",
        "colab": {
          "base_uri": "https://localhost:8080/",
          "height": 122
        }
      },
      "source": [
        "from google.colab import drive\n",
        "\n",
        "drive.mount('/content/gdrive')"
      ],
      "execution_count": 1,
      "outputs": [
        {
          "output_type": "stream",
          "text": [
            "Go to this URL in a browser: https://accounts.google.com/o/oauth2/auth?client_id=947318989803-6bn6qk8qdgf4n4g3pfee6491hc0brc4i.apps.googleusercontent.com&redirect_uri=urn%3Aietf%3Awg%3Aoauth%3A2.0%3Aoob&scope=email%20https%3A%2F%2Fwww.googleapis.com%2Fauth%2Fdocs.test%20https%3A%2F%2Fwww.googleapis.com%2Fauth%2Fdrive%20https%3A%2F%2Fwww.googleapis.com%2Fauth%2Fdrive.photos.readonly%20https%3A%2F%2Fwww.googleapis.com%2Fauth%2Fpeopleapi.readonly&response_type=code\n",
            "\n",
            "Enter your authorization code:\n",
            "··········\n",
            "Mounted at /content/gdrive\n"
          ],
          "name": "stdout"
        }
      ]
    },
    {
      "cell_type": "markdown",
      "metadata": {
        "id": "nZmE4KpD30MZ",
        "colab_type": "text"
      },
      "source": [
        "with open('/content/gdrive/My Drive/foo.txt', 'w') as f:\n",
        "  f.write('Hello Google Drive!')\n",
        "!cat /content/gdrive/My\\ Drive/foo.txt"
      ]
    },
    {
      "cell_type": "code",
      "metadata": {
        "id": "Lf1tRK4k3fPh",
        "colab_type": "code",
        "outputId": "99563597-e4e8-474d-bb6f-6eb7227c44b4",
        "colab": {
          "base_uri": "https://localhost:8080/",
          "height": 34
        }
      },
      "source": [
        "import io\n",
        "import ijson\n",
        "\n",
        "user = []\n",
        "store =[]\n",
        "rating =[]\n",
        "\n",
        "with open(\"/content/gdrive/My Drive/review.json\",encoding=\"UTF-8\") as json_file:\n",
        "    cursor=0\n",
        "    for line_number,line in enumerate(json_file):\n",
        "        cnt=0\n",
        "        #print(\"{},{}\".format(line_number+1,cursor))\n",
        "        line_as_file = io.StringIO(line)\n",
        "        \n",
        "        json_parser = ijson.parse(line_as_file)\n",
        "        for prefix,type,value in json_parser:\n",
        "            cnt+=1\n",
        "            if cnt in [5,7,9]:\n",
        "                if cnt==5:\n",
        "                    user.append(value)\n",
        "                elif cnt==7:\n",
        "                    store.append(value)\n",
        "                else:\n",
        "                    rating.append(float(value))\n",
        "                \n",
        "        cursor += len(line)\n",
        "print(\"finish\")"
      ],
      "execution_count": 4,
      "outputs": [
        {
          "output_type": "stream",
          "text": [
            "finish\n"
          ],
          "name": "stdout"
        }
      ]
    },
    {
      "cell_type": "code",
      "metadata": {
        "id": "wp2mabsI3HyJ",
        "colab_type": "code",
        "outputId": "6b590002-88c7-4b3b-817c-9db7554b25ad",
        "colab": {
          "base_uri": "https://localhost:8080/",
          "height": 34
        }
      },
      "source": [
        "len(user)"
      ],
      "execution_count": 5,
      "outputs": [
        {
          "output_type": "execute_result",
          "data": {
            "text/plain": [
              "6685900"
            ]
          },
          "metadata": {
            "tags": []
          },
          "execution_count": 5
        }
      ]
    },
    {
      "cell_type": "code",
      "metadata": {
        "id": "DCd0JvEJ3HyN",
        "colab_type": "code",
        "outputId": "473d3d06-80aa-456e-b98b-1eb37f453194",
        "colab": {
          "base_uri": "https://localhost:8080/",
          "height": 34
        }
      },
      "source": [
        "len(store)"
      ],
      "execution_count": 6,
      "outputs": [
        {
          "output_type": "execute_result",
          "data": {
            "text/plain": [
              "6685900"
            ]
          },
          "metadata": {
            "tags": []
          },
          "execution_count": 6
        }
      ]
    },
    {
      "cell_type": "code",
      "metadata": {
        "id": "HjhMcKo83HyP",
        "colab_type": "code",
        "outputId": "ee054896-f1c3-4bdd-a860-7bb2073b3e0c",
        "colab": {
          "base_uri": "https://localhost:8080/",
          "height": 34
        }
      },
      "source": [
        "len(rating)"
      ],
      "execution_count": 7,
      "outputs": [
        {
          "output_type": "execute_result",
          "data": {
            "text/plain": [
              "6685900"
            ]
          },
          "metadata": {
            "tags": []
          },
          "execution_count": 7
        }
      ]
    },
    {
      "cell_type": "code",
      "metadata": {
        "id": "lJQtxdm93HyR",
        "colab_type": "code",
        "colab": {}
      },
      "source": [
        "import pandas as pd\n",
        "df = pd.DataFrame(columns=[[\"user\",\"store\",\"rating\"]])"
      ],
      "execution_count": 0,
      "outputs": []
    },
    {
      "cell_type": "code",
      "metadata": {
        "id": "QL_xwGIC3HyT",
        "colab_type": "code",
        "outputId": "23f0f0d2-c55d-45dd-d150-277f4e7eb829",
        "colab": {
          "base_uri": "https://localhost:8080/",
          "height": 49
        }
      },
      "source": [
        "df"
      ],
      "execution_count": 9,
      "outputs": [
        {
          "output_type": "execute_result",
          "data": {
            "text/html": [
              "<div>\n",
              "<style scoped>\n",
              "    .dataframe tbody tr th:only-of-type {\n",
              "        vertical-align: middle;\n",
              "    }\n",
              "\n",
              "    .dataframe tbody tr th {\n",
              "        vertical-align: top;\n",
              "    }\n",
              "\n",
              "    .dataframe thead tr th {\n",
              "        text-align: left;\n",
              "    }\n",
              "</style>\n",
              "<table border=\"1\" class=\"dataframe\">\n",
              "  <thead>\n",
              "    <tr>\n",
              "      <th></th>\n",
              "      <th>user</th>\n",
              "      <th>store</th>\n",
              "      <th>rating</th>\n",
              "    </tr>\n",
              "  </thead>\n",
              "  <tbody>\n",
              "  </tbody>\n",
              "</table>\n",
              "</div>"
            ],
            "text/plain": [
              "Empty DataFrame\n",
              "Columns: [(user,), (store,), (rating,)]\n",
              "Index: []"
            ]
          },
          "metadata": {
            "tags": []
          },
          "execution_count": 9
        }
      ]
    },
    {
      "cell_type": "code",
      "metadata": {
        "id": "qZIVGn2e3HyV",
        "colab_type": "code",
        "colab": {}
      },
      "source": [
        "df[\"user\"]=user"
      ],
      "execution_count": 0,
      "outputs": []
    },
    {
      "cell_type": "code",
      "metadata": {
        "id": "0qXjoWEV3HyX",
        "colab_type": "code",
        "colab": {}
      },
      "source": [
        "df[\"store\"]=store"
      ],
      "execution_count": 0,
      "outputs": []
    },
    {
      "cell_type": "code",
      "metadata": {
        "id": "IVBn7rH93HyZ",
        "colab_type": "code",
        "colab": {}
      },
      "source": [
        "df[\"rating\"]=rating"
      ],
      "execution_count": 0,
      "outputs": []
    },
    {
      "cell_type": "code",
      "metadata": {
        "id": "KdAUoeyr3Hyb",
        "colab_type": "code",
        "outputId": "62075996-c9e9-4517-ac40-a125b8218f2c",
        "colab": {
          "base_uri": "https://localhost:8080/",
          "height": 204
        }
      },
      "source": [
        "df.head()"
      ],
      "execution_count": 13,
      "outputs": [
        {
          "output_type": "execute_result",
          "data": {
            "text/html": [
              "<div>\n",
              "<style scoped>\n",
              "    .dataframe tbody tr th:only-of-type {\n",
              "        vertical-align: middle;\n",
              "    }\n",
              "\n",
              "    .dataframe tbody tr th {\n",
              "        vertical-align: top;\n",
              "    }\n",
              "\n",
              "    .dataframe thead tr th {\n",
              "        text-align: left;\n",
              "    }\n",
              "</style>\n",
              "<table border=\"1\" class=\"dataframe\">\n",
              "  <thead>\n",
              "    <tr>\n",
              "      <th></th>\n",
              "      <th>user</th>\n",
              "      <th>store</th>\n",
              "      <th>rating</th>\n",
              "    </tr>\n",
              "  </thead>\n",
              "  <tbody>\n",
              "    <tr>\n",
              "      <th>0</th>\n",
              "      <td>hG7b0MtEbXx5QzbzE6C_VA</td>\n",
              "      <td>ujmEBvifdJM6h6RLv4wQIg</td>\n",
              "      <td>1.0</td>\n",
              "    </tr>\n",
              "    <tr>\n",
              "      <th>1</th>\n",
              "      <td>yXQM5uF2jS6es16SJzNHfg</td>\n",
              "      <td>NZnhc2sEQy3RmzKTZnqtwQ</td>\n",
              "      <td>5.0</td>\n",
              "    </tr>\n",
              "    <tr>\n",
              "      <th>2</th>\n",
              "      <td>n6-Gk65cPZL6Uz8qRm3NYw</td>\n",
              "      <td>WTqjgwHlXbSFevF32_DJVw</td>\n",
              "      <td>5.0</td>\n",
              "    </tr>\n",
              "    <tr>\n",
              "      <th>3</th>\n",
              "      <td>dacAIZ6fTM6mqwW5uxkskg</td>\n",
              "      <td>ikCg8xy5JIg_NGPx-MSIDA</td>\n",
              "      <td>5.0</td>\n",
              "    </tr>\n",
              "    <tr>\n",
              "      <th>4</th>\n",
              "      <td>ssoyf2_x0EQMed6fgHeMyQ</td>\n",
              "      <td>b1b1eb3uo-w561D0ZfCEiQ</td>\n",
              "      <td>1.0</td>\n",
              "    </tr>\n",
              "  </tbody>\n",
              "</table>\n",
              "</div>"
            ],
            "text/plain": [
              "                     user                   store rating\n",
              "0  hG7b0MtEbXx5QzbzE6C_VA  ujmEBvifdJM6h6RLv4wQIg    1.0\n",
              "1  yXQM5uF2jS6es16SJzNHfg  NZnhc2sEQy3RmzKTZnqtwQ    5.0\n",
              "2  n6-Gk65cPZL6Uz8qRm3NYw  WTqjgwHlXbSFevF32_DJVw    5.0\n",
              "3  dacAIZ6fTM6mqwW5uxkskg  ikCg8xy5JIg_NGPx-MSIDA    5.0\n",
              "4  ssoyf2_x0EQMed6fgHeMyQ  b1b1eb3uo-w561D0ZfCEiQ    1.0"
            ]
          },
          "metadata": {
            "tags": []
          },
          "execution_count": 13
        }
      ]
    },
    {
      "cell_type": "code",
      "metadata": {
        "id": "XfCf8PpD3Hyd",
        "colab_type": "code",
        "colab": {}
      },
      "source": [
        "df.to_csv(\"/content/gdrive/My Drive/review.csv\",index=False)"
      ],
      "execution_count": 0,
      "outputs": []
    },
    {
      "cell_type": "code",
      "metadata": {
        "id": "tHix5kjE3Hyg",
        "colab_type": "code",
        "colab": {}
      },
      "source": [
        ""
      ],
      "execution_count": 0,
      "outputs": []
    }
  ]
}